{
 "cells": [
  {
   "cell_type": "markdown",
   "id": "3ee9aa22",
   "metadata": {},
   "source": [
    "# Term Project\n",
    "\n",
    "<h3>Ahmet Nasuhcan ÜNLÜ 171805062 <br>\n",
    "Ozan İrfan BAYAR 171805041<br>\n",
    "İlker MAVİLİ 181805084</h3>\n"
   ]
  },
  {
   "cell_type": "code",
   "execution_count": 1,
   "id": "cadd2af9",
   "metadata": {},
   "outputs": [
    {
     "name": "stderr",
     "output_type": "stream",
     "text": [
      "22/01/16 12:56:15 WARN Utils: Your hostname, Ahmets-MacBook-Pro.local resolves to a loopback address: 127.0.0.1; using 192.168.1.4 instead (on interface en0)\n",
      "22/01/16 12:56:15 WARN Utils: Set SPARK_LOCAL_IP if you need to bind to another address\n",
      "Using Spark's default log4j profile: org/apache/spark/log4j-defaults.properties\n",
      "Setting default log level to \"WARN\".\n",
      "To adjust logging level use sc.setLogLevel(newLevel). For SparkR, use setLogLevel(newLevel).\n",
      "22/01/16 12:56:16 WARN NativeCodeLoader: Unable to load native-hadoop library for your platform... using builtin-java classes where applicable\n"
     ]
    }
   ],
   "source": [
    "from pyspark import SparkConf\n",
    "from pyspark import SparkContext\n",
    "from pyspark.sql import SparkSession\n",
    "from pyspark.sql.functions import *\n",
    "import collections\n",
    "import pandas as pd\n",
    "import numpy as np \n",
    "import matplotlib.pyplot as plt\n",
    "import re\n",
    "import math\n",
    "import time\n",
    "\n",
    "conf=SparkConf().setAppName(\"BookRecommender\")\n",
    "sc = SparkContext.getOrCreate(conf=conf) \n",
    "sc.setCheckpointDir(\"/Users/anunlu/spark/Big-Data-Recommender-System/BX/CheckPointDir\")"
   ]
  },
  {
   "cell_type": "code",
   "execution_count": 2,
   "id": "91e2c5dc",
   "metadata": {},
   "outputs": [
    {
     "name": "stdout",
     "output_type": "stream",
     "text": [
      "======================================== System Information ========================================\n",
      "Hostname: Ahmets-MacBook-Pro.local\n",
      "Ip address: 127.0.0.1\n",
      "System: Darwin\n",
      "Release: 21.2.0\n",
      "Version: Darwin Kernel Version 21.2.0: Sun Nov 28 20:28:41 PST 2021; root:xnu-8019.61.5~1/RELEASE_ARM64_T6000\n",
      "Machine: arm64\n",
      "Processor: arm\n"
     ]
    }
   ],
   "source": [
    "import socket\n",
    "import platform\n",
    "hostname = socket.gethostname()\n",
    "ip = socket.gethostbyname(hostname)\n",
    "uname = platform.uname()\n",
    "print(\"=\"*40, \"System Information\", \"=\"*40)\n",
    "print(f\"Hostname: {hostname}\")\n",
    "print(f\"Ip address: {ip}\")\n",
    "print(f\"System: {uname.system}\")\n",
    "print(f\"Release: {uname.release}\")\n",
    "print(f\"Version: {uname.version}\")\n",
    "print(f\"Machine: {uname.machine}\")\n",
    "print(f\"Processor: {uname.processor}\")"
   ]
  },
  {
   "cell_type": "code",
   "execution_count": 3,
   "id": "34ec3095",
   "metadata": {},
   "outputs": [],
   "source": [
    "dfUser = sc.textFile(\"/Users/anunlu/spark/Big-Data-Recommender-System/BX/BX-Users.csv\")\n",
    "dfBooks = sc.textFile(\"/Users/anunlu/spark/Big-Data-Recommender-System/BX/BX-Books.csv\")\n",
    "dfRatings = sc.textFile(\"/Users/anunlu/spark/Big-Data-Recommender-System/BX/BX-Book-Ratings.csv\")"
   ]
  },
  {
   "cell_type": "code",
   "execution_count": 4,
   "id": "e09f73d6",
   "metadata": {},
   "outputs": [],
   "source": [
    "#Split DF's for each fields\n",
    "users_fields = dfUser.map(lambda lines: lines.replace('\"','').split(\";\"))\n",
    "books_fields = dfBooks.map(lambda lines: lines.replace('\"','').split(\";\"))\n",
    "rating_fields = dfRatings.map(lambda lines: lines.replace('\"','').split(\";\"))"
   ]
  },
  {
   "cell_type": "code",
   "execution_count": 5,
   "id": "3292fd06",
   "metadata": {},
   "outputs": [],
   "source": [
    "def handle_isbn(lst2):\n",
    "    lst = lst2.collect()\n",
    "    arr=[]\n",
    "    arr2=[]\n",
    "    for i in lst:\n",
    "        arr.append(re.sub(\"[^0-9]\",'1',i))\n",
    "    for i in arr:\n",
    "        if len(i)>=9:\n",
    "            arr2.append(int(i[len(i)-9:]))\n",
    "    return sc.parallelize(arr2)\n",
    "\n",
    "def handle_isbn_str(line):\n",
    "    line1 = re.sub(\"[^0-9]\",'1',line)\n",
    "    if len(line1)>=9:\n",
    "        line2 = int(line1[len(line1)-9:])\n",
    "        return int(line2)\n",
    "    else:\n",
    "        return int(line1)"
   ]
  },
  {
   "cell_type": "code",
   "execution_count": 6,
   "id": "a9e5ba89",
   "metadata": {},
   "outputs": [],
   "source": [
    "#Data Correction for Bad Data in Ages\n",
    "def handle_age(age):\n",
    "    try:\n",
    "        return int(age)\n",
    "    except:\n",
    "        return int(300)"
   ]
  },
  {
   "cell_type": "code",
   "execution_count": 7,
   "id": "ed9ba771",
   "metadata": {},
   "outputs": [
    {
     "name": "stderr",
     "output_type": "stream",
     "text": [
      "                                                                                \r"
     ]
    }
   ],
   "source": [
    "#USERS Fields\n",
    "users_id = users_fields.map(lambda field: field[0])\n",
    "users_location = users_fields.map(lambda field: field[1])\n",
    "users_age = users_fields.map(lambda field: field[2])\n",
    "\n",
    "#BOOKS Fields \n",
    "books_isbn = handle_isbn(books_fields.map(lambda field: field[0]))\n",
    "books_name = books_fields.map(lambda field: field[1])\n",
    "books_writer = books_fields.map(lambda field: field[2])\n",
    "books_press = books_fields.map(lambda field: field[3])\n",
    "\n",
    "#BOOK Rating Fields\n",
    "rating_users_id = rating_fields.map(lambda field: float(field[0]))\n",
    "rating_books_isbn = handle_isbn(rating_fields.map(lambda field: field[1]))\n",
    "rating_books_score = rating_fields.map(lambda field: float(field[2]))"
   ]
  },
  {
   "cell_type": "code",
   "execution_count": 8,
   "id": "a8c52c7e",
   "metadata": {},
   "outputs": [
    {
     "data": {
      "text/plain": [
       "(count: 167666, mean: 34.54562045972328, stdev: 13.769988967606256, max: 90.0, min: 0.0)"
      ]
     },
     "execution_count": 8,
     "metadata": {},
     "output_type": "execute_result"
    }
   ],
   "source": [
    "age_list = users_age.map(lambda item: handle_age(item))\n",
    "age_list_filtered = age_list.filter(lambda item: item <= 90 and item >=0 )\n",
    "age_counts = collections.OrderedDict(sorted(age_list_filtered.countByValue().items()))\n",
    "age_list_filtered.stats()"
   ]
  },
  {
   "cell_type": "code",
   "execution_count": 9,
   "id": "cb57e79a",
   "metadata": {},
   "outputs": [
    {
     "data": {
      "image/png": "[encoded data removed]",
      "text/plain": [
       "<Figure size 2160x720 with 1 Axes>"
      ]
     },
     "metadata": {
      "needs_background": "light"
     },
     "output_type": "display_data"
    }
   ],
   "source": [
    "age_values = list(age_counts.values())\n",
    "age_bins = list(age_counts.keys())\n",
    "plt.hist(age_list_filtered.collect(),bins=age_bins,density=True, edgecolor='black')\n",
    "plt.axvline(int(np.median(age_list_filtered.collect())),color='orange',label=f'Age Median Value :{int(np.median(age_list_filtered.collect()))}',linewidth=4)\n",
    "plt.legend()\n",
    "plt.title('Histogram and Median of the users age')\n",
    "plt.ylabel('Density')\n",
    "plt.xlabel('Age')\n",
    "fig=plt.gcf()\n",
    "fig.set_size_inches(30,10)"
   ]
  },
  {
   "cell_type": "code",
   "execution_count": 10,
   "id": "5e0ed071",
   "metadata": {},
   "outputs": [
    {
     "name": "stderr",
     "output_type": "stream",
     "text": [
      "/Users/anunlu/miniforge3/lib/python3.9/site-packages/pyspark/python/lib/pyspark.zip/pyspark/shuffle.py:60: UserWarning: Please install psutil to have better support with spilling\n",
      "/Users/anunlu/miniforge3/lib/python3.9/site-packages/pyspark/python/lib/pyspark.zip/pyspark/shuffle.py:60: UserWarning: Please install psutil to have better support with spilling\n",
      "/Users/anunlu/miniforge3/lib/python3.9/site-packages/pyspark/python/lib/pyspark.zip/pyspark/shuffle.py:60: UserWarning: Please install psutil to have better support with spilling\n",
      "                                                                                \r"
     ]
    },
    {
     "name": "stdout",
     "output_type": "stream",
     "text": [
      "TOP 10 Countries That The Most Data Collected: \n"
     ]
    },
    {
     "data": {
      "text/plain": [
       "[(' usa', 76495),\n",
       " (' spain', 12691),\n",
       " (' united kingdom', 12541),\n",
       " (' canada', 11385),\n",
       " (' germany', 10642),\n",
       " (' australia', 8896),\n",
       " (' italy', 5377),\n",
       " (' france', 3037),\n",
       " (' portugal', 2721),\n",
       " (' new zealand', 2026)]"
      ]
     },
     "execution_count": 10,
     "metadata": {},
     "output_type": "execute_result"
    }
   ],
   "source": [
    "#USERS' Countries Location\n",
    "location_fields = users_location.map(lambda x: x.replace('\"\"','').split(','))\n",
    "location_country = location_fields.map(lambda x: x[-1])\n",
    "\n",
    "#TOP 10 Countries That The Most Users Data Collected\n",
    "countryCounts = location_country.map(lambda word: (word,1)).reduceByKey(lambda a,b: a + b)\n",
    "orderedCountryCounts=countryCounts.sortBy(lambda x : x[1],ascending=False)\n",
    "print(f'TOP 10 Countries That The Most Data Collected: ')\n",
    "orderedCountryCounts.take(10)"
   ]
  },
  {
   "cell_type": "code",
   "execution_count": 11,
   "id": "52052082",
   "metadata": {},
   "outputs": [
    {
     "name": "stderr",
     "output_type": "stream",
     "text": [
      "No artists with labels found to put in legend.  Note that artists whose label start with an underscore are ignored when legend() is called with no argument.\n"
     ]
    },
    {
     "data": {
      "image/png": "[encoded data removed]",
      "text/plain": [
       "<Figure size 2160x720 with 1 Axes>"
      ]
     },
     "metadata": {
      "needs_background": "light"
     },
     "output_type": "display_data"
    }
   ],
   "source": [
    "x = orderedCountryCounts.keys().take(10)\n",
    "y = orderedCountryCounts.values().take(10)\n",
    "plt.bar(x, y, color = 'teal',)\n",
    "plt.xticks(rotation = -30)\n",
    "plt.legend()\n",
    "plt.title('TOP 10 Countries That The Most Users Data Collected')\n",
    "plt.xlabel('Countries')\n",
    "plt.ylabel('Counts')\n",
    "fig = plt.gcf()\n",
    "fig.set_size_inches(30,10)"
   ]
  },
  {
   "cell_type": "code",
   "execution_count": 12,
   "id": "13f71dda",
   "metadata": {},
   "outputs": [
    {
     "data": {
      "text/plain": [
       "(count: 397245, mean: 7.601852760890598, stdev: 1.8412729800421206, max: 10.0, min: 1.0)"
      ]
     },
     "execution_count": 12,
     "metadata": {},
     "output_type": "execute_result"
    }
   ],
   "source": [
    "rating_books_score.stats()"
   ]
  },
  {
   "cell_type": "code",
   "execution_count": 67,
   "id": "1eedbd3d",
   "metadata": {},
   "outputs": [
    {
     "name": "stderr",
     "output_type": "stream",
     "text": [
      "No artists with labels found to put in legend.  Note that artists whose label start with an underscore are ignored when legend() is called with no argument.\n"
     ]
    },
    {
     "data": {
      "image/png": "[encoded data removed]",
      "text/plain": [
       "<Figure size 2160x720 with 1 Axes>"
      ]
     },
     "metadata": {
      "needs_background": "light"
     },
     "output_type": "display_data"
    }
   ],
   "source": [
    "count_by_rating = rating_books_score.countByValue()\n",
    "x_axis = np.array(sorted(count_by_rating.keys()))\n",
    "y_axis = np.array([float(c) for c in count_by_rating.values()])\n",
    "y_axis_normed = y_axis / y_axis.sum()\n",
    "pos = np.arange(len(x_axis))\n",
    "width = 1.0\n",
    "ax  = plt.axes()\n",
    "ax.set_xticks(pos + (width / 2))\n",
    "ax.set_xticklabels(x_axis)\n",
    "\n",
    "plt.bar(pos, y_axis_normed, width, color = 'maroon', edgecolor='black')\n",
    "plt.legend()\n",
    "plt.title('Rating Distrubition')\n",
    "plt.xlabel('Ratings')\n",
    "fig = plt.gcf()\n",
    "fig.set_size_inches(30,10)\n"
   ]
  },
  {
   "cell_type": "code",
   "execution_count": 14,
   "id": "c402122d",
   "metadata": {},
   "outputs": [
    {
     "name": "stdout",
     "output_type": "stream",
     "text": [
      "\tFirst 5 raw ratings\n"
     ]
    },
    {
     "data": {
      "text/plain": [
       "[['8', '2005018', '5'],\n",
       " ['8', '074322678X', '5'],\n",
       " ['8', '887841740', '5'],\n",
       " ['8', '1552041778', '5'],\n",
       " ['8', '1567407781', '6']]"
      ]
     },
     "execution_count": 14,
     "metadata": {},
     "output_type": "execute_result"
    }
   ],
   "source": [
    "raw_ratings = rating_fields.map(lambda x : x)\n",
    "print('\\tFirst 5 raw ratings')\n",
    "raw_ratings.take(5)"
   ]
  },
  {
   "cell_type": "code",
   "execution_count": 15,
   "id": "012e0fb2",
   "metadata": {},
   "outputs": [
    {
     "name": "stdout",
     "output_type": "stream",
     "text": [
      "Ratings: [Rating(user=8, product=2005018, rating=5.0), Rating(user=8, product=743226781, rating=5.0), Rating(user=8, product=887841740, rating=5.0), Rating(user=8, product=552041778, rating=5.0), Rating(user=8, product=567407781, rating=6.0), Rating(user=8, product=575663937, rating=6.0), Rating(user=8, product=881320189, rating=7.0), Rating(user=9, product=452264464, rating=6.0), Rating(user=10, product=477024456, rating=6.0), Rating(user=12, product=879384493, rating=10.0)]\n"
     ]
    }
   ],
   "source": [
    "from pyspark.mllib.recommendation import ALS\n",
    "from pyspark.mllib.recommendation import Rating\n",
    "\n",
    "ratings = raw_ratings.map(lambda x : Rating(int(x[0]), handle_isbn_str(x[1]), int(x[2])))\n",
    "print(\"Ratings:\", ratings.take(10))\n",
    "\n",
    "train, test = ratings.randomSplit([0.7, 0.3])\n",
    "testData = test.map(lambda l : (int(l[0]), int(l[1])))"
   ]
  },
  {
   "cell_type": "code",
   "execution_count": 16,
   "id": "270c5ef1",
   "metadata": {},
   "outputs": [
    {
     "name": "stderr",
     "output_type": "stream",
     "text": [
      "22/01/16 12:57:15 WARN InstanceBuilder$NativeBLAS: Failed to load implementation from:dev.ludovic.netlib.blas.JNIBLAS\n",
      "22/01/16 12:57:15 WARN InstanceBuilder$NativeBLAS: Failed to load implementation from:dev.ludovic.netlib.blas.ForeignLinkerBLAS\n",
      "22/01/16 12:57:16 WARN InstanceBuilder$NativeLAPACK: Failed to load implementation from:dev.ludovic.netlib.lapack.JNILAPACK\n",
      "                                                                                \r"
     ]
    },
    {
     "name": "stdout",
     "output_type": "stream",
     "text": [
      "Runtime for 10_10_01:  10.75224494934082\n"
     ]
    },
    {
     "name": "stderr",
     "output_type": "stream",
     "text": [
      "                                                                                \r"
     ]
    },
    {
     "name": "stdout",
     "output_type": "stream",
     "text": [
      "Runtime for: 10_10_1:  5.475212812423706\n"
     ]
    },
    {
     "name": "stderr",
     "output_type": "stream",
     "text": [
      "                                                                                \r"
     ]
    },
    {
     "name": "stdout",
     "output_type": "stream",
     "text": [
      "Runtime for: 10_50_01:  13.218721151351929\n"
     ]
    },
    {
     "name": "stderr",
     "output_type": "stream",
     "text": [
      "                                                                                \r"
     ]
    },
    {
     "name": "stdout",
     "output_type": "stream",
     "text": [
      "Runtime for: 10_50_1:  11.572091102600098\n"
     ]
    },
    {
     "name": "stderr",
     "output_type": "stream",
     "text": [
      "                                                                                \r"
     ]
    },
    {
     "name": "stdout",
     "output_type": "stream",
     "text": [
      "Runtime for: 10_200_01:  37.990110874176025\n"
     ]
    },
    {
     "name": "stderr",
     "output_type": "stream",
     "text": [
      "                                                                                \r"
     ]
    },
    {
     "name": "stdout",
     "output_type": "stream",
     "text": [
      "Runtime for: 10_200_1:  34.57144618034363\n"
     ]
    }
   ],
   "source": [
    "start = time.time()\n",
    "model10_10_01 = ALS.train(train, 10,iterations=10,seed=5041,lambda_ = 0.01)\n",
    "end = time.time() - start\n",
    "print(\"Runtime for 10_10_01: \", end)\n",
    "\n",
    "start = time.time()\n",
    "model10_10_1 = ALS.train(train, 10,iterations=10,seed=5041,lambda_ = 0.1)\n",
    "end2 = time.time() - start\n",
    "print(\"Runtime for: 10_10_1: \", end2)\n",
    "\n",
    "start = time.time()\n",
    "model10_50_01 = ALS.train(train, 10,iterations=50,seed=5041,lambda_ = 0.01)\n",
    "end3 = time.time() - start\n",
    "print(\"Runtime for: 10_50_01: \", end3)\n",
    "\n",
    "start = time.time()\n",
    "model10_50_1 = ALS.train(train, 10,iterations=50,seed=5041,lambda_ = 0.1)\n",
    "end4 = time.time() - start\n",
    "print(\"Runtime for: 10_50_1: \", end4)\n",
    "\n",
    "start = time.time()\n",
    "model10_200_01 = ALS.train(train, 10,iterations=200,seed=5041,lambda_ = 0.01)\n",
    "end5 = time.time() - start\n",
    "print(\"Runtime for: 10_200_01: \", end5)\n",
    "\n",
    "start = time.time()\n",
    "model10_200_1 = ALS.train(train, 10,iterations=200,seed=5041,lambda_ = 0.1)\n",
    "end6 = time.time() - start\n",
    "print(\"Runtime for: 10_200_1: \", end6)"
   ]
  },
  {
   "cell_type": "code",
   "execution_count": 17,
   "id": "94d6922a",
   "metadata": {},
   "outputs": [
    {
     "name": "stderr",
     "output_type": "stream",
     "text": [
      "                                                                                \r"
     ]
    },
    {
     "name": "stdout",
     "output_type": "stream",
     "text": [
      "Runtime for: 50_10_01:  12.221063137054443\n"
     ]
    },
    {
     "name": "stderr",
     "output_type": "stream",
     "text": [
      "                                                                                \r"
     ]
    },
    {
     "name": "stdout",
     "output_type": "stream",
     "text": [
      "Runtime for: 50_10_1:  12.523693084716797\n"
     ]
    },
    {
     "name": "stderr",
     "output_type": "stream",
     "text": [
      "                                                                                \r"
     ]
    },
    {
     "name": "stdout",
     "output_type": "stream",
     "text": [
      "Runtime for: 50_50_01:  48.93638777732849\n"
     ]
    },
    {
     "name": "stderr",
     "output_type": "stream",
     "text": [
      "                                                                                \r"
     ]
    },
    {
     "name": "stdout",
     "output_type": "stream",
     "text": [
      "Runtime for: 50_50_1:  48.912221908569336\n"
     ]
    },
    {
     "name": "stderr",
     "output_type": "stream",
     "text": [
      "                                                                                \r"
     ]
    },
    {
     "name": "stdout",
     "output_type": "stream",
     "text": [
      "Runtime for: 50_200_01:  189.0335078239441\n"
     ]
    },
    {
     "name": "stderr",
     "output_type": "stream",
     "text": [
      "[Stage 6197:=====>                                                 (1 + 9) / 10]\r"
     ]
    },
    {
     "name": "stdout",
     "output_type": "stream",
     "text": [
      "Runtime for: 50_200_1:  191.04163789749146\n"
     ]
    },
    {
     "name": "stderr",
     "output_type": "stream",
     "text": [
      "                                                                                \r"
     ]
    }
   ],
   "source": [
    "start = time.time()\n",
    "model50_10_01 = ALS.train(train, 50,iterations=10,seed=5041,lambda_ = 0.01)\n",
    "end7 = time.time() - start\n",
    "print(\"Runtime for: 50_10_01: \", end7)\n",
    "\n",
    "start = time.time()\n",
    "model50_10_1 = ALS.train(train, 50,iterations=10,seed=5041,lambda_ = 0.1)\n",
    "end8 = time.time() - start\n",
    "print(\"Runtime for: 50_10_1: \", end8)\n",
    "\n",
    "start = time.time()\n",
    "model50_50_01 = ALS.train(train, 50,iterations=50,seed=5041,lambda_ = 0.01)\n",
    "end9 = time.time() - start\n",
    "print(\"Runtime for: 50_50_01: \", end9)\n",
    "\n",
    "start = time.time()\n",
    "model50_50_1 = ALS.train(train, 50,iterations=50,seed=5041,lambda_ = 0.1)\n",
    "end10 = time.time() - start\n",
    "print(\"Runtime for: 50_50_1: \", end10)\n",
    "\n",
    "start = time.time()\n",
    "model50_200_01= ALS.train(train, 50,iterations=200,seed=5041,lambda_ = 0.01)\n",
    "end11 = time.time() - start\n",
    "print(\"Runtime for: 50_200_01: \", end11)\n",
    "\n",
    "start = time.time()\n",
    "model50_200_1 = ALS.train(train, 50,iterations=200,seed=5041,lambda_ = 0.1)\n",
    "end12 = time.time() - start\n",
    "print(\"Runtime for: 50_200_1: \", end12)"
   ]
  },
  {
   "cell_type": "code",
   "execution_count": 18,
   "id": "a30f5d53",
   "metadata": {},
   "outputs": [
    {
     "name": "stderr",
     "output_type": "stream",
     "text": [
      "                                                                                \r"
     ]
    },
    {
     "name": "stdout",
     "output_type": "stream",
     "text": [
      "Runtime for: 200_10_01:  380.8048486709595\n"
     ]
    },
    {
     "name": "stderr",
     "output_type": "stream",
     "text": [
      "[Stage 6505:=================================================>     (9 + 1) / 10]\r"
     ]
    },
    {
     "name": "stdout",
     "output_type": "stream",
     "text": [
      "Runtime for: 200_10_1:  376.03299617767334\n"
     ]
    },
    {
     "name": "stderr",
     "output_type": "stream",
     "text": [
      "                                                                                \r"
     ]
    }
   ],
   "source": [
    "start = time.time()\n",
    "model200_10_01 = ALS.train(train, 200,iterations=10,seed=5041,lambda_ = 0.01)\n",
    "end13 = time.time() - start\n",
    "print(\"Runtime for: 200_10_01: \", end13)\n",
    "\n",
    "start = time.time()\n",
    "model200_10_1 = ALS.train(train, 200,iterations=10,seed=5041,lambda_ = 0.1)\n",
    "end14 = time.time() - start\n",
    "print(\"Runtime for: 200_10_1: \", end14)"
   ]
  },
  {
   "cell_type": "code",
   "execution_count": 19,
   "id": "b9dff4cf",
   "metadata": {},
   "outputs": [
    {
     "name": "stderr",
     "output_type": "stream",
     "text": [
      "                                                                                \r"
     ]
    },
    {
     "name": "stdout",
     "output_type": "stream",
     "text": [
      "Runtime for: 200_50_01:  1760.4675028324127\n"
     ]
    }
   ],
   "source": [
    "start = time.time()\n",
    "model200_50_01 = ALS.train(train, 200,iterations=50,seed=5041,lambda_ = 0.01)\n",
    "end15 = time.time() - start\n",
    "print(\"Runtime for: 200_50_01: \", end15)\n"
   ]
  },
  {
   "cell_type": "code",
   "execution_count": 22,
   "id": "fd2ecb73",
   "metadata": {},
   "outputs": [
    {
     "name": "stderr",
     "output_type": "stream",
     "text": [
      "[Stage 8263:=================================================>     (9 + 1) / 10]\r"
     ]
    },
    {
     "name": "stdout",
     "output_type": "stream",
     "text": [
      "Runtime for: 200_50_1:  1820.0759308338165\n"
     ]
    },
    {
     "name": "stderr",
     "output_type": "stream",
     "text": [
      "                                                                                \r"
     ]
    }
   ],
   "source": [
    "start = time.time()\n",
    "model200_50_1 = ALS.train(train, 200,iterations=50,seed=5041,lambda_ = 0.1)\n",
    "end16 = time.time() - start\n",
    "print(\"Runtime for: 200_50_1: \", end16)"
   ]
  },
  {
   "cell_type": "code",
   "execution_count": 20,
   "id": "4ede6752",
   "metadata": {},
   "outputs": [
    {
     "name": "stderr",
     "output_type": "stream",
     "text": [
      "[Stage 7917:=================================================>     (9 + 1) / 10]\r"
     ]
    },
    {
     "name": "stdout",
     "output_type": "stream",
     "text": [
      "Runtime for: 200_200_01:  7455.598545074463\n"
     ]
    },
    {
     "name": "stderr",
     "output_type": "stream",
     "text": [
      "                                                                                \r"
     ]
    }
   ],
   "source": [
    "start = time.time()\n",
    "model200_200_01 = ALS.train(train, 200,iterations=200,seed=5041,lambda_ = 0.01)\n",
    "end17 = time.time() - start\n",
    "print(\"Runtime for: 200_200_01: \", end17)\n"
   ]
  },
  {
   "cell_type": "code",
   "execution_count": 23,
   "id": "3de72a2d",
   "metadata": {},
   "outputs": [
    {
     "name": "stderr",
     "output_type": "stream",
     "text": [
      "[Stage 9329:=================================================>     (9 + 1) / 10]\r"
     ]
    },
    {
     "name": "stdout",
     "output_type": "stream",
     "text": [
      "Runtime for: 200_200_1:  7404.228876113892\n"
     ]
    },
    {
     "name": "stderr",
     "output_type": "stream",
     "text": [
      "                                                                                \r"
     ]
    }
   ],
   "source": [
    "start = time.time()\n",
    "model200_200_1 = ALS.train(train, 200,iterations=200,seed=5041,lambda_ = 0.1)\n",
    "end18 = time.time() - start\n",
    "print(\"Runtime for: 200_200_1: \", end18)"
   ]
  },
  {
   "cell_type": "code",
   "execution_count": 59,
   "id": "1ac272eb",
   "metadata": {},
   "outputs": [
    {
     "name": "stderr",
     "output_type": "stream",
     "text": [
      "No artists with labels found to put in legend.  Note that artists whose label start with an underscore are ignored when legend() is called with no argument.\n"
     ]
    },
    {
     "data": {
      "image/png": "[encoded data removed]",
      "text/plain": [
       "<Figure size 2160x720 with 1 Axes>"
      ]
     },
     "metadata": {
      "needs_background": "light"
     },
     "output_type": "display_data"
    }
   ],
   "source": [
    "arr = ['10_10_01', '10_10_1', '10_50_01', '10_50_1', '10_200_01', '10_200_1', '50_10_01', '50_10_1', '50_50_01', '50_50_1', '50_200_01', '50_200_1', '200_10_01', '200_10_1', '200_50_01', '200_50_1','200_200_01', '200_200_1']\n",
    "arr2 = [end, end2, end3, end4, end5, end6, end7, end8, end9, end10, end11, end12, end13, end14, end15, end16, end17, end18]\n",
    "plt.bar(arr, arr2, color = 'purple')\n",
    "plt.xticks(rotation = -45)\n",
    "plt.legend()\n",
    "plt.title('Execution Time Comparison Table')\n",
    "plt.xlabel('Model')\n",
    "plt.ylabel('Time(secs)')\n",
    "fig = plt.gcf()\n",
    "fig.set_size_inches(30,10)"
   ]
  },
  {
   "cell_type": "code",
   "execution_count": 27,
   "id": "4594fa86",
   "metadata": {},
   "outputs": [
    {
     "name": "stdout",
     "output_type": "stream",
     "text": [
      "\tFirst Model's First 10 Users and Their Item Scores: \n"
     ]
    },
    {
     "data": {
      "text/plain": [
       "[(110,\n",
       "  array('d', [0.043104954063892365, -0.0526752844452858, 0.17055317759513855, 0.1293935775756836, -0.4238441288471222, 0.42954719066619873, 0.17447443306446075, 0.22338339686393738, -0.11956851184368134, -0.1727270781993866])),\n",
       " (160,\n",
       "  array('d', [0.26378220319747925, 0.14461293816566467, -0.3491942882537842, 0.09207641333341599, -0.11777094006538391, -0.08207397162914276, 0.6556273102760315, -0.16278040409088135, 0.5470301508903503, -0.44641366600990295])),\n",
       " (190,\n",
       "  array('d', [0.29453760385513306, 0.1970537006855011, 0.26818573474884033, -0.31558334827423096, -0.02913682535290718, 0.4166734516620636, 0.2169923186302185, -0.6416890621185303, -0.029980111867189407, -0.5143747329711914])),\n",
       " (230,\n",
       "  array('d', [0.17417262494564056, -0.14698252081871033, -0.04143406078219414, 0.09493660181760788, -0.06808796525001526, 0.12537313997745514, 0.15740156173706055, 0.2791374623775482, -0.02380210906267166, 0.1253649890422821])),\n",
       " (280,\n",
       "  array('d', [-0.13544894754886627, -0.09721831977367401, 0.38323676586151123, 0.14078252017498016, 0.03292333334684372, 0.18316377699375153, -0.5268588066101074, 0.3347605764865875, 0.11582183837890625, 0.12514886260032654])),\n",
       " (300,\n",
       "  array('d', [0.016787709668278694, -0.29555511474609375, -0.42310547828674316, -0.12331897765398026, 0.010738595388829708, -0.10555292665958405, 0.06666005402803421, 0.26931118965148926, -0.5845462679862976, -0.7693625688552856])),\n",
       " (310,\n",
       "  array('d', [0.1217164471745491, -0.026894690468907356, 0.20603075623512268, 0.3957383334636688, -0.30945461988449097, -0.12029489129781723, 0.16657754778862, -0.2835870087146759, -0.14689886569976807, 0.4330342411994934])),\n",
       " (430,\n",
       "  array('d', [-0.06169241666793823, 0.059530604630708694, 0.4941667318344116, -0.01630794256925583, 0.11289092153310776, -0.18022193014621735, -0.10445759445428848, 0.38773396611213684, -0.000121414712339174, -0.11810662597417831])),\n",
       " (440,\n",
       "  array('d', [-0.3365323543548584, -0.3519551753997803, 0.16183923184871674, 0.06400959938764572, -0.1626352220773697, -0.17706480622291565, -0.43411481380462646, 0.07690992951393127, -0.2189360111951828, -0.1296825259923935])),\n",
       " (460,\n",
       "  array('d', [-0.09330948442220688, 0.023015404120087624, 0.5288447141647339, 0.12123680859804153, 0.5478149056434631, 0.11000126600265503, 0.19181443750858307, -0.1874832808971405, -0.5500429272651672, -0.4551139175891876]))]"
      ]
     },
     "execution_count": 27,
     "metadata": {},
     "output_type": "execute_result"
    }
   ],
   "source": [
    "print('\\tFirst Model\\'s First 10 Users and Their Item Scores: ')\n",
    "model10_10_01.userFeatures().take(10)"
   ]
  },
  {
   "cell_type": "code",
   "execution_count": 28,
   "id": "9028f98c",
   "metadata": {},
   "outputs": [
    {
     "name": "stdout",
     "output_type": "stream",
     "text": [
      "\tFirst Model's First 10 Items and Their User Scores: \n"
     ]
    },
    {
     "data": {
      "text/plain": [
       "[(0,\n",
       "  array('d', [-3.4488413333892822, 2.997420310974121, 3.7541449069976807, 3.3781442642211914, 5.378175735473633, -2.6668310165405273, 1.9575395584106445, 4.034571170806885, 0.41758444905281067, -2.9766454696655273])),\n",
       " (10,\n",
       "  array('d', [-2.078667163848877, -0.3745116591453552, 1.2811903953552246, -0.13255661725997925, -0.5648002028465271, 4.343715190887451, -0.4106789827346802, -4.980429172515869, 1.6521509885787964, -0.6451542973518372])),\n",
       " (20,\n",
       "  array('d', [-2.338500499725342, -0.42132559418678284, 1.4413392543792725, -0.14912620186805725, -0.6354002356529236, 4.886679172515869, -0.462013840675354, -5.602982997894287, 1.8586698770523071, -0.7257985472679138])),\n",
       " (90,\n",
       "  array('d', [-0.171432763338089, -1.5183128118515015, 2.185380697250366, -4.335897922515869, -3.4567010402679443, -2.816450834274292, 3.8044519424438477, -1.4043858051300049, -3.903435468673706, -2.4384922981262207])),\n",
       " (18030,\n",
       "  array('d', [-1.2769666910171509, -3.164249897003174, -0.36388346552848816, -0.015269146300852299, 0.13921348750591278, 3.388655185699463, -1.6639468669891357, 1.9247819185256958, -0.2793281674385071, 0.22230343520641327])),\n",
       " (30670,\n",
       "  array('d', [-1.8592599630355835, -1.5310003757476807, -0.14071498811244965, -2.4134521484375, -0.9068183302879333, -0.5079290270805359, -2.4908998012542725, 3.5248336791992188, 1.500536322593689, 0.9995248317718506])),\n",
       " (51010,\n",
       "  array('d', [-1.06288480758667, -1.426284909248352, 0.44731560349464417, 4.00968599319458, -2.2936148643493652, 0.6936870217323303, -0.13547004759311676, 0.5663313865661621, -0.11860611289739609, 0.18578888475894928])),\n",
       " (61110,\n",
       "  array('d', [1.4877400398254395, -0.200503408908844, 3.172940969467163, 0.6897645592689514, 0.9281173348426819, 2.792659282684326, 1.0879037380218506, 2.3623721599578857, -0.9617976546287537, 1.7015799283981323])),\n",
       " (74910,\n",
       "  array('d', [1.6487935781478882, -2.5964200496673584, 1.234039545059204, 1.118249773979187, -2.5013980865478516, 3.5837185382843018, -2.121044158935547, -0.5186247229576111, -3.212740659713745, -1.9636914730072021])),\n",
       " (81160,\n",
       "  array('d', [2.6205949783325195, 0.31286144256591797, 6.182888031005859, -0.013549390248954296, 0.9888068437576294, 0.06320922821760178, -1.1407471895217896, 0.1442173272371292, 2.5357954502105713, 4.6026434898376465]))]"
      ]
     },
     "execution_count": 28,
     "metadata": {},
     "output_type": "execute_result"
    }
   ],
   "source": [
    "print('\\tFirst Model\\'s First 10 Items and Their User Scores: ')\n",
    "model10_10_01.productFeatures().take(10)"
   ]
  },
  {
   "cell_type": "code",
   "execution_count": 29,
   "id": "243d1538",
   "metadata": {},
   "outputs": [],
   "source": [
    "# Cosine Similarity Function\n",
    "def cosineSimilarity(item_id,a,b):\n",
    "    dot = np.dot(a,b)\n",
    "    norma = np.linalg.norm(a)\n",
    "    normb = np.linalg.norm(b)\n",
    "    cos = dot / (norma * normb)\n",
    "    return item_id, cos"
   ]
  },
  {
   "cell_type": "code",
   "execution_count": 41,
   "id": "13b7a93f",
   "metadata": {},
   "outputs": [],
   "source": [
    "# Creating Models with Using ALS Train Dataset\n",
    "def modelCreate(modelItem,test,normalTest):\n",
    "    itemId = 81160\n",
    "    userId = 33933\n",
    "    itemVector = modelItem.productFeatures().lookup(itemId)[0]\n",
    "    print(\"Item Vector:\", itemVector)\n",
    "\n",
    "    predicted_rating = modelItem.predict(userId,itemId)\n",
    "    print(f'Predicted rating for specific {itemId} and {userId}: {predicted_rating}')\n",
    "\n",
    "    predictions = modelItem.predictAll(test)\n",
    "    print(\"First Prediction: \" ,predictions.first())\n",
    "    \n",
    "    K = 10\n",
    "    top_k_recs = modelItem.recommendProducts(userId,K)\n",
    "    print(f'Top {K} book recommendations for {userId}')\n",
    "    for i in top_k_recs:\n",
    "        print(i)\n",
    "\n",
    "    print(\"\\n///////\\n\")\n",
    "\n",
    "    topKitem = modelItem.recommendUsers(itemId,K)\n",
    "    print(f'Top {K} user recommendations for book: {itemId}')\n",
    "    for i in topKitem:\n",
    "        print(i)\n",
    "\n",
    "    sims = modelItem.productFeatures().map(lambda data : cosineSimilarity(data[0],data[1],itemVector))\n",
    "    print(\"\\n\")\n",
    "    print(\"Cosine Similarity For Top 10: \", sims.top(10,key= lambda x : x[1]))\n",
    "\n",
    "    print(\"--------------------------\")\n",
    "    allPredictedRatings = predictions.map(lambda l: (float(l[2])))\n",
    "    print(allPredictedRatings.take(5))\n",
    "    print(\"--------------------------\")\n",
    "\n",
    "    print(\"--------------------------\")\n",
    "    allTestRatings = normalTest.map(lambda l : (float(l[2])))\n",
    "    print(allTestRatings.take(5))\n",
    "    print(\"--------------------------\")\n",
    "\n",
    "    arr_allPredictedRatings= allPredictedRatings.collect()\n",
    "    arr_allTestRatings = allTestRatings.collect()\n",
    "    arr_allId = test.collect()\n",
    "    \n",
    "    arr = zip(arr_allId,arr_allPredictedRatings,arr_allTestRatings)\n",
    "    print('First 10 Original versus Predicted ratings')\n",
    "    sum = 0\n",
    "    \n",
    "    n = len(arr_allPredictedRatings)\n",
    "    for i in range(0,n):\n",
    "        difference = arr_allTestRatings[i] - arr_allPredictedRatings[i] \n",
    "        squared_difference = difference * difference\n",
    "        sum = sum + squared_difference\n",
    "    MSE = sum/n\n",
    "    RMSE = math.sqrt(MSE)\n",
    "    return [[itemVector],[predicted_rating],[predictions],[top_k_recs],[topKitem],[sims],[allPredictedRatings],[allTestRatings],[tuple(arr)],MSE,RMSE]\n"
   ]
  },
  {
   "cell_type": "code",
   "execution_count": 31,
   "id": "0ca72d75",
   "metadata": {},
   "outputs": [
    {
     "name": "stderr",
     "output_type": "stream",
     "text": [
      "                                                                                \r"
     ]
    }
   ],
   "source": [
    "Book_ISBN_Name_Map=books_fields.map(lambda x: (handle_isbn_str(x[0]),x[1])).collectAsMap()"
   ]
  },
  {
   "cell_type": "code",
   "execution_count": 32,
   "id": "999b4b3f",
   "metadata": {},
   "outputs": [
    {
     "name": "stderr",
     "output_type": "stream",
     "text": [
      "                                                                                \r"
     ]
    },
    {
     "data": {
      "text/plain": [
       "[Rating(user=33933, product=375706771, rating=5.0),\n",
       " Rating(user=33933, product=380713748, rating=5.0),\n",
       " Rating(user=33933, product=380763656, rating=5.0),\n",
       " Rating(user=33933, product=881500208, rating=5.0),\n",
       " Rating(user=33933, product=61097497, rating=7.0),\n",
       " Rating(user=33933, product=345384911, rating=7.0),\n",
       " Rating(user=33933, product=446360589, rating=7.0),\n",
       " Rating(user=33933, product=345298731, rating=8.0),\n",
       " Rating(user=33933, product=345339495, rating=8.0),\n",
       " Rating(user=33933, product=345353145, rating=8.0),\n",
       " Rating(user=33933, product=345368991, rating=8.0),\n",
       " Rating(user=33933, product=345380371, rating=8.0),\n",
       " Rating(user=33933, product=380710218, rating=8.0),\n",
       " Rating(user=33933, product=425154092, rating=8.0),\n",
       " Rating(user=33933, product=440213525, rating=8.0),\n",
       " Rating(user=33933, product=440214041, rating=8.0),\n",
       " Rating(user=33933, product=440217520, rating=8.0),\n",
       " Rating(user=33933, product=441003389, rating=8.0),\n",
       " Rating(user=33933, product=446515078, rating=8.0),\n",
       " Rating(user=33933, product=449221504, rating=8.0),\n",
       " Rating(user=33933, product=770104517, rating=8.0),\n",
       " Rating(user=33933, product=345327861, rating=9.0),\n",
       " Rating(user=33933, product=671509871, rating=9.0),\n",
       " Rating(user=33933, product=441813046, rating=10.0),\n",
       " Rating(user=33933, product=446603988, rating=10.0)]"
      ]
     },
     "execution_count": 32,
     "metadata": {},
     "output_type": "execute_result"
    }
   ],
   "source": [
    "books_by_user = ratings.keyBy(lambda x : x.user).lookup(33933)\n",
    "books_by_user"
   ]
  },
  {
   "cell_type": "code",
   "execution_count": 38,
   "id": "55ae840f",
   "metadata": {},
   "outputs": [
    {
     "data": {
      "text/plain": [
       "25"
      ]
     },
     "execution_count": 38,
     "metadata": {},
     "output_type": "execute_result"
    }
   ],
   "source": [
    "len(books_by_user)"
   ]
  },
  {
   "cell_type": "code",
   "execution_count": 33,
   "id": "f5367cb9",
   "metadata": {},
   "outputs": [
    {
     "name": "stdout",
     "output_type": "stream",
     "text": [
      "\tUser Rated\n"
     ]
    },
    {
     "data": {
      "text/plain": [
       "[('Titan', 10.0),\n",
       " ('The Hippopotamus Pool (Amelia Peabody Mysteries (Paperback))', 10.0),\n",
       " ('Crystal Singer', 9.0),\n",
       " (\"Winter's Tale\", 9.0),\n",
       " ('Moreta: Dragonlady of Pern', 8.0),\n",
       " (\"Nerilka's Story (Dragonriders of Pern (Paperback))\", 8.0),\n",
       " ('Sphere', 8.0),\n",
       " ('The Chronicles of Pern: 1st Fall (The Dragonriders of Pern)', 8.0),\n",
       " ('Rising Sun', 8.0),\n",
       " ('Postmortem', 8.0)]"
      ]
     },
     "execution_count": 33,
     "metadata": {},
     "output_type": "execute_result"
    }
   ],
   "source": [
    "#User Rated\n",
    "books_by_user.sort(reverse = True, key = lambda x: x.rating)\n",
    "print('\\tUser Rated')\n",
    "sc.parallelize(books_by_user[:10]).map(lambda rating: (Book_ISBN_Name_Map[rating.product], rating.rating)).collect()"
   ]
  },
  {
   "cell_type": "code",
   "execution_count": 35,
   "id": "93183aff",
   "metadata": {},
   "outputs": [
    {
     "name": "stdout",
     "output_type": "stream",
     "text": [
      "\tALS Recommend\n"
     ]
    },
    {
     "data": {
      "text/plain": [
       "[(\"Thumper's Little Sisters Fun-To-Read Library Vol.2\", 26.67714207574988),\n",
       " ('Wizard of Oz Postcards in Full Color (Card Books)', 24.934340801690563),\n",
       " ('The Shining', 24.896158185579978),\n",
       " ('If Only It Were True', 24.16467141962802),\n",
       " ('Le Combat ordinaire, tome 1', 23.70749122836607),\n",
       " ('Sense and Sensibility (Wordsworth Classics)', 23.5952725600483),\n",
       " (\"I can do it myself: Featuring Jim Henson's Sesame Street muppets\",\n",
       "  23.583219861286658),\n",
       " (\"Chicken Soup for the Couple's Soul (Chicken Soup for the Soul)\",\n",
       "  23.23916077858971),\n",
       " ('The Golden Compass (His Dark Materials, Book 1)', 23.114180381551783),\n",
       " (\"The Magical Household: Spells &amp, Rituals for the Home (Llewellyn's Practical Magick Series)\",\n",
       "  22.837874005071697)]"
      ]
     },
     "execution_count": 35,
     "metadata": {},
     "output_type": "execute_result"
    }
   ],
   "source": [
    "print('\\tALS Recommend')\n",
    "top_k_recs=model10_10_01.recommendProducts(33933,10)\n",
    "sc.parallelize(top_k_recs).map(lambda rating: (Book_ISBN_Name_Map[rating.product], rating.rating)).collect()\n"
   ]
  },
  {
   "cell_type": "code",
   "execution_count": 77,
   "id": "a20aded8",
   "metadata": {},
   "outputs": [
    {
     "name": "stdout",
     "output_type": "stream",
     "text": [
      "\tALS Recommend that has Minimum RMSE Value\n"
     ]
    },
    {
     "data": {
      "text/plain": [
       "[('Titan', 9.976675931151313),\n",
       " ('Dune (Remembering Tomorrow)', 9.897097353117973),\n",
       " ('The Return of the King (The Lord of the Rings, Part 3)', 9.67146481041655),\n",
       " (\"Ender's Game (Ender Wiggins Saga (Paperback))\", 9.439850386796705),\n",
       " ('Wizard and Glass (The Dark Tower, Book 4)', 9.417753279695077),\n",
       " ('The Two Towers (The Lord of the Rings, Part 2)', 9.37787168983112),\n",
       " ('The Hobbit : The Enchanting Prelude to The Lord of the Rings',\n",
       "  9.312813812981306),\n",
       " ('Harry Potter and the Prisoner of Azkaban (Book 3)', 9.270850246985592),\n",
       " ('Maus a Survivors Tale: My Father Bleeds History', 9.223470860655919),\n",
       " (\"My Sister's Keeper : A Novel (Picoult, Jodi)\", 9.218495528553476)]"
      ]
     },
     "execution_count": 77,
     "metadata": {},
     "output_type": "execute_result"
    }
   ],
   "source": [
    "print('\\tALS Recommend that has Minimum RMSE Value')\n",
    "top_k_recs=model50_50_01.recommendProducts(33933,10)\n",
    "sc.parallelize(top_k_recs).map(lambda rating: (Book_ISBN_Name_Map[rating.product], rating.rating)).collect()"
   ]
  },
  {
   "cell_type": "code",
   "execution_count": 69,
   "id": "a181b73d",
   "metadata": {},
   "outputs": [
    {
     "name": "stdout",
     "output_type": "stream",
     "text": [
      "\tALS Recommend that has Minimum RMSE Value\n"
     ]
    },
    {
     "name": "stderr",
     "output_type": "stream",
     "text": [
      "                                                                                \r"
     ]
    },
    {
     "data": {
      "text/plain": [
       "[('Titan', 9.974005912787725),\n",
       " (\"Ender's Game (Ender Wiggins Saga (Paperback))\", 9.338520619650806),\n",
       " ('Harry Potter and the Prisoner of Azkaban (Book 3)', 9.290752007946011),\n",
       " ('Wolves of the Calla (The Dark Tower, Book 5)', 9.140919077312903),\n",
       " ('The Return of the King (The Lord of the Rings, Part 3)', 9.077819904287406),\n",
       " ('The Calvin and Hobbes Tenth Anniversary Book', 9.02260784983266),\n",
       " ('The Fellowship of the Ring (The Lord of the Rings, Part 1)',\n",
       "  9.0092766966513),\n",
       " ('The Two Towers (The Lord of the Rings, Part 2)', 8.998889770165846),\n",
       " (\"Winter's Tale\", 8.989993069941438),\n",
       " ('Harry Potter and the Prisoner of Azkaban (Book 3)', 8.986221159461156)]"
      ]
     },
     "execution_count": 69,
     "metadata": {},
     "output_type": "execute_result"
    }
   ],
   "source": [
    "print('\\tALS Recommend that has Minimum RMSE Value')\n",
    "top_k_recs=model200_50_01.recommendProducts(33933,10)\n",
    "sc.parallelize(top_k_recs).map(lambda rating: (Book_ISBN_Name_Map[rating.product], rating.rating)).collect()"
   ]
  },
  {
   "cell_type": "code",
   "execution_count": 55,
   "id": "46fb705b",
   "metadata": {},
   "outputs": [
    {
     "name": "stdout",
     "output_type": "stream",
     "text": [
      "\tALS Recommend that has Minimum RMSE Value\n"
     ]
    },
    {
     "data": {
      "text/plain": [
       "[('Titan', 9.957538686988931),\n",
       " (\"Ender's Game (Ender Wiggins Saga (Paperback))\", 9.56989341135812),\n",
       " ('Harry Potter and the Goblet of Fire (Book 4)', 9.532632588052405),\n",
       " ('Harry Potter and the Prisoner of Azkaban (Book 3)', 9.424042762758077),\n",
       " ('84 Charing Cross Road', 9.410963004890537),\n",
       " ('Mangrove Squeeze', 9.323091876977323),\n",
       " (\"\\\\Surely You're Joking, Mr. Feynman!\\\\: Adventures of a Curious Character\",\n",
       "  9.290815654546417),\n",
       " ('Harry Potter and the Chamber of Secrets Postcard Book', 9.27820770050233),\n",
       " ('Mostly True: Collected Stories &amp, Drawings', 9.124582233436957),\n",
       " ('Harry Potter and the Chamber of Secrets (Book 2)', 9.112534788801963)]"
      ]
     },
     "execution_count": 55,
     "metadata": {},
     "output_type": "execute_result"
    }
   ],
   "source": [
    "print('\\tALS Recommend that has Minimum RMSE Value')\n",
    "top_k_recs=model200_200_01.recommendProducts(33933,10)\n",
    "sc.parallelize(top_k_recs).map(lambda rating: (Book_ISBN_Name_Map[rating.product], rating.rating)).collect()"
   ]
  },
  {
   "cell_type": "code",
   "execution_count": 42,
   "id": "62da479f",
   "metadata": {},
   "outputs": [
    {
     "name": "stdout",
     "output_type": "stream",
     "text": [
      "Item Vector: array('d', [2.6205949783325195, 0.31286144256591797, 6.182888031005859, -0.013549390248954296, 0.9888068437576294, 0.06320922821760178, -1.1407471895217896, 0.1442173272371292, 2.5357954502105713, 4.6026434898376465])\n",
      "Predicted rating for specific 81160 and 33933: 6.859238553833844\n",
      "First Prediction:  Rating(user=160011, product=380759470, rating=0.5895825844499019)\n",
      "Top 10 book recommendations for 33933\n",
      "Rating(user=33933, product=553055747, rating=26.67714207574988)\n",
      "Rating(user=33933, product=486250334, rating=24.934340801690563)\n",
      "Rating(user=33933, product=385121679, rating=24.896158185579978)\n",
      "Rating(user=33933, product=743406176, rating=24.16467141962802)\n",
      "Rating(user=33933, product=205054252, rating=23.70749122836607)\n",
      "Rating(user=33933, product=853260169, rating=23.5952725600483)\n",
      "Rating(user=33933, product=307231046, rating=23.583219861286658)\n",
      "Rating(user=33933, product=558746463, rating=23.23916077858971)\n",
      "Rating(user=33933, product=679893105, rating=23.114180381551783)\n",
      "Rating(user=33933, product=875421245, rating=22.837874005071697)\n",
      "\n",
      "///////\n",
      "\n",
      "Top 10 user recommendations for book: 81160\n",
      "Rating(user=72785, product=81160, rating=42.17186728887502)\n",
      "Rating(user=86819, product=81160, rating=37.224299681033926)\n",
      "Rating(user=93377, product=81160, rating=34.392279032941794)\n",
      "Rating(user=50165, product=81160, rating=34.034833108237926)\n",
      "Rating(user=49314, product=81160, rating=33.73797818998155)\n",
      "Rating(user=10199, product=81160, rating=31.550686315304535)\n",
      "Rating(user=133418, product=81160, rating=31.309914676535477)\n",
      "Rating(user=239847, product=81160, rating=31.21737265944455)\n",
      "Rating(user=36978, product=81160, rating=31.120363662328895)\n",
      "Rating(user=109864, product=81160, rating=30.38841473961633)\n",
      "\n",
      "\n",
      "Cosine Similarity For Top 10:  [(81160, 1.0000000000000002), (1311, 1.0000000000000002), (11021, 1.0000000000000002), (41361, 1.0000000000000002), (51131, 1.0000000000000002), (51191, 1.0000000000000002), (66111, 1.0000000000000002), (68111, 1.0000000000000002), (69111, 1.0000000000000002), (181911, 1.0000000000000002)]\n",
      "--------------------------\n",
      "[0.5895825844499019, 7.497555297546084, 6.471896397296267, -1.075609547019842, 0.7227287823275911]\n",
      "--------------------------\n",
      "--------------------------\n",
      "[6.0, 6.0, 6.0, 6.0, 7.0]\n",
      "--------------------------\n",
      "First 10 Original versus Predicted ratings\n",
      "Item Vector: array('d', [-0.47961342334747314, -1.0040677785873413, 3.3605148792266846, 0.5680739879608154, 0.523675262928009, 0.02222537063062191, -1.369027853012085, 0.593677818775177, 0.07207787781953812, 2.320761203765869])\n",
      "Predicted rating for specific 81160 and 33933: 5.120594228936198\n",
      "First Prediction:  Rating(user=160011, product=380759470, rating=4.86600539283728)\n",
      "Top 10 book recommendations for 33933\n",
      "Rating(user=33933, product=140431683, rating=14.313459560640858)\n",
      "Rating(user=33933, product=437604941, rating=13.964971328885525)\n",
      "Rating(user=33933, product=373226391, rating=13.15643176468499)\n",
      "Rating(user=33933, product=385086954, rating=13.09906883429096)\n",
      "Rating(user=33933, product=140089179, rating=13.072182027776265)\n",
      "Rating(user=33933, product=61091669, rating=12.976828205994307)\n",
      "Rating(user=33933, product=140143505, rating=12.890890628974795)\n",
      "Rating(user=33933, product=517219018, rating=12.852885265322096)\n",
      "Rating(user=33933, product=492260799, rating=12.829256811669017)\n",
      "Rating(user=33933, product=679724771, rating=12.74515448338543)\n",
      "\n",
      "///////\n",
      "\n",
      "Top 10 user recommendations for book: 81160\n",
      "Rating(user=152309, product=81160, rating=14.675449062503157)\n",
      "Rating(user=189855, product=81160, rating=12.570606071129347)\n",
      "Rating(user=140410, product=81160, rating=11.927042675916956)\n",
      "Rating(user=143809, product=81160, rating=11.839259612286787)\n",
      "Rating(user=52438, product=81160, rating=11.787944935086536)\n",
      "Rating(user=194699, product=81160, rating=11.750832372586457)\n",
      "Rating(user=228738, product=81160, rating=11.749373421537674)\n",
      "Rating(user=60255, product=81160, rating=11.693644469868758)\n",
      "Rating(user=74185, product=81160, rating=11.534838268159735)\n",
      "Rating(user=212579, product=81160, rating=11.497863700638714)\n",
      "\n",
      "\n",
      "Cosine Similarity For Top 10:  [(81160, 1.0), (1311, 1.0), (11021, 1.0), (31111, 1.0), (41361, 1.0), (51131, 1.0), (51191, 1.0), (66111, 1.0), (68111, 1.0), (69111, 1.0)]\n",
      "--------------------------\n",
      "[4.86600539283728, 6.0313239106183, 8.67392039622423, -0.5129533987456509, 3.8951527271053097]\n",
      "--------------------------\n",
      "--------------------------\n",
      "[6.0, 6.0, 6.0, 6.0, 7.0]\n",
      "--------------------------\n",
      "First 10 Original versus Predicted ratings\n",
      "Item Vector: array('d', [-0.07106771320104599, -0.7046801447868347, 5.246322154998779, 0.4782365560531616, 0.1335955411195755, 3.1659631729125977, -0.6358487010002136, 2.1922597885131836, 0.4983866214752197, -0.18856045603752136])\n",
      "Predicted rating for specific 81160 and 33933: 3.3553344483987146\n",
      "First Prediction:  Rating(user=160011, product=380759470, rating=4.582538038011117)\n",
      "Top 10 book recommendations for 33933\n",
      "Rating(user=33933, product=373226391, rating=15.425136624208335)\n",
      "Rating(user=33933, product=425102378, rating=15.27881519239399)\n",
      "Rating(user=33933, product=892819049, rating=15.243103751544718)\n",
      "Rating(user=33933, product=684819295, rating=15.053780418436176)\n",
      "Rating(user=33933, product=590568760, rating=15.011044085501586)\n",
      "Rating(user=33933, product=679724516, rating=14.965540021895293)\n",
      "Rating(user=33933, product=156010593, rating=14.940420028513847)\n",
      "Rating(user=33933, product=373790945, rating=14.780564606499773)\n",
      "Rating(user=33933, product=373790988, rating=14.767050974932086)\n",
      "Rating(user=33933, product=312853238, rating=14.70633507404683)\n",
      "\n",
      "///////\n",
      "\n",
      "Top 10 user recommendations for book: 81160\n",
      "Rating(user=133418, product=81160, rating=21.118849742661503)\n",
      "Rating(user=50165, product=81160, rating=20.0368044860665)\n",
      "Rating(user=95043, product=81160, rating=16.9668372734972)\n",
      "Rating(user=113752, product=81160, rating=16.779295383489764)\n",
      "Rating(user=3556, product=81160, rating=16.569619495360612)\n",
      "Rating(user=185087, product=81160, rating=16.396316297202077)\n",
      "Rating(user=139524, product=81160, rating=16.35351110164888)\n",
      "Rating(user=45287, product=81160, rating=16.31760536057039)\n",
      "Rating(user=67402, product=81160, rating=16.304943397574633)\n",
      "Rating(user=6431, product=81160, rating=16.291344339500572)\n",
      "\n",
      "\n",
      "Cosine Similarity For Top 10:  [(81160, 1.0000000000000002), (1311, 1.0000000000000002), (11021, 1.0000000000000002), (41361, 1.0000000000000002), (51131, 1.0000000000000002), (51191, 1.0000000000000002), (66111, 1.0000000000000002), (68111, 1.0000000000000002), (69111, 1.0000000000000002), (181911, 1.0000000000000002)]\n",
      "--------------------------\n",
      "[4.582538038011117, 5.246484324168226, 8.46113553961603, -0.8793040962908503, 2.604996923118486]\n",
      "--------------------------\n",
      "--------------------------\n",
      "[6.0, 6.0, 6.0, 6.0, 7.0]\n",
      "--------------------------\n",
      "First 10 Original versus Predicted ratings\n",
      "Item Vector: array('d', [-1.487746238708496, -1.424931526184082, 0.6557194590568542, 0.6765091419219971, -0.2269459217786789, 0.981651782989502, -1.787357211112976, 1.1066021919250488, 0.5679324269294739, 0.5910038352012634])\n",
      "Predicted rating for specific 81160 and 33933: 7.93692560411331\n"
     ]
    },
    {
     "name": "stderr",
     "output_type": "stream",
     "text": [
      "                                                                                \r"
     ]
    },
    {
     "name": "stdout",
     "output_type": "stream",
     "text": [
      "First Prediction:  Rating(user=160011, product=380759470, rating=6.013746921074878)\n",
      "Top 10 book recommendations for 33933\n",
      "Rating(user=33933, product=441007317, rating=11.680209361148764)\n",
      "Rating(user=33933, product=330315765, rating=11.157561099985461)\n",
      "Rating(user=33933, product=574551108, rating=11.055794568356879)\n",
      "Rating(user=33933, product=575601868, rating=11.019253857371199)\n",
      "Rating(user=33933, product=590451790, rating=10.964871359101444)\n",
      "Rating(user=33933, product=91765463, rating=10.811707120694862)\n",
      "Rating(user=33933, product=373118597, rating=10.802292857149512)\n",
      "Rating(user=33933, product=722321684, rating=10.658508592648435)\n",
      "Rating(user=33933, product=451198352, rating=10.645831120538928)\n",
      "Rating(user=33933, product=60953020, rating=10.608386891395892)\n",
      "\n",
      "///////\n",
      "\n",
      "Top 10 user recommendations for book: 81160\n",
      "Rating(user=217389, product=81160, rating=12.54703101616197)\n",
      "Rating(user=81587, product=81160, rating=12.277962407140318)\n",
      "Rating(user=79323, product=81160, rating=12.23369485837271)\n",
      "Rating(user=44024, product=81160, rating=12.172222418601594)\n",
      "Rating(user=190618, product=81160, rating=12.128682912005821)\n",
      "Rating(user=226038, product=81160, rating=11.955300997374986)\n",
      "Rating(user=87959, product=81160, rating=11.71452666832555)\n",
      "Rating(user=204500, product=81160, rating=11.713199136288662)\n",
      "Rating(user=210222, product=81160, rating=11.700534093582096)\n",
      "Rating(user=242663, product=81160, rating=11.65017928942943)\n",
      "\n",
      "\n",
      "Cosine Similarity For Top 10:  [(81160, 1.0), (1311, 1.0), (11021, 1.0), (41361, 1.0), (51131, 1.0), (51191, 1.0), (66111, 1.0), (68111, 1.0), (69111, 1.0), (181911, 1.0)]\n",
      "--------------------------\n",
      "[6.013746921074878, 6.579144610665126, 8.406699178080892, 2.051296179388243, 6.281896051601629]\n",
      "--------------------------\n",
      "--------------------------\n",
      "[6.0, 6.0, 6.0, 6.0, 7.0]\n",
      "--------------------------\n",
      "First 10 Original versus Predicted ratings\n",
      "Item Vector: array('d', [-1.2860456705093384, -0.8808560371398926, 1.5247734785079956, 1.9421039819717407, -1.1388682126998901, 2.0602149963378906, -1.083797574043274, 1.7038246393203735, 0.37767669558525085, -0.419903039932251])\n",
      "Predicted rating for specific 81160 and 33933: 5.83512537807828\n",
      "First Prediction:  Rating(user=160011, product=380759470, rating=6.626445949979196)\n",
      "Top 10 book recommendations for 33933\n",
      "Rating(user=33933, product=60922249, rating=11.418323907551587)\n",
      "Rating(user=33933, product=425128164, rating=11.361268336105729)\n",
      "Rating(user=33933, product=345469674, rating=11.323572668245788)\n",
      "Rating(user=33933, product=425183238, rating=11.166384457769759)\n",
      "Rating(user=33933, product=684819295, rating=11.087137539019736)\n",
      "Rating(user=33933, product=420633127, rating=11.021615500777493)\n",
      "Rating(user=33933, product=553578316, rating=10.843055487097317)\n",
      "Rating(user=33933, product=64440508, rating=10.843012259723373)\n",
      "Rating(user=33933, product=452266564, rating=10.812970594930245)\n",
      "Rating(user=33933, product=804115400, rating=10.717396632157794)\n",
      "\n",
      "///////\n",
      "\n",
      "Top 10 user recommendations for book: 81160\n",
      "Rating(user=174326, product=81160, rating=12.409978437908212)\n",
      "Rating(user=105108, product=81160, rating=12.314624781986755)\n",
      "Rating(user=204500, product=81160, rating=12.298399231300042)\n",
      "Rating(user=20118, product=81160, rating=12.109582938277406)\n",
      "Rating(user=222665, product=81160, rating=12.08609086227744)\n",
      "Rating(user=170829, product=81160, rating=11.879378805391736)\n",
      "Rating(user=154781, product=81160, rating=11.68107250818161)\n",
      "Rating(user=14667, product=81160, rating=11.594778068199252)\n",
      "Rating(user=225812, product=81160, rating=11.59450939383692)\n",
      "Rating(user=26043, product=81160, rating=11.574803382937164)\n",
      "\n",
      "\n",
      "Cosine Similarity For Top 10:  [(81160, 1.0), (1311, 1.0), (11021, 1.0), (31111, 1.0), (41361, 1.0), (51131, 1.0), (51191, 1.0), (66111, 1.0), (68111, 1.0), (69111, 1.0)]\n",
      "--------------------------\n",
      "[6.626445949979196, 7.081106507046412, 8.508922658772324, -0.12221575509696447, 4.450492016076023]\n",
      "--------------------------\n",
      "--------------------------\n",
      "[6.0, 6.0, 6.0, 6.0, 7.0]\n",
      "--------------------------\n",
      "First 10 Original versus Predicted ratings\n",
      "Item Vector: array('d', [-1.2532258033752441, -1.0842103958129883, 0.48603203892707825, 0.8703091740608215, -0.8032301664352417, 0.651927649974823, -1.5634173154830933, 1.5896931886672974, 0.6889994740486145, 0.0390116348862648])\n",
      "Predicted rating for specific 81160 and 33933: 8.198265543425789\n",
      "First Prediction:  Rating(user=160011, product=380759470, rating=7.317624569748677)\n",
      "Top 10 book recommendations for 33933\n",
      "Rating(user=33933, product=722321684, rating=12.027079251524723)\n",
      "Rating(user=33933, product=441007317, rating=11.72102275964901)\n",
      "Rating(user=33933, product=876054807, rating=11.399063118119354)\n",
      "Rating(user=33933, product=802151027, rating=11.386392148665621)\n",
      "Rating(user=33933, product=556611897, rating=11.282473907257648)\n",
      "Rating(user=33933, product=330315765, rating=11.247530422812185)\n",
      "Rating(user=33933, product=393046591, rating=11.177579876018047)\n",
      "Rating(user=33933, product=841950947, rating=11.075576499169077)\n",
      "Rating(user=33933, product=91765463, rating=11.058210636830573)\n",
      "Rating(user=33933, product=373118597, rating=11.010200235830938)\n",
      "\n",
      "///////\n",
      "\n",
      "Top 10 user recommendations for book: 81160\n",
      "Rating(user=226038, product=81160, rating=11.85582247240331)\n",
      "Rating(user=204500, product=81160, rating=11.76905321680596)\n",
      "Rating(user=2576, product=81160, rating=11.699363554288134)\n",
      "Rating(user=44024, product=81160, rating=11.698714531121695)\n",
      "Rating(user=223188, product=81160, rating=11.580025667250968)\n",
      "Rating(user=180243, product=81160, rating=11.49788387319)\n",
      "Rating(user=190618, product=81160, rating=11.461165469707005)\n",
      "Rating(user=23924, product=81160, rating=11.417529699587837)\n",
      "Rating(user=176893, product=81160, rating=11.391982186582629)\n",
      "Rating(user=227251, product=81160, rating=11.35712647726728)\n",
      "\n",
      "\n",
      "Cosine Similarity For Top 10:  [(81160, 1.0), (1311, 1.0), (11021, 1.0), (41361, 1.0), (51131, 1.0), (51191, 1.0), (66111, 1.0), (68111, 1.0), (69111, 1.0), (181911, 1.0)]\n",
      "--------------------------\n",
      "[7.317624569748677, 5.978586486606554, 8.610831748752222, 3.46587686497789, 6.249545459424212]\n",
      "--------------------------\n",
      "--------------------------\n",
      "[6.0, 6.0, 6.0, 6.0, 7.0]\n",
      "--------------------------\n",
      "First 10 Original versus Predicted ratings\n"
     ]
    },
    {
     "name": "stderr",
     "output_type": "stream",
     "text": [
      "                                                                                \r"
     ]
    },
    {
     "name": "stdout",
     "output_type": "stream",
     "text": [
      "Item Vector: array('d', [0.4337233304977417, 0.8750868439674377, 0.47246816754341125, -0.946162760257721, 0.5913349986076355, 0.5957428812980652, 1.5586241483688354, 1.9455482959747314, -0.3845420181751251, 1.356164813041687, 1.0524526834487915, 0.9834745526313782, 0.2158583402633667, -1.7050352096557617, -0.8206275105476379, 1.2703756093978882, -0.052482347935438156, 0.8302388787269592, -0.36582624912261963, -0.8861056566238403, -1.849726676940918, 0.40602484345436096, -1.3334293365478516, -0.9964275360107422, 0.8746362924575806, 1.9169384241104126, -0.7227672338485718, 1.7886549234390259, -0.6584903001785278, -2.332965850830078, -0.5764893889427185, -0.9859074354171753, 0.2173212468624115, -0.6579252481460571, -2.7741451263427734, 0.27050769329071045, 1.3739511966705322, 0.8170783519744873, 1.511132001876831, 0.439937561750412, 0.6380749940872192, 0.25793731212615967, -0.3458701968193054, 3.664240837097168, -0.71665358543396, 2.9866836071014404, -1.39064359664917, -1.3836688995361328, 0.2941080927848816, -0.3303317427635193])\n",
      "Predicted rating for specific 81160 and 33933: -0.11137100892643303\n"
     ]
    },
    {
     "name": "stderr",
     "output_type": "stream",
     "text": [
      "22/01/16 18:34:31 WARN Executor: Managed memory leak detected; size = 5267604 bytes, task 0.0 in stage 11488.0 (TID 35934)\n",
      "22/01/16 18:34:31 WARN ExecutionMemoryPool: Internal error: release called on 5267604 bytes but task only has 0 bytes of memory from the on-heap execution pool\n"
     ]
    },
    {
     "name": "stdout",
     "output_type": "stream",
     "text": [
      "First Prediction:  Rating(user=160011, product=380759470, rating=-1.2831031696680926)\n",
      "Top 10 book recommendations for 33933\n",
      "Rating(user=33933, product=618002243, rating=10.99837996014102)\n",
      "Rating(user=33933, product=70360024, rating=10.046651769917032)\n",
      "Rating(user=33933, product=618002235, rating=10.007403265829426)\n",
      "Rating(user=33933, product=441813046, rating=9.999835523818923)\n",
      "Rating(user=33933, product=449221490, rating=9.95363374177573)\n",
      "Rating(user=33933, product=553802526, rating=9.887906018800349)\n",
      "Rating(user=33933, product=684867621, rating=9.883650784140867)\n",
      "Rating(user=33933, product=61000027, rating=9.732034940862631)\n",
      "Rating(user=33933, product=842332261, rating=9.72838607159504)\n",
      "Rating(user=33933, product=486264785, rating=9.727178832462894)\n",
      "\n",
      "///////\n",
      "\n",
      "Top 10 user recommendations for book: 81160\n",
      "Rating(user=74287, product=81160, rating=9.99817891803752)\n",
      "Rating(user=224430, product=81160, rating=7.725011713814988)\n",
      "Rating(user=179734, product=81160, rating=7.508060296521164)\n",
      "Rating(user=8253, product=81160, rating=7.3493244649421525)\n",
      "Rating(user=86189, product=81160, rating=7.11316342006204)\n",
      "Rating(user=178667, product=81160, rating=7.041374126174663)\n",
      "Rating(user=94494, product=81160, rating=6.948191054700373)\n",
      "Rating(user=5582, product=81160, rating=6.86732499886377)\n",
      "Rating(user=144531, product=81160, rating=6.851560215820671)\n",
      "Rating(user=238120, product=81160, rating=6.524473060403808)\n",
      "\n",
      "\n",
      "Cosine Similarity For Top 10:  [(81160, 0.9999999999999998), (1311, 0.9999999999999998), (11021, 0.9999999999999998), (41361, 0.9999999999999998), (51131, 0.9999999999999998), (51191, 0.9999999999999998), (66111, 0.9999999999999998), (68111, 0.9999999999999998), (69111, 0.9999999999999998), (181911, 0.9999999999999998)]\n",
      "--------------------------\n",
      "[-1.2831031696680926, 2.496879112644697, 4.482751927865083, -1.6381343083944315, 0.15307565532637096]\n",
      "--------------------------\n",
      "--------------------------\n",
      "[6.0, 6.0, 6.0, 6.0, 7.0]\n",
      "--------------------------\n",
      "First 10 Original versus Predicted ratings\n",
      "Item Vector: array('d', [0.12329722940921783, -0.7383822202682495, 1.1302517652511597, -1.1251877546310425, 0.45494019985198975, -0.3279997706413269, 0.987115204334259, 1.791602611541748, 0.50760418176651, 0.07723195850849152, -1.0991171598434448, 0.6564035415649414, -0.2005210816860199, -0.5470165610313416, -0.6473592519760132, 0.010089639574289322, 0.8405688405036926, -0.1763146072626114, 0.9079635143280029, -0.5063549280166626, 0.22259080410003662, -0.3886735141277313, -0.8067377209663391, -0.6982105374336243, -0.11057071387767792, 0.7184770703315735, 0.07821918278932571, 0.2675479054450989, 0.18072043359279633, 1.0399234294891357, 0.1977556049823761, 0.2099672555923462, -0.9627783894538879, -0.14743869006633759, -1.0512099266052246, -0.24550773203372955, 0.2106979787349701, 1.0966466665267944, 1.8128012418746948, 0.01072885561734438, -0.09092584252357483, 0.2271432876586914, -1.4663267135620117, 0.27976730465888977, 0.18447266519069672, 0.45800578594207764, -0.7628300786018372, -0.3328036367893219, -0.19447700679302216, -0.17478665709495544])\n",
      "Predicted rating for specific 81160 and 33933: 7.690065670679145\n"
     ]
    },
    {
     "name": "stderr",
     "output_type": "stream",
     "text": [
      "22/01/16 18:34:35 WARN Executor: Managed memory leak detected; size = 5267604 bytes, task 0.0 in stage 11747.0 (TID 36010)\n",
      "22/01/16 18:34:35 WARN ExecutionMemoryPool: Internal error: release called on 5267604 bytes but task only has 0 bytes of memory from the on-heap execution pool\n"
     ]
    },
    {
     "name": "stdout",
     "output_type": "stream",
     "text": [
      "First Prediction:  Rating(user=160011, product=380759470, rating=6.4255323168349285)\n",
      "Top 10 book recommendations for 33933\n",
      "Rating(user=33933, product=553247778, rating=10.401546769112505)\n",
      "Rating(user=33933, product=836220889, rating=10.203020935432011)\n",
      "Rating(user=33933, product=553141406, rating=10.152266802643153)\n",
      "Rating(user=33933, product=399132635, rating=10.067601530247728)\n",
      "Rating(user=33933, product=60256656, rating=9.987282478483788)\n",
      "Rating(user=33933, product=70360024, rating=9.986783170795348)\n",
      "Rating(user=33933, product=726080630, rating=9.98288990690474)\n",
      "Rating(user=33933, product=578591201, rating=9.92421693927879)\n",
      "Rating(user=33933, product=671697994, rating=9.828312873635749)\n",
      "Rating(user=33933, product=394823370, rating=9.82620535189116)\n",
      "\n",
      "///////\n",
      "\n",
      "Top 10 user recommendations for book: 81160\n",
      "Rating(user=220095, product=81160, rating=10.99639502481786)\n",
      "Rating(user=182459, product=81160, rating=10.816546359723969)\n",
      "Rating(user=179791, product=81160, rating=10.783665744985306)\n",
      "Rating(user=41013, product=81160, rating=10.767895325641467)\n",
      "Rating(user=193676, product=81160, rating=10.754735918876975)\n",
      "Rating(user=88122, product=81160, rating=10.617900129981532)\n",
      "Rating(user=165769, product=81160, rating=10.615645406973126)\n",
      "Rating(user=206305, product=81160, rating=10.52762553959571)\n",
      "Rating(user=29817, product=81160, rating=10.510482455844077)\n",
      "Rating(user=85925, product=81160, rating=10.488582315329253)\n",
      "\n",
      "\n"
     ]
    },
    {
     "name": "stderr",
     "output_type": "stream",
     "text": [
      "22/01/16 18:34:36 WARN Executor: Managed memory leak detected; size = 5267604 bytes, task 0.0 in stage 11884.0 (TID 36043)\n",
      "22/01/16 18:34:36 WARN ExecutionMemoryPool: Internal error: release called on 5267604 bytes but task only has 0 bytes of memory from the on-heap execution pool\n"
     ]
    },
    {
     "name": "stdout",
     "output_type": "stream",
     "text": [
      "Cosine Similarity For Top 10:  [(81160, 0.9999999999999999), (1311, 0.9999999999999999), (11021, 0.9999999999999999), (41361, 0.9999999999999999), (51131, 0.9999999999999999), (51191, 0.9999999999999999), (66111, 0.9999999999999999), (68111, 0.9999999999999999), (69111, 0.9999999999999999), (181911, 0.9999999999999999)]\n",
      "--------------------------\n",
      "[6.4255323168349285, 5.56643607412919, 7.330795366749297, -2.224857479899124, 4.066790607234861]\n",
      "--------------------------\n",
      "--------------------------\n",
      "[6.0, 6.0, 6.0, 6.0, 7.0]\n",
      "--------------------------\n"
     ]
    },
    {
     "name": "stderr",
     "output_type": "stream",
     "text": [
      "                                                                                \r"
     ]
    },
    {
     "name": "stdout",
     "output_type": "stream",
     "text": [
      "First 10 Original versus Predicted ratings\n",
      "Item Vector: array('d', [0.7637742161750793, -0.09342660009860992, 1.1785234212875366, -1.5658105611801147, 0.06967450678348541, -1.1649798154830933, 1.9591742753982544, 2.095982313156128, 0.40325361490249634, -0.17067812383174896, -1.5270107984542847, 0.2473658174276352, -0.45557382702827454, -1.0331884622573853, -0.48187845945358276, -0.7047642469406128, 0.6967658996582031, 0.3739161789417267, 1.020624041557312, 0.334390789270401, -0.1949867606163025, -0.7930101156234741, -0.5954208970069885, -0.5143181681632996, 0.16626746952533722, 0.8399645686149597, 0.35903024673461914, -0.8705000877380371, -0.6491926312446594, 0.786653459072113, 1.140060305595398, -0.321857213973999, -1.8839408159255981, -0.9416062235832214, -1.6317377090454102, -1.0852068662643433, 1.1628810167312622, 1.988776683807373, 0.49411627650260925, 0.6910057663917542, -0.4466194808483124, 0.3766973316669464, -1.6026350259780884, 0.5532528162002563, 0.6704389452934265, -0.784361720085144, -0.5180444717407227, -1.117289423942566, -1.255599856376648, -0.5423893332481384])\n",
      "Predicted rating for specific 81160 and 33933: 5.424324582765186\n"
     ]
    },
    {
     "name": "stderr",
     "output_type": "stream",
     "text": [
      "22/01/16 18:34:39 WARN Executor: Managed memory leak detected; size = 5267604 bytes, task 0.0 in stage 12006.0 (TID 36086)\n",
      "22/01/16 18:34:39 WARN ExecutionMemoryPool: Internal error: release called on 5267604 bytes but task only has 0 bytes of memory from the on-heap execution pool\n"
     ]
    },
    {
     "name": "stdout",
     "output_type": "stream",
     "text": [
      "First Prediction:  Rating(user=160011, product=380759470, rating=5.545413697296577)\n",
      "Top 10 book recommendations for 33933\n",
      "Rating(user=33933, product=441813046, rating=9.976675931151313)\n",
      "Rating(user=33933, product=441172717, rating=9.897097353117973)\n",
      "Rating(user=33933, product=345339738, rating=9.67146481041655)\n",
      "Rating(user=33933, product=812550706, rating=9.439850386796705)\n",
      "Rating(user=33933, product=451194861, rating=9.417753279695077)\n",
      "Rating(user=33933, product=618002235, rating=9.37787168983112)\n",
      "Rating(user=33933, product=345339681, rating=9.312813812981306)\n",
      "Rating(user=33933, product=439136369, rating=9.270850246985592)\n",
      "Rating(user=33933, product=394747232, rating=9.223470860655919)\n",
      "Rating(user=33933, product=743454529, rating=9.218495528553476)\n",
      "\n",
      "///////\n",
      "\n",
      "Top 10 user recommendations for book: 81160\n",
      "Rating(user=74287, product=81160, rating=10.00031003689677)\n",
      "Rating(user=49460, product=81160, rating=8.931619714690768)\n",
      "Rating(user=226038, product=81160, rating=8.848704943597847)\n",
      "Rating(user=204500, product=81160, rating=8.829578845342553)\n",
      "Rating(user=23924, product=81160, rating=8.765519134202535)\n",
      "Rating(user=44024, product=81160, rating=8.662439960254797)\n",
      "Rating(user=30081, product=81160, rating=8.567567099469041)\n",
      "Rating(user=106768, product=81160, rating=8.510573429029229)\n",
      "Rating(user=100306, product=81160, rating=8.49280441953455)\n",
      "Rating(user=164640, product=81160, rating=8.457673583108678)\n",
      "\n",
      "\n",
      "Cosine Similarity For Top 10:  [(81160, 1.0), (1311, 1.0), (11021, 1.0), (41361, 1.0), (51131, 1.0), (51191, 1.0), (66111, 1.0), (68111, 1.0), (69111, 1.0), (181911, 1.0)]\n",
      "--------------------------\n",
      "[5.545413697296577, 5.871110962153208, 8.263843327909331, -1.0319451796272388, 2.9675717987543964]\n",
      "--------------------------\n",
      "--------------------------\n",
      "[6.0, 6.0, 6.0, 6.0, 7.0]\n",
      "--------------------------\n"
     ]
    },
    {
     "name": "stderr",
     "output_type": "stream",
     "text": [
      "22/01/16 18:34:40 WARN Executor: Managed memory leak detected; size = 5267604 bytes, task 0.0 in stage 12143.0 (TID 36119)\n",
      "22/01/16 18:34:40 WARN ExecutionMemoryPool: Internal error: release called on 5267604 bytes but task only has 0 bytes of memory from the on-heap execution pool\n"
     ]
    },
    {
     "name": "stdout",
     "output_type": "stream",
     "text": [
      "First 10 Original versus Predicted ratings\n",
      "Item Vector: array('d', [0.23307862877845764, -0.4976085126399994, 0.6639963984489441, -0.028824636712670326, -0.05600482597947121, -0.09427463263273239, 0.3429943025112152, 1.0308716297149658, 0.18990929424762726, -0.1286277323961258, -1.0141873359680176, 0.0858316496014595, -0.22588805854320526, -0.08683209866285324, 0.10320878773927689, -0.09731964766979218, 0.6438212394714355, 0.4175301492214203, 0.15144957602024078, 0.08952309191226959, 0.730176568031311, -0.11860634386539459, -0.3249000310897827, -0.3881913125514984, -0.12411777675151825, 0.059145428240299225, 0.4222949147224426, 0.7377711534500122, -0.03693739324808121, 0.9718542695045471, 0.009438765235245228, 0.05502377450466156, -0.7195268869400024, -0.39689162373542786, -0.5971713662147522, 0.06730815023183823, 0.023951172828674316, 0.7938134074211121, 1.1645872592926025, 0.14347989857196808, -0.38048359751701355, -0.0453714020550251, -1.0348820686340332, 0.04837410897016525, 0.44026246666908264, 0.21979199349880219, -0.19610457122325897, 0.021536678075790405, -0.5224146842956543, 0.31497329473495483])\n",
      "Predicted rating for specific 81160 and 33933: 7.837687270083997\n"
     ]
    },
    {
     "name": "stderr",
     "output_type": "stream",
     "text": [
      "22/01/16 18:34:43 WARN Executor: Managed memory leak detected; size = 5267604 bytes, task 0.0 in stage 12265.0 (TID 36162)\n",
      "22/01/16 18:34:43 WARN ExecutionMemoryPool: Internal error: release called on 5267604 bytes but task only has 0 bytes of memory from the on-heap execution pool\n"
     ]
    },
    {
     "name": "stdout",
     "output_type": "stream",
     "text": [
      "First Prediction:  Rating(user=160011, product=380759470, rating=6.725624826937442)\n",
      "Top 10 book recommendations for 33933\n",
      "Rating(user=33933, product=441007317, rating=11.06904643660524)\n",
      "Rating(user=33933, product=590451790, rating=10.493495626543375)\n",
      "Rating(user=33933, product=689712960, rating=10.433073539026523)\n",
      "Rating(user=33933, product=574551108, rating=10.330315693996313)\n",
      "Rating(user=33933, product=330315765, rating=10.329204482106359)\n",
      "Rating(user=33933, product=472238962, rating=9.994512952797743)\n",
      "Rating(user=33933, product=965307816, rating=9.925197316488937)\n",
      "Rating(user=33933, product=876054807, rating=9.841543925307546)\n",
      "Rating(user=33933, product=60011785, rating=9.759422919686191)\n",
      "Rating(user=33933, product=964497506, rating=9.726863398779109)\n",
      "\n",
      "///////\n",
      "\n",
      "Top 10 user recommendations for book: 81160\n",
      "Rating(user=204500, product=81160, rating=11.543623553409535)\n",
      "Rating(user=44024, product=81160, rating=11.446028037249953)\n",
      "Rating(user=226038, product=81160, rating=11.36427305422687)\n",
      "Rating(user=127080, product=81160, rating=11.159738373493566)\n",
      "Rating(user=79323, product=81160, rating=11.039593266752709)\n",
      "Rating(user=190618, product=81160, rating=11.032746694725354)\n",
      "Rating(user=242663, product=81160, rating=10.986378330920875)\n",
      "Rating(user=222665, product=81160, rating=10.87077563252037)\n",
      "Rating(user=190467, product=81160, rating=10.858281821683498)\n",
      "Rating(user=10899, product=81160, rating=10.819770705467269)\n",
      "\n",
      "\n",
      "Cosine Similarity For Top 10:  [(81160, 1.0), (1311, 1.0), (11021, 1.0), (41361, 1.0), (51131, 1.0), (51191, 1.0), (66111, 1.0), (68111, 1.0), (69111, 1.0), (181911, 1.0)]\n",
      "--------------------------\n",
      "[6.725624826937442, 6.252358252689383, 7.990620365347144, 1.2205876830838676, 6.042923150699281]\n",
      "--------------------------\n",
      "--------------------------\n",
      "[6.0, 6.0, 6.0, 6.0, 7.0]\n",
      "--------------------------\n"
     ]
    },
    {
     "name": "stderr",
     "output_type": "stream",
     "text": [
      "22/01/16 18:34:44 WARN Executor: Managed memory leak detected; size = 5267604 bytes, task 0.0 in stage 12402.0 (TID 36195)\n",
      "22/01/16 18:34:44 WARN ExecutionMemoryPool: Internal error: release called on 5267604 bytes but task only has 0 bytes of memory from the on-heap execution pool\n"
     ]
    },
    {
     "name": "stdout",
     "output_type": "stream",
     "text": [
      "First 10 Original versus Predicted ratings\n"
     ]
    },
    {
     "name": "stderr",
     "output_type": "stream",
     "text": [
      "                                                                                \r"
     ]
    },
    {
     "name": "stdout",
     "output_type": "stream",
     "text": [
      "Item Vector: array('d', [0.6380316615104675, -0.35542818903923035, 0.33123889565467834, -0.3450263440608978, -0.04587624967098236, -0.43415454030036926, 0.8347492814064026, 1.3253800868988037, 0.9655306935310364, -0.4404003322124481, -0.590939462184906, -0.1862993836402893, -0.4165029227733612, -0.8565104603767395, 0.533230721950531, -0.3315766155719757, -0.15208281576633453, 0.577542245388031, 0.5409577488899231, -0.12812024354934692, 0.6327205300331116, -0.3195362389087677, -0.43701568245887756, -0.2610751986503601, -0.2054610401391983, 0.33259543776512146, 0.7968421578407288, 0.7090550661087036, 0.16055843234062195, 0.8888633847236633, -0.2730655074119568, 0.38425639271736145, -1.3206236362457275, -0.977365255355835, -0.9058963656425476, -0.3095583915710449, 0.36858031153678894, 1.092201590538025, 1.3690931797027588, 0.4533728361129761, -0.20509442687034607, 0.003027615137398243, -0.7980164289474487, 0.2867264747619629, 0.35098469257354736, -0.030171411111950874, -0.3461717665195465, 0.2427295744419098, -1.039432406425476, 0.0886281356215477])\n",
      "Predicted rating for specific 81160 and 33933: 7.633544780786358\n"
     ]
    },
    {
     "name": "stderr",
     "output_type": "stream",
     "text": [
      "22/01/16 18:34:47 WARN Executor: Managed memory leak detected; size = 5267604 bytes, task 0.0 in stage 12524.0 (TID 36238)\n",
      "22/01/16 18:34:47 WARN ExecutionMemoryPool: Internal error: release called on 5267604 bytes but task only has 0 bytes of memory from the on-heap execution pool\n"
     ]
    },
    {
     "name": "stdout",
     "output_type": "stream",
     "text": [
      "First Prediction:  Rating(user=160011, product=380759470, rating=6.796151086896542)\n",
      "Top 10 book recommendations for 33933\n",
      "Rating(user=33933, product=441813046, rating=9.957373590329848)\n",
      "Rating(user=33933, product=812550706, rating=9.549992533831416)\n",
      "Rating(user=33933, product=439136369, rating=9.500479413622251)\n",
      "Rating(user=33933, product=439425220, rating=9.433053142876453)\n",
      "Rating(user=33933, product=437604941, rating=9.415123254854576)\n",
      "Rating(user=33933, product=964266008, rating=9.401472770884627)\n",
      "Rating(user=33933, product=439139600, rating=9.363637401114367)\n",
      "Rating(user=33933, product=140143505, rating=9.250181072669763)\n",
      "Rating(user=33933, product=486250334, rating=9.221982902412684)\n",
      "Rating(user=33933, product=743260244, rating=9.211270632146249)\n",
      "\n",
      "///////\n",
      "\n",
      "Top 10 user recommendations for book: 81160\n",
      "Rating(user=246022, product=81160, rating=12.54546482528586)\n",
      "Rating(user=32899, product=81160, rating=12.33633838072955)\n",
      "Rating(user=41359, product=81160, rating=12.11315495835672)\n",
      "Rating(user=116786, product=81160, rating=11.927654606678908)\n",
      "Rating(user=164640, product=81160, rating=11.788167676797054)\n",
      "Rating(user=226970, product=81160, rating=11.776874183915293)\n",
      "Rating(user=204500, product=81160, rating=11.771487002394204)\n",
      "Rating(user=44024, product=81160, rating=11.708038423070528)\n",
      "Rating(user=20583, product=81160, rating=11.669379310417023)\n",
      "Rating(user=150375, product=81160, rating=11.579080708869364)\n",
      "\n",
      "\n",
      "Cosine Similarity For Top 10:  [(81160, 0.9999999999999998), (1311, 0.9999999999999998), (11021, 0.9999999999999998), (41361, 0.9999999999999998), (41411, 0.9999999999999998), (51131, 0.9999999999999998), (51191, 0.9999999999999998), (66111, 0.9999999999999998), (68111, 0.9999999999999998), (69111, 0.9999999999999998)]\n",
      "--------------------------\n",
      "[6.796151086896542, 6.050859576944106, 8.775067093774243, 0.6686265487281025, 5.21851040464422]\n",
      "--------------------------\n",
      "--------------------------\n",
      "[6.0, 6.0, 6.0, 6.0, 7.0]\n",
      "--------------------------\n",
      "First 10 Original versus Predicted ratings\n",
      "Item Vector: array('d', [0.28754329681396484, -0.512606680393219, 0.6393619775772095, 0.07534562051296234, -0.007532533258199692, 0.05524193122982979, 0.2538769543170929, 0.8026736974716187, 0.010154937393963337, -0.18269044160842896, -0.8977054953575134, 0.13572850823402405, -0.43697819113731384, 0.04781975969672203, 0.31052833795547485, -0.16556140780448914, 0.7090257406234741, 0.43358296155929565, 0.13327479362487793, -0.041972868144512177, 0.7738290429115295, -0.046677716076374054, -0.3590385913848877, -0.3434387743473053, -0.2393890917301178, -0.046261075884103775, 0.1992592215538025, 0.6327693462371826, -0.06305340677499771, 0.7475443482398987, -0.1664166897535324, 0.12607814371585846, -0.6982883810997009, -0.43364012241363525, -0.60356205701828, 0.09252511709928513, 0.07251152396202087, 0.7784530520439148, 1.1307181119918823, 0.22638198733329773, -0.5277759432792664, -0.15250959992408752, -0.9289811849594116, -0.11209728568792343, 0.23895074427127838, 0.23572848737239838, -0.14974473416805267, -0.060292162001132965, -0.5479872226715088, 0.38506489992141724])\n",
      "Predicted rating for specific 81160 and 33933: 7.5435927321928435\n"
     ]
    },
    {
     "name": "stderr",
     "output_type": "stream",
     "text": [
      "22/01/16 18:34:51 WARN Executor: Managed memory leak detected; size = 5267604 bytes, task 0.0 in stage 12783.0 (TID 36314)\n",
      "22/01/16 18:34:51 WARN ExecutionMemoryPool: Internal error: release called on 5267604 bytes but task only has 0 bytes of memory from the on-heap execution pool\n"
     ]
    },
    {
     "name": "stdout",
     "output_type": "stream",
     "text": [
      "First Prediction:  Rating(user=160011, product=380759470, rating=6.901368768740111)\n",
      "Top 10 book recommendations for 33933\n",
      "Rating(user=33933, product=722321684, rating=11.068340958090989)\n",
      "Rating(user=33933, product=689712960, rating=10.822411986461354)\n",
      "Rating(user=33933, product=441007317, rating=10.80619103317428)\n",
      "Rating(user=33933, product=330315765, rating=10.524168937954684)\n",
      "Rating(user=33933, product=876054807, rating=10.357913528484739)\n",
      "Rating(user=33933, product=60011785, rating=10.324521717637387)\n",
      "Rating(user=33933, product=574551108, rating=10.282599238069135)\n",
      "Rating(user=33933, product=590451790, rating=10.234050880458017)\n",
      "Rating(user=33933, product=375763376, rating=10.166162016477738)\n",
      "Rating(user=33933, product=452731111, rating=10.059625893146626)\n",
      "\n",
      "///////\n",
      "\n",
      "Top 10 user recommendations for book: 81160\n",
      "Rating(user=190618, product=81160, rating=11.38092196446511)\n",
      "Rating(user=101888, product=81160, rating=11.135427416776931)\n",
      "Rating(user=127080, product=81160, rating=11.072868106160564)\n",
      "Rating(user=223188, product=81160, rating=11.054576559128172)\n",
      "Rating(user=44024, product=81160, rating=10.992995474915642)\n",
      "Rating(user=204500, product=81160, rating=10.958319036108307)\n",
      "Rating(user=226038, product=81160, rating=10.941510633005858)\n",
      "Rating(user=2576, product=81160, rating=10.781272144112599)\n",
      "Rating(user=79323, product=81160, rating=10.756585873827476)\n",
      "Rating(user=150375, product=81160, rating=10.755290349632618)\n",
      "\n",
      "\n"
     ]
    },
    {
     "name": "stderr",
     "output_type": "stream",
     "text": [
      "                                                                                \r"
     ]
    },
    {
     "name": "stdout",
     "output_type": "stream",
     "text": [
      "Cosine Similarity For Top 10:  [(81160, 1.0), (1311, 1.0), (11021, 1.0), (41361, 1.0), (51131, 1.0), (51191, 1.0), (66111, 1.0), (68111, 1.0), (69111, 1.0), (181911, 1.0)]\n",
      "--------------------------\n",
      "[6.901368768740111, 6.144713610130086, 8.04273938569218, 2.3183240048759672, 6.334373588817965]\n",
      "--------------------------\n",
      "--------------------------\n",
      "[6.0, 6.0, 6.0, 6.0, 7.0]\n",
      "--------------------------\n",
      "First 10 Original versus Predicted ratings\n"
     ]
    },
    {
     "name": "stderr",
     "output_type": "stream",
     "text": [
      "                                                                                \r"
     ]
    },
    {
     "name": "stdout",
     "output_type": "stream",
     "text": [
      "Item Vector: array('d', [-0.9271252751350403, 0.5611242055892944, 0.07590847462415695, -0.10055366903543472, -0.0840032622218132, -1.96119225025177, -0.17182637751102448, -0.562110185623169, -0.6098707914352417, 0.055260591208934784, -0.12193554639816284, -0.48855212330818176, -0.6559181809425354, -0.9583210349082947, 0.32640698552131653, 0.08124702423810959, 1.0288511514663696, 0.5340226888656616, -0.4174034595489502, 0.606536865234375, 0.6193623542785645, -0.67801433801651, -0.10769158601760864, 0.2796210050582886, 0.36018607020378113, 0.5853492021560669, -0.04755145683884621, 0.12965421378612518, -0.9562581777572632, 0.13443639874458313, -0.1563301384449005, 0.645779550075531, 0.24348478019237518, -0.5067095756530762, -0.05970054864883423, 0.284063458442688, 1.309326410293579, -0.9952702522277832, -0.49365469813346863, 1.5653867721557617, -0.17208033800125122, -0.6227881908416748, 0.08068851381540298, 0.4915144443511963, 0.5487216114997864, 0.02888415940105915, -0.5332066416740417, -0.9403043389320374, -0.45062577724456787, 0.13008978962898254, -0.5387769937515259, -0.4776823818683624, 0.5203614830970764, -0.7219113707542419, -0.538094162940979, -0.1623334139585495, -0.014999926090240479, -1.4542245864868164, -1.1186937093734741, 0.07109413295984268, -0.5100333094596863, -0.27037596702575684, 0.11563338339328766, -0.2605813145637512, 0.5125540494918823, -0.5554611682891846, 0.5015867352485657, -1.0564578771591187, 0.2618551552295685, 0.7964298725128174, -0.3958202302455902, -1.3150919675827026, 1.1780380010604858, 0.6597249507904053, 0.38419055938720703, -0.5288918018341064, -0.9630208015441895, 0.35968413949012756, -0.13395996391773224, -0.7520076036453247, 0.7094284296035767, -0.8565837740898132, -0.5706393122673035, -0.309622198343277, 0.6235145926475525, -0.544043242931366, -1.0521609783172607, 0.23367412388324738, 0.836076557636261, 0.7035046219825745, -0.6420568823814392, 0.8389642238616943, 0.2932043969631195, 0.5941258072853088, -0.2195853292942047, 1.4197883605957031, -0.06128155440092087, 1.1451127529144287, -0.674885094165802, 0.8029062151908875, -0.6936404705047607, 0.3005848228931427, 0.3712105453014374, 0.11923613399267197, 0.726591944694519, 1.0977951288223267, -0.1037636399269104, -0.0947970300912857, -0.6375368237495422, 0.4094807505607605, -0.0684221014380455, 0.0340559147298336, 0.025857651606202126, 0.4347948431968689, 1.5684525966644287, 0.8539186120033264, -0.23206672072410583, 0.2734338045120239, -0.4993242919445038, 1.0731229782104492, -0.6908171772956848, -0.1916133612394333, 0.015339402481913567, 0.5498788356781006, -0.480444073677063, 1.0011870861053467, -0.3929843604564667, -0.9011069536209106, 0.7229061722755432, 0.4556010663509369, -0.6139980554580688, 0.35462066531181335, -0.8749770522117615, -0.6625111699104309, 0.25175291299819946, 0.4630907475948334, -0.42268532514572144, -0.030087092891335487, -0.5519628524780273, 0.4494114816188812, 0.4989562928676605, 0.30442318320274353, 0.6880674958229065, -0.19847668707370758, -0.27355846762657166, 0.31500568985939026, -0.421157568693161, -0.1591574251651764, -0.047760009765625, 0.832005500793457, 0.07455676794052124, -0.5040313601493835, -0.6356064081192017, 0.030890244990587234, -0.10447978973388672, -1.1134783029556274, -0.8644969463348389, 0.4232773184776306, -0.38958078622817993, 0.025435909628868103, -1.9422740936279297, -0.16012166440486908, -0.3698819577693939, 0.6276065707206726, 1.224419116973877, -0.2761814594268799, -0.6332716345787048, 0.5109404921531677, -0.016883214935660362, -0.07990756630897522, 0.46404120326042175, -0.22998303174972534, -1.412571668624878, 0.7363134622573853, 0.5591515898704529, 0.49989378452301025, -0.019890448078513145, -0.0019642061088234186, -0.573375940322876, -0.12457016855478287, 0.05604641139507294, 0.6537851691246033, -0.46338382363319397, -0.641208291053772, 0.2159567028284073, 0.7416240572929382, -0.1527002602815628, -0.03871473670005798, -0.2551631033420563, 0.023501137271523476, 0.29543638229370117, 1.021274209022522, 0.9843342304229736, -0.39651674032211304, -1.1545946598052979, -0.5738538503646851, -1.1748231649398804, -0.7940632700920105, 0.5325251817703247, -0.211192324757576])\n",
      "Predicted rating for specific 81160 and 33933: 1.2602349283902292\n"
     ]
    },
    {
     "name": "stderr",
     "output_type": "stream",
     "text": [
      "22/01/16 18:34:56 WARN Executor: Managed memory leak detected; size = 53952762 bytes, task 0.0 in stage 13042.0 (TID 36390)\n",
      "22/01/16 18:34:56 WARN ExecutionMemoryPool: Internal error: release called on 53952762 bytes but task only has 0 bytes of memory from the on-heap execution pool\n"
     ]
    },
    {
     "name": "stdout",
     "output_type": "stream",
     "text": [
      "First Prediction:  Rating(user=160011, product=380759470, rating=1.4603146008870953)\n",
      "Top 10 book recommendations for 33933\n",
      "Rating(user=33933, product=441813046, rating=9.999840301044678)\n",
      "Rating(user=33933, product=671509871, rating=8.999879605478796)\n",
      "Rating(user=33933, product=345327861, rating=8.999721897626465)\n",
      "Rating(user=33933, product=441003389, rating=8.000007676410974)\n",
      "Rating(user=33933, product=345298731, rating=7.9999662937715765)\n",
      "Rating(user=33933, product=345368991, rating=7.999937267314966)\n",
      "Rating(user=33933, product=440213525, rating=7.999929727312201)\n",
      "Rating(user=33933, product=425154092, rating=7.999876345499452)\n",
      "Rating(user=33933, product=345353145, rating=7.9998694008212805)\n",
      "Rating(user=33933, product=449221504, rating=7.999814797969336)\n",
      "\n",
      "///////\n",
      "\n",
      "Top 10 user recommendations for book: 81160\n",
      "Rating(user=74287, product=81160, rating=9.998162260655667)\n",
      "Rating(user=19265, product=81160, rating=2.9922708235625706)\n",
      "Rating(user=29570, product=81160, rating=2.9734359597244753)\n",
      "Rating(user=41765, product=81160, rating=2.9637508961458314)\n",
      "Rating(user=55777, product=81160, rating=2.71331620369674)\n",
      "Rating(user=151408, product=81160, rating=2.5594334124405806)\n",
      "Rating(user=24921, product=81160, rating=2.4843249503266476)\n",
      "Rating(user=54231, product=81160, rating=2.483837026410458)\n",
      "Rating(user=109945, product=81160, rating=2.42401316625344)\n",
      "Rating(user=168836, product=81160, rating=2.4217260038953)\n",
      "\n",
      "\n"
     ]
    },
    {
     "name": "stderr",
     "output_type": "stream",
     "text": [
      "                                                                                \r"
     ]
    },
    {
     "name": "stdout",
     "output_type": "stream",
     "text": [
      "Cosine Similarity For Top 10:  [(81160, 0.9999999999999998), (1311, 0.9999999999999998), (11021, 0.9999999999999998), (41361, 0.9999999999999998), (51131, 0.9999999999999998), (51191, 0.9999999999999998), (66111, 0.9999999999999998), (68111, 0.9999999999999998), (69111, 0.9999999999999998), (181911, 0.9999999999999998)]\n",
      "--------------------------\n",
      "[1.4603146008870953, 4.690254668298531, 6.118130918193236, -0.9124497517447675, 0.8153164880356896]\n",
      "--------------------------\n",
      "--------------------------\n",
      "[6.0, 6.0, 6.0, 6.0, 7.0]\n",
      "--------------------------\n"
     ]
    },
    {
     "name": "stderr",
     "output_type": "stream",
     "text": [
      "                                                                                \r"
     ]
    },
    {
     "name": "stdout",
     "output_type": "stream",
     "text": [
      "First 10 Original versus Predicted ratings\n"
     ]
    },
    {
     "name": "stderr",
     "output_type": "stream",
     "text": [
      "                                                                                \r"
     ]
    },
    {
     "name": "stdout",
     "output_type": "stream",
     "text": [
      "Item Vector: array('d', [-1.1025817394256592, -0.27150166034698486, -0.214797243475914, 0.23478996753692627, 0.630398154258728, -0.43725109100341797, 0.2193688452243805, -0.5956672430038452, -0.41734135150909424, -0.10000806301832199, -0.11913450062274933, -0.19376806914806366, -0.04972122982144356, -0.5470037460327148, 0.288809210062027, -0.4346417188644409, 0.09167367964982986, 0.14792896807193756, 0.49852925539016724, 0.69024258852005, 0.5511118173599243, -0.918473482131958, 0.4557885527610779, 0.08497858792543411, -0.31080684065818787, 0.10001206398010254, 0.22029989957809448, -0.041319768875837326, 0.24153956770896912, 0.4542672336101532, -0.19970406591892242, -0.18721896409988403, -0.0989513248205185, -0.30724117159843445, 0.09828939288854599, -0.10300289839506149, 0.16275034844875336, -0.11407449096441269, 0.11813780665397644, -0.2368115931749344, 0.43217334151268005, -0.0710190087556839, -0.43203699588775635, -0.3268235921859741, -0.03660612925887108, 0.28519031405448914, 0.42554551362991333, -0.1555173546075821, -0.6715854406356812, 0.6941690444946289, -0.23688627779483795, -0.29638993740081787, 0.721123993396759, -0.13993951678276062, -0.04948044195771217, -0.12985950708389282, -0.04035963863134384, -0.4213976562023163, -0.6353052258491516, 0.3455941677093506, -0.818443238735199, -0.12533313035964966, 0.06699077039957047, 0.10528500378131866, -0.004703735467046499, 0.23939505219459534, -0.22120678424835205, -0.4029709994792938, 0.33106622099876404, 0.22125490009784698, -0.2588355243206024, -0.38378259539604187, -0.4685489237308502, -0.227882981300354, -0.06777499616146088, -0.06332195550203323, -0.24154698848724365, -0.07389047741889954, -0.25648701190948486, 0.07243027538061142, 0.4544740617275238, -0.13496048748493195, 0.14633043110370636, 0.010182812809944153, 0.06751872599124908, -0.40628159046173096, -0.611055850982666, -0.47276726365089417, 0.17136994004249573, 0.06690987199544907, -0.03586110472679138, 0.34657859802246094, -0.016638504341244698, -0.1697700321674347, -0.25226008892059326, -0.6081741452217102, -0.37768781185150146, -0.1469784826040268, -0.5777552723884583, 0.2885698974132538, -0.15462151169776917, 0.5503535270690918, 0.49254533648490906, -0.028713837265968323, 0.29221951961517334, 0.4653215706348419, -0.5765703916549683, 0.40560269355773926, 0.23620177805423737, 0.21442106366157532, 0.007602529134601355, -0.1339256912469864, -0.5097097158432007, -0.016919821500778198, 0.36418581008911133, 0.05051501467823982, -0.3109627068042755, 0.35182756185531616, 0.5066004395484924, 0.09825128316879272, 0.453189879655838, -0.2958082854747772, -0.10546345263719559, 0.2387574315071106, -0.09911829978227615, 0.2853682041168213, 0.4024571478366852, 0.005937478505074978, 0.08079947531223297, 0.6686646342277527, -0.7656553983688354, 0.17145144939422607, 0.025532536208629608, 0.004862172994762659, -0.1263815015554428, 0.08882955461740494, -0.9447957277297974, 0.029653482139110565, 0.6428924798965454, -0.04931914433836937, -0.10480806231498718, -0.06989479064941406, -0.4534945785999298, -0.08481902629137039, -0.3279346525669098, 0.026769962161779404, 0.2189846932888031, 0.30646634101867676, 0.04363200068473816, 0.18054448068141937, -0.034446608275175095, 0.07399336248636246, -0.05377178266644478, -0.5210041403770447, -0.09599717706441879, 0.2894477844238281, -0.043673258274793625, 0.008577320724725723, 0.28501713275909424, 0.42764517664909363, -0.559326708316803, -0.009909844025969505, 0.2971222698688507, 0.2595372796058655, 0.12528368830680847, -0.0320066399872303, 0.25934454798698425, 0.4127039909362793, -0.02275952883064747, -0.13349486887454987, 0.8834386467933655, 0.26333606243133545, -0.2705596089363098, 0.019891157746315002, 0.358402281999588, 0.07600092887878418, 0.046825677156448364, 0.12648479640483856, -0.46343910694122314, -0.004362923558801413, -0.2616589367389679, 0.18076980113983154, 0.278809130191803, -0.27332183718681335, -0.20793217420578003, 0.5375844836235046, 0.024065272882580757, 0.0706900954246521, 0.030661944299936295, 0.04339584335684776, -0.18224047124385834, 0.8262671828269958, 0.19558781385421753, -0.4246562421321869, -0.7702324986457825, -0.6711373329162598, -0.24733981490135193, 0.10290185362100601, 0.6813915371894836, 0.11344560235738754])\n",
      "Predicted rating for specific 81160 and 33933: 7.905134271140602\n"
     ]
    },
    {
     "name": "stderr",
     "output_type": "stream",
     "text": [
      "22/01/16 18:35:03 WARN Executor: Managed memory leak detected; size = 53952762 bytes, task 0.0 in stage 13301.0 (TID 36466)\n",
      "22/01/16 18:35:03 WARN ExecutionMemoryPool: Internal error: release called on 53952762 bytes but task only has 0 bytes of memory from the on-heap execution pool\n"
     ]
    },
    {
     "name": "stdout",
     "output_type": "stream",
     "text": [
      "First Prediction:  Rating(user=160011, product=380759470, rating=6.374289255725686)\n",
      "Top 10 book recommendations for 33933\n",
      "Rating(user=33933, product=345353889, rating=9.903376873186673)\n",
      "Rating(user=33933, product=567231608, rating=9.831119507444024)\n",
      "Rating(user=33933, product=345360338, rating=9.794383718583575)\n",
      "Rating(user=33933, product=441813046, rating=9.778314672435044)\n",
      "Rating(user=33933, product=393326713, rating=9.738844987276181)\n",
      "Rating(user=33933, product=345332075, rating=9.717974268762951)\n",
      "Rating(user=33933, product=811824829, rating=9.697922771304473)\n",
      "Rating(user=33933, product=595268821, rating=9.655102497104538)\n",
      "Rating(user=33933, product=373790651, rating=9.623084606173855)\n",
      "Rating(user=33933, product=553213601, rating=9.611984328070918)\n",
      "\n",
      "///////\n",
      "\n",
      "Top 10 user recommendations for book: 81160\n",
      "Rating(user=22625, product=81160, rating=10.984615660610347)\n",
      "Rating(user=182459, product=81160, rating=10.808875063154279)\n",
      "Rating(user=30994, product=81160, rating=10.325048846858506)\n",
      "Rating(user=638, product=81160, rating=10.31677825846478)\n",
      "Rating(user=112001, product=81160, rating=10.246016271579247)\n",
      "Rating(user=141300, product=81160, rating=10.232764932754584)\n",
      "Rating(user=36907, product=81160, rating=10.205272226827251)\n",
      "Rating(user=37227, product=81160, rating=10.154067440292355)\n",
      "Rating(user=118372, product=81160, rating=10.089908421872689)\n",
      "Rating(user=83971, product=81160, rating=10.048680377638746)\n",
      "\n",
      "\n"
     ]
    },
    {
     "name": "stderr",
     "output_type": "stream",
     "text": [
      "                                                                                \r"
     ]
    },
    {
     "name": "stdout",
     "output_type": "stream",
     "text": [
      "Cosine Similarity For Top 10:  [(81160, 0.9999999999999999), (1311, 0.9999999999999999), (11021, 0.9999999999999999), (31111, 0.9999999999999999), (41361, 0.9999999999999999), (51131, 0.9999999999999999), (51191, 0.9999999999999999), (66111, 0.9999999999999999), (68111, 0.9999999999999999), (69111, 0.9999999999999999)]\n",
      "--------------------------\n",
      "[6.374289255725686, 5.538630254711851, 6.863022382783243, 1.794788966226735, 4.2066593713165235]\n",
      "--------------------------\n",
      "--------------------------\n",
      "[6.0, 6.0, 6.0, 6.0, 7.0]\n",
      "--------------------------\n"
     ]
    },
    {
     "name": "stderr",
     "output_type": "stream",
     "text": [
      "22/01/16 18:35:05 WARN Executor: Managed memory leak detected; size = 53952762 bytes, task 0.0 in stage 13438.0 (TID 36499)\n",
      "22/01/16 18:35:05 WARN ExecutionMemoryPool: Internal error: release called on 53952762 bytes but task only has 0 bytes of memory from the on-heap execution pool\n",
      "                                                                                \r"
     ]
    },
    {
     "name": "stdout",
     "output_type": "stream",
     "text": [
      "First 10 Original versus Predicted ratings\n"
     ]
    },
    {
     "name": "stderr",
     "output_type": "stream",
     "text": [
      "                                                                                \r"
     ]
    },
    {
     "name": "stdout",
     "output_type": "stream",
     "text": [
      "Item Vector: array('d', [-1.1024731397628784, 0.5102051496505737, -0.07627944648265839, 0.21493522822856903, 0.6702815294265747, -0.8360153436660767, 0.7909104228019714, -0.407297283411026, -0.4618108570575714, -0.14672306180000305, -0.2464274764060974, -0.1111028864979744, -0.5151893496513367, -0.7209082841873169, 0.338545024394989, -0.15509462356567383, 0.5734246969223022, 0.12066303193569183, 0.22954203188419342, 0.6645088195800781, 1.2870267629623413, -1.5772844552993774, 0.08260077238082886, 0.45587295293807983, -0.574291467666626, 0.47082459926605225, -0.17116209864616394, 0.08253729343414307, -0.046547550708055496, 0.36760738492012024, -0.7243088483810425, -0.2978220582008362, -0.2183200865983963, -0.05167127028107643, 0.5027483105659485, 0.41935962438583374, 0.38571321964263916, -0.3626832365989685, 0.26032522320747375, -0.6275609731674194, 0.3408643305301666, -0.23301874101161957, -0.011091496795415878, -0.11970924586057663, -0.16675573587417603, 0.38711750507354736, 0.19330540299415588, -0.458832710981369, -0.9884661436080933, 1.2709544897079468, -0.5246573686599731, -0.39782771468162537, 0.5052598714828491, -0.36989668011665344, 0.3666425347328186, -0.6126748919487, 0.03513753041625023, -0.4668281674385071, -0.3528629243373871, 0.11288366466760635, -1.185598611831665, 0.017435885965824127, 0.48856040835380554, -0.579625129699707, -0.46306508779525757, 0.5844124555587769, -0.25136813521385193, -0.3420800268650055, 0.26086127758026123, -0.30696192383766174, 0.12651869654655457, -0.6055925488471985, -0.1157236099243164, 0.44918251037597656, -0.4648798108100891, -0.07779301702976227, 0.14245465397834778, -0.7035151124000549, -0.5987265706062317, -0.17450742423534393, 0.44730180501937866, -0.6243119239807129, -0.3194780647754669, 0.44114965200424194, -0.21839769184589386, -0.45873478055000305, -1.1011083126068115, -0.7556555867195129, 0.059533003717660904, 0.5374343991279602, 0.36668261885643005, 0.8368284106254578, -0.006998198572546244, -0.3023848235607147, -0.28968796133995056, -0.47128209471702576, -0.5095065236091614, 0.3720792531967163, -1.0081266164779663, -0.005735115148127079, 0.12891913950443268, 0.535073459148407, 0.2538345158100128, 0.23353733122348785, 0.7811747789382935, 0.7464097142219543, -0.03734920918941498, -0.037492457777261734, -0.035505104809999466, 0.2302720695734024, -0.2806857228279114, -0.11724448204040527, -0.635165810585022, 0.21668264269828796, 0.35552287101745605, 0.17665520310401917, -0.15821783244609833, 0.8321599960327148, 0.42354047298431396, 0.19824925065040588, 0.4816010892391205, 0.16581065952777863, -0.4525439739227295, 0.24055789411067963, -0.1874253749847412, 0.409340500831604, 0.3726106584072113, 0.4731411337852478, 0.54240483045578, 0.6653662323951721, -0.6315187215805054, -0.21931719779968262, -0.2498164027929306, -0.7065905332565308, 0.0771331936120987, 0.4746720492839813, -1.3395360708236694, 0.49793049693107605, 1.1236435174942017, -0.07560830563306808, -0.2717825472354889, -0.00897460337728262, -0.26092350482940674, -0.27778032422065735, -1.178771734237671, 0.07712887972593307, 0.13090002536773682, 0.15929335355758667, -0.04086201637983322, 0.1466604769229889, -0.23472356796264648, -0.7251154184341431, 0.09205976128578186, -0.9535698294639587, -0.3736613094806671, 0.47704386711120605, 0.19417017698287964, 0.08359996974468231, 0.16846969723701477, 0.1507865935564041, -0.12601783871650696, 0.4632766842842102, -0.010117193683981895, 0.15811215341091156, 0.40696290135383606, -0.4454623758792877, -0.15779758989810944, 0.9980599284172058, -0.2680385410785675, 0.09638283401727676, 0.5113728642463684, 0.009417261928319931, -0.5023435950279236, -0.10741852968931198, 0.40345996618270874, -0.24246734380722046, 0.2840260863304138, 0.5470809936523438, -0.23601692914962769, -0.006487694568932056, -0.45869728922843933, 0.22044995427131653, 0.09393104165792465, -0.1693512201309204, -0.4650067389011383, 1.4041272401809692, -0.12361691147089005, 0.4414699971675873, -0.47031065821647644, 0.5468543767929077, 0.09276733547449112, 0.4785580635070801, 0.07274007052183151, -0.24920539557933807, -0.04116174578666687, -0.02620028890669346, -0.11522920429706573, 0.28967782855033875, 0.7671942710876465, 0.0424455851316452])\n",
      "Predicted rating for specific 81160 and 33933: 4.848856928330193\n"
     ]
    },
    {
     "name": "stderr",
     "output_type": "stream",
     "text": [
      "22/01/16 18:35:10 WARN Executor: Managed memory leak detected; size = 53952762 bytes, task 0.0 in stage 13560.0 (TID 36542)\n",
      "22/01/16 18:35:10 WARN ExecutionMemoryPool: Internal error: release called on 53952762 bytes but task only has 0 bytes of memory from the on-heap execution pool\n"
     ]
    },
    {
     "name": "stdout",
     "output_type": "stream",
     "text": [
      "First Prediction:  Rating(user=160011, product=380759470, rating=6.4880299490032645)\n",
      "Top 10 book recommendations for 33933\n",
      "Rating(user=33933, product=441813046, rating=9.974005912787725)\n",
      "Rating(user=33933, product=812550706, rating=9.338520619650806)\n",
      "Rating(user=33933, product=439136369, rating=9.290752007946011)\n",
      "Rating(user=33933, product=880418568, rating=9.140919077312903)\n",
      "Rating(user=33933, product=345339738, rating=9.077819904287406)\n",
      "Rating(user=33933, product=836204387, rating=9.02260784983266)\n",
      "Rating(user=33933, product=618002227, rating=9.0092766966513)\n",
      "Rating(user=33933, product=618002235, rating=8.998889770165846)\n",
      "Rating(user=33933, product=671509871, rating=8.989993069941438)\n",
      "Rating(user=33933, product=439136350, rating=8.986221159461156)\n",
      "\n",
      "///////\n",
      "\n",
      "Top 10 user recommendations for book: 81160\n",
      "Rating(user=74287, product=81160, rating=10.000880070382713)\n",
      "Rating(user=29570, product=81160, rating=7.5683404801209955)\n",
      "Rating(user=158917, product=81160, rating=7.285770528930018)\n",
      "Rating(user=32899, product=81160, rating=7.246379641702616)\n",
      "Rating(user=100306, product=81160, rating=7.23573114024832)\n",
      "Rating(user=194924, product=81160, rating=7.20831818634889)\n",
      "Rating(user=106128, product=81160, rating=6.90696689310089)\n",
      "Rating(user=94156, product=81160, rating=6.8985592393456505)\n",
      "Rating(user=79323, product=81160, rating=6.896809644814524)\n",
      "Rating(user=44024, product=81160, rating=6.8764590007487545)\n",
      "\n",
      "\n"
     ]
    },
    {
     "name": "stderr",
     "output_type": "stream",
     "text": [
      "22/01/16 18:35:11 WARN Executor: Managed memory leak detected; size = 53952762 bytes, task 0.0 in stage 13697.0 (TID 36575)\n",
      "22/01/16 18:35:11 WARN ExecutionMemoryPool: Internal error: release called on 53952762 bytes but task only has 0 bytes of memory from the on-heap execution pool\n"
     ]
    },
    {
     "name": "stdout",
     "output_type": "stream",
     "text": [
      "Cosine Similarity For Top 10:  [(81160, 1.0000000000000002), (1311, 1.0000000000000002), (11021, 1.0000000000000002), (41361, 1.0000000000000002), (51131, 1.0000000000000002), (51191, 1.0000000000000002), (66111, 1.0000000000000002), (68111, 1.0000000000000002), (69111, 1.0000000000000002), (181911, 1.0000000000000002)]\n",
      "--------------------------\n",
      "[6.4880299490032645, 5.39645143909912, 8.629683868343799, 0.8877188023314413, 3.6216931738687936]\n",
      "--------------------------\n",
      "--------------------------\n",
      "[6.0, 6.0, 6.0, 6.0, 7.0]\n",
      "--------------------------\n"
     ]
    },
    {
     "name": "stderr",
     "output_type": "stream",
     "text": [
      "                                                                                \r"
     ]
    },
    {
     "name": "stdout",
     "output_type": "stream",
     "text": [
      "First 10 Original versus Predicted ratings\n"
     ]
    },
    {
     "name": "stderr",
     "output_type": "stream",
     "text": [
      "                                                                                \r"
     ]
    },
    {
     "name": "stdout",
     "output_type": "stream",
     "text": [
      "Item Vector: array('d', [-0.5397464036941528, -0.1323588639497757, -0.06590384989976883, 0.21940642595291138, 0.3168734610080719, -0.306750625371933, 0.3211378753185272, -0.38513636589050293, -0.2249816656112671, 0.0024930224753916264, 0.02966560237109661, 0.04393967613577843, -0.1412876695394516, -0.34243836998939514, 0.22637133300304413, -0.27948254346847534, 0.051347166299819946, 0.19237357378005981, 0.32893106341362, 0.3322664499282837, 0.5488173961639404, -0.5286117792129517, 0.39468008279800415, -0.12265036255121231, -0.11591511219739914, -0.18239136040210724, -0.023124830797314644, 0.2519231140613556, 0.33059582114219666, 0.2525343894958496, -0.03630460053682327, -0.29674041271209717, -0.2761048376560211, -0.04984438419342041, 0.0540027916431427, -0.13629163801670074, -0.046918004751205444, 0.010687108151614666, 0.3789316415786743, -0.17829881608486176, 0.22290590405464172, -0.16677670180797577, -0.3788258731365204, -0.32201093435287476, 0.07276749610900879, 0.08809804916381836, 0.3990224003791809, 0.10092824697494507, -0.477439284324646, 0.43494895100593567, -0.32467782497406006, -0.2142716497182846, 0.34086817502975464, -0.016980644315481186, -0.23801571130752563, -0.002032649703323841, -0.02080966718494892, -0.0479964055120945, -0.11046535521745682, 0.14020274579524994, -0.4377100467681885, 0.1362207531929016, -0.12400999665260315, 0.020608674734830856, 0.10205310583114624, 0.21212731301784515, -0.13748393952846527, -0.29233318567276, 0.3026182949542999, -0.11701256036758423, -0.1271219253540039, -0.14360611140727997, -0.30042752623558044, -0.4795939028263092, 0.1544688493013382, -0.02746177464723587, 0.0025970982387661934, -0.1141616478562355, -0.2327713966369629, 0.17489446699619293, 0.3016152083873749, -0.1251414716243744, 0.09900810569524765, 0.23604366183280945, -0.07792827486991882, -0.28222355246543884, -0.30680587887763977, -0.22093738615512848, -0.098724365234375, 0.050591934472322464, -0.11275146156549454, 0.08472857624292374, -0.13959920406341553, 0.16039171814918518, -0.20347295701503754, -0.4722556173801422, -0.3221074938774109, -0.09620465338230133, -0.32419994473457336, 0.06937676668167114, -0.08000636845827103, 0.5138053297996521, 0.01775014027953148, -0.0650118812918663, -0.2007623314857483, 0.142922505736351, -0.42972081899642944, 0.14159336686134338, 0.28316348791122437, 0.059984222054481506, 0.030941622331738472, -0.25693872570991516, -0.4143561124801636, 0.15047065913677216, 0.06364509463310242, -0.002215491607785225, -0.12420479208230972, 0.2803015112876892, 0.4735786020755768, 0.13970498740673065, 0.08655962347984314, -0.22674398124217987, -0.010233491659164429, 0.04374559223651886, 0.011424281634390354, 0.21036013960838318, 0.29744961857795715, 0.00011220623855479062, 0.010479751043021679, 0.3488621413707733, -0.40117865800857544, 0.023178424686193466, 0.06779364496469498, 0.0034696690272539854, -0.38648903369903564, 0.2021256983280182, -0.5826769471168518, 0.3040282726287842, 0.4650349020957947, -0.11139923334121704, -0.1390577256679535, -0.092134028673172, -0.32610493898391724, 0.22349724173545837, -0.10715873539447784, -0.03397228941321373, 0.06900399178266525, 0.30282536149024963, -0.12091156840324402, -0.02448461577296257, -0.011025238782167435, 0.049427829682826996, 0.11095434427261353, -0.20850707590579987, -0.13379888236522675, 0.3822450041770935, -0.011341099627315998, -0.1904909461736679, 0.0360175296664238, 0.21396702527999878, -0.1459738314151764, 0.02026262879371643, 0.1683664470911026, -0.016818609088659286, -0.06363615393638611, 0.012454218231141567, 0.1546289324760437, 0.17347976565361023, 0.15729975700378418, 0.09199753403663635, 0.5801773071289062, 0.26394301652908325, -0.0972360149025917, -0.0729137733578682, 0.33657845854759216, 0.0863252654671669, -0.23220320045948029, 0.2091035693883896, -0.142301544547081, -0.07553473114967346, 0.15140396356582642, -0.11684655398130417, 0.2917240560054779, -0.03906490281224251, -0.15780234336853027, 0.2975369691848755, 0.12223821878433228, 0.01698146015405655, -0.1547989398241043, -0.03818714991211891, -0.13241568207740784, 0.42462584376335144, 0.05498943850398064, -0.17735064029693604, -0.28474652767181396, -0.2869415581226349, 0.13632164895534515, 0.07658512145280838, 0.6210113167762756, 0.15569201111793518])\n",
      "Predicted rating for specific 81160 and 33933: 7.470226353831347\n",
      "First Prediction:  Rating(user=160011, product=380759470, rating=6.745440570552617)\n",
      "Top 10 book recommendations for 33933\n",
      "Rating(user=33933, product=441007317, rating=10.803385348248604)\n",
      "Rating(user=33933, product=330315765, rating=10.685663824024173)\n",
      "Rating(user=33933, product=689712960, rating=10.579651474367534)\n",
      "Rating(user=33933, product=574551108, rating=10.354121759801561)\n",
      "Rating(user=33933, product=590451790, rating=10.342782471994857)\n",
      "Rating(user=33933, product=312203993, rating=10.149122474334531)\n",
      "Rating(user=33933, product=575601868, rating=9.905123077596151)\n",
      "Rating(user=33933, product=375763376, rating=9.88057682035868)\n",
      "Rating(user=33933, product=965307816, rating=9.81215404262746)\n",
      "Rating(user=33933, product=876054807, rating=9.795623704943543)\n",
      "\n",
      "///////\n",
      "\n",
      "Top 10 user recommendations for book: 81160\n",
      "Rating(user=44024, product=81160, rating=11.614412295895496)\n",
      "Rating(user=204500, product=81160, rating=11.267136079849061)\n",
      "Rating(user=127080, product=81160, rating=11.043136601566982)\n",
      "Rating(user=79323, product=81160, rating=11.005319971250598)\n",
      "Rating(user=226038, product=81160, rating=10.96481687067402)\n",
      "Rating(user=242663, product=81160, rating=10.956572872834068)\n",
      "Rating(user=157734, product=81160, rating=10.907306532996827)\n",
      "Rating(user=87959, product=81160, rating=10.87497007291524)\n",
      "Rating(user=190467, product=81160, rating=10.864019466048232)\n",
      "Rating(user=2576, product=81160, rating=10.80577797028467)\n",
      "\n",
      "\n"
     ]
    },
    {
     "name": "stderr",
     "output_type": "stream",
     "text": [
      "                                                                                \r"
     ]
    },
    {
     "name": "stdout",
     "output_type": "stream",
     "text": [
      "Cosine Similarity For Top 10:  [(81160, 0.9999999999999999), (1311, 0.9999999999999999), (11021, 0.9999999999999999), (41361, 0.9999999999999999), (51131, 0.9999999999999999), (51191, 0.9999999999999999), (66111, 0.9999999999999999), (68111, 0.9999999999999999), (69111, 0.9999999999999999), (181911, 0.9999999999999999)]\n",
      "--------------------------\n",
      "[6.745440570552617, 6.00382232934011, 8.1204014600652, 2.8089399497453815, 6.234734593664638]\n",
      "--------------------------\n",
      "--------------------------\n",
      "[6.0, 6.0, 6.0, 6.0, 7.0]\n",
      "--------------------------\n"
     ]
    },
    {
     "name": "stderr",
     "output_type": "stream",
     "text": [
      "                                                                                \r"
     ]
    },
    {
     "name": "stdout",
     "output_type": "stream",
     "text": [
      "First 10 Original versus Predicted ratings\n"
     ]
    },
    {
     "name": "stderr",
     "output_type": "stream",
     "text": [
      "                                                                                \r"
     ]
    },
    {
     "name": "stdout",
     "output_type": "stream",
     "text": [
      "Item Vector: array('d', [-0.627207338809967, -0.17036376893520355, -0.38141608238220215, 0.33100709319114685, 0.09922868758440018, -0.3701785206794739, 0.6302850842475891, -0.3914138376712799, -0.08435466885566711, 0.05734012648463249, 0.053111203014850616, -0.1363501399755478, 0.053567178547382355, -0.2334303855895996, 0.3925457000732422, -0.21738559007644653, -0.08137050271034241, 0.281011164188385, 0.3944852650165558, 0.6181751489639282, 0.7108533382415771, -0.6805854439735413, 0.1764763593673706, -0.11339189857244492, -0.2710537314414978, 0.1973256766796112, -0.24961476027965546, 0.46318233013153076, 0.2861948013305664, 0.08526801317930222, -0.13742204010486603, -0.177884042263031, -0.10882257670164108, 0.16629105806350708, -0.04445147141814232, -0.11865793913602829, -0.2945081293582916, 0.1532505750656128, 0.42199206352233887, -0.07968907058238983, 0.14120164513587952, -0.28256258368492126, -0.31080374121665955, -0.5246859788894653, -0.04541587829589844, 0.10712619870901108, 0.3894078731536865, 0.136306032538414, -0.6943745017051697, 0.6685326099395752, -0.18494345247745514, -0.22363270819187164, 0.3353267312049866, -0.09605468809604645, -0.0966314896941185, -0.05799885839223862, 0.061099182814359665, -0.06496168673038483, -0.2442362755537033, 0.21558132767677307, -0.39614856243133545, -0.07449313998222351, -0.04123950004577637, -0.08651810884475708, 0.007794336415827274, 0.14846068620681763, -0.080983005464077, -0.4031131863594055, 0.1703120917081833, -0.36480268836021423, -0.3542367219924927, -0.2818301320075989, -0.4221891164779663, -0.49230873584747314, -0.07473981380462646, 0.044573307037353516, 0.043198131024837494, -0.13415931165218353, -0.4139802157878876, -0.05910128355026245, 0.2706936299800873, 0.14329560101032257, 0.06678538769483566, 0.20134392380714417, -0.1957130879163742, -0.5167871713638306, -0.6909372210502625, -0.5241907835006714, -0.16179904341697693, 0.2285657525062561, 0.02045782469213009, 0.23679649829864502, 0.04527546837925911, 0.21144650876522064, -0.25880956649780273, -0.5039038062095642, -0.07330967485904694, -0.04678676277399063, -0.5671998262405396, -0.14848172664642334, 0.004380661528557539, 0.56599360704422, 0.08125589787960052, 0.10203934460878372, -0.42978107929229736, 0.046323347836732864, -0.43022868037223816, 0.35375022888183594, 0.5584884881973267, -0.11765165627002716, -0.021121645346283913, -0.42162588238716125, -0.3832951784133911, 0.10044734179973602, 0.008590406738221645, -0.37730419635772705, -0.38710716366767883, 0.34305626153945923, 0.34301626682281494, 0.02361658774316311, 0.05230541527271271, -0.209947407245636, 0.19186748564243317, -0.09453404694795609, -0.025285309180617332, 0.19055591523647308, 0.33640480041503906, -0.123387910425663, 0.17184655368328094, 0.3372102379798889, -0.4410865306854248, 0.3133375942707062, 0.21222653985023499, -0.1350889652967453, -0.6647495627403259, -0.04263012111186981, -0.8590108752250671, 0.42457446455955505, 0.6989282965660095, 0.07597524672746658, -0.18013744056224823, -0.08533210307359695, -0.2254977822303772, -0.0008059103274717927, -0.24912458658218384, -0.07069014012813568, 0.253933310508728, 0.4085867404937744, -0.3721488416194916, 0.040881939232349396, -0.15338771045207977, 0.035568829625844955, 0.13316239416599274, -0.3088529109954834, 0.07263055443763733, 0.25068965554237366, -0.2501380145549774, -0.2654489576816559, -0.03517038747668266, 0.19711878895759583, -0.27178171277046204, 0.10348628461360931, 0.23190955817699432, 0.1239485815167427, -0.22448155283927917, -0.1056755930185318, 0.5928927659988403, 0.6346005797386169, 0.14470769464969635, 0.05195850878953934, 0.7973149418830872, 0.3356420695781708, -0.06537028402090073, -0.27124518156051636, 0.5368037819862366, 0.05300552025437355, -0.4263460338115692, 0.5757379531860352, 0.04416969418525696, 0.33516523241996765, 0.11717136204242706, -0.08238226175308228, 0.36083465814590454, -0.3099810779094696, -0.17526741325855255, 0.024006079882383347, 0.0029848231934010983, 0.16144657135009766, -0.05262406915426254, 0.07422191649675369, 0.03364565968513489, 0.583091139793396, -0.057175226509571075, -0.34709081053733826, -0.033892545849084854, -0.3266241252422333, 0.3676398694515228, 0.22863726317882538, 0.7238155007362366, 0.09771500527858734])\n",
      "Predicted rating for specific 81160 and 33933: 7.648760615672001\n"
     ]
    },
    {
     "name": "stderr",
     "output_type": "stream",
     "text": [
      "22/01/16 18:35:22 WARN Executor: Managed memory leak detected; size = 53952762 bytes, task 0.0 in stage 14078.0 (TID 36694)\n",
      "22/01/16 18:35:22 WARN ExecutionMemoryPool: Internal error: release called on 53952762 bytes but task only has 0 bytes of memory from the on-heap execution pool\n"
     ]
    },
    {
     "name": "stdout",
     "output_type": "stream",
     "text": [
      "First Prediction:  Rating(user=160011, product=380759470, rating=6.652254027613682)\n",
      "Top 10 book recommendations for 33933\n",
      "Rating(user=33933, product=441813046, rating=9.957538686988931)\n",
      "Rating(user=33933, product=812550706, rating=9.56989341135812)\n",
      "Rating(user=33933, product=439139600, rating=9.532632588052405)\n",
      "Rating(user=33933, product=439136369, rating=9.424042762758077)\n",
      "Rating(user=33933, product=140143505, rating=9.410963004890537)\n",
      "Rating(user=33933, product=345433068, rating=9.323091876977323)\n",
      "Rating(user=33933, product=393316041, rating=9.290815654546417)\n",
      "Rating(user=33933, product=439425220, rating=9.27820770050233)\n",
      "Rating(user=33933, product=964266008, rating=9.124582233436957)\n",
      "Rating(user=33933, product=439064872, rating=9.112534788801963)\n",
      "\n",
      "///////\n",
      "\n",
      "Top 10 user recommendations for book: 81160\n",
      "Rating(user=32899, product=81160, rating=12.747314072567463)\n",
      "Rating(user=246022, product=81160, rating=12.301770705535876)\n",
      "Rating(user=229651, product=81160, rating=12.00690598376936)\n",
      "Rating(user=164640, product=81160, rating=12.004433408284019)\n",
      "Rating(user=44024, product=81160, rating=11.983819956481232)\n",
      "Rating(user=150375, product=81160, rating=11.854607372113982)\n",
      "Rating(user=226970, product=81160, rating=11.784850166119009)\n",
      "Rating(user=204500, product=81160, rating=11.74272394525635)\n",
      "Rating(user=20583, product=81160, rating=11.698924078523861)\n",
      "Rating(user=41359, product=81160, rating=11.684461124200816)\n",
      "\n",
      "\n"
     ]
    },
    {
     "name": "stderr",
     "output_type": "stream",
     "text": [
      "                                                                                \r"
     ]
    },
    {
     "name": "stdout",
     "output_type": "stream",
     "text": [
      "Cosine Similarity For Top 10:  [(81160, 0.9999999999999998), (1311, 0.9999999999999998), (11021, 0.9999999999999998), (31111, 0.9999999999999998), (41361, 0.9999999999999998), (51131, 0.9999999999999998), (51191, 0.9999999999999998), (66111, 0.9999999999999998), (68111, 0.9999999999999998), (69111, 0.9999999999999998)]\n",
      "--------------------------\n",
      "[6.652254027613682, 5.571927519386017, 8.169087909008915, 1.4870960594111537, 5.2855470010686405]\n",
      "--------------------------\n",
      "--------------------------\n"
     ]
    },
    {
     "name": "stderr",
     "output_type": "stream",
     "text": [
      "22/01/16 18:35:24 WARN Executor: Managed memory leak detected; size = 53952762 bytes, task 0.0 in stage 14215.0 (TID 36727)\n",
      "22/01/16 18:35:24 WARN ExecutionMemoryPool: Internal error: release called on 53952762 bytes but task only has 0 bytes of memory from the on-heap execution pool\n"
     ]
    },
    {
     "name": "stdout",
     "output_type": "stream",
     "text": [
      "[6.0, 6.0, 6.0, 6.0, 7.0]\n",
      "--------------------------\n",
      "First 10 Original versus Predicted ratings\n"
     ]
    },
    {
     "name": "stderr",
     "output_type": "stream",
     "text": [
      "                                                                                \r"
     ]
    },
    {
     "name": "stdout",
     "output_type": "stream",
     "text": [
      "Item Vector: array('d', [-0.44286802411079407, -0.1453826129436493, -0.028621941804885864, 0.23203644156455994, 0.33088061213493347, -0.30175772309303284, 0.34413617849349976, -0.36099255084991455, -0.23005031049251556, -0.05567796900868416, 0.01628284528851509, 0.058184657245874405, -0.11436770111322403, -0.2303505390882492, 0.19410020112991333, -0.276155024766922, 0.06782863289117813, 0.23472505807876587, 0.3293216824531555, 0.30318307876586914, 0.5632648468017578, -0.37203049659729004, 0.40835192799568176, -0.19422049820423126, -0.13646374642848969, -0.23730596899986267, -0.07455836981534958, 0.2950551509857178, 0.32353314757347107, 0.2145671397447586, 0.015365011058747768, -0.39119356870651245, -0.26178666949272156, -0.05247459188103676, 0.08507714420557022, -0.08055213838815689, -0.08213689923286438, -0.008671500720083714, 0.4193747043609619, -0.23737987875938416, 0.21729056537151337, -0.1559038609266281, -0.3014715015888214, -0.3433343172073364, 0.02147757075726986, 0.10958599299192429, 0.32664522528648376, 0.1870865821838379, -0.4705924391746521, 0.43591734766960144, -0.3056260347366333, -0.16377736628055573, 0.3872649669647217, 0.03288844972848892, -0.16677749156951904, 0.056784242391586304, -0.029560085386037827, 0.018756581470370293, -0.04873408004641533, 0.1274147629737854, -0.35946235060691833, 0.03912936523556709, -0.1456010639667511, 0.027832407504320145, 0.10608424991369247, 0.1556852161884308, -0.09221723675727844, -0.30008465051651, 0.2622009515762329, -0.17853431403636932, -0.1336943805217743, -0.14281554520130157, -0.2977377772331238, -0.4504942297935486, 0.18521855771541595, -0.002335233148187399, -0.05135674029588699, -0.15296727418899536, -0.1642477810382843, 0.22090989351272583, 0.1323249340057373, -0.04693201929330826, 0.03380744904279709, 0.24473749101161957, -0.03234050050377846, -0.348662793636322, -0.29516366124153137, -0.2723290026187897, 0.0033109658397734165, 0.1597757488489151, -0.10059481859207153, 0.07911070436239243, -0.05914916843175888, 0.1133153960108757, -0.25430870056152344, -0.5417750477790833, -0.19474518299102783, -0.10790064930915833, -0.31249871850013733, -0.017386918887495995, -0.05551839619874954, 0.4200558364391327, -0.028180301189422607, -0.0608641542494297, -0.17776380479335785, 0.15894657373428345, -0.40793347358703613, 0.13412897288799286, 0.29014745354652405, 0.013622588478028774, 0.028736000880599022, -0.2687811851501465, -0.3774203062057495, 0.1754738837480545, 0.04505632817745209, -0.03785513713955879, -0.16843672096729279, 0.2636414170265198, 0.5024178624153137, 0.11742068827152252, 0.010656485334038734, -0.22931142151355743, 0.0977369174361229, 0.03413308411836624, 0.1382020115852356, 0.1640857458114624, 0.2512770891189575, 0.0013789109652861953, -0.004236704669892788, 0.33061009645462036, -0.3303487300872803, 0.0006340761901810765, 0.14923256635665894, 0.0559675395488739, -0.3518722951412201, 0.17545200884342194, -0.4881457984447479, 0.2780769467353821, 0.36486053466796875, -0.03921845927834511, -0.19583266973495483, -0.059967588633298874, -0.25609150528907776, 0.18067018687725067, -0.09391682595014572, -0.006587712559849024, 0.04774849861860275, 0.2754473090171814, -0.15966494381427765, -0.04969986528158188, -0.08872160315513611, 0.036660533398389816, -0.026393268257379532, -0.0986187532544136, -0.18993176519870758, 0.31141555309295654, -0.013432178646326065, -0.18249818682670593, -0.06556566804647446, 0.21933624148368835, -0.12930355966091156, 0.017931047827005386, 0.22545889019966125, -0.06567776948213577, -0.12242571264505386, 0.01806115359067917, 0.14754188060760498, 0.18013565242290497, 0.196090430021286, 0.0697593092918396, 0.5073297023773193, 0.19796204566955566, -0.1529206782579422, -0.12959648668766022, 0.33434444665908813, 0.02179068885743618, -0.23072513937950134, 0.15155689418315887, -0.18740946054458618, 0.027619095519185066, 0.20860643684864044, -0.17796261608600616, 0.23579448461532593, 0.028665997087955475, -0.24408403038978577, 0.22910910844802856, 0.15956924855709076, 0.03830750286579132, -0.23714759945869446, -0.08533329516649246, -0.14223943650722504, 0.38535916805267334, 0.0992889478802681, -0.14776819944381714, -0.17818625271320343, -0.28432294726371765, 0.14899283647537231, 0.08688586950302124, 0.584766149520874, 0.1373230516910553])\n",
      "Predicted rating for specific 81160 and 33933: 7.473110049216409\n"
     ]
    },
    {
     "name": "stderr",
     "output_type": "stream",
     "text": [
      "22/01/16 18:35:28 WARN Executor: Managed memory leak detected; size = 53952762 bytes, task 0.0 in stage 14337.0 (TID 36770)\n",
      "22/01/16 18:35:28 WARN ExecutionMemoryPool: Internal error: release called on 53952762 bytes but task only has 0 bytes of memory from the on-heap execution pool\n"
     ]
    },
    {
     "name": "stdout",
     "output_type": "stream",
     "text": [
      "First Prediction:  Rating(user=160011, product=380759470, rating=6.713060858174408)\n",
      "Top 10 book recommendations for 33933\n",
      "Rating(user=33933, product=722321684, rating=11.074227923308996)\n",
      "Rating(user=33933, product=441007317, rating=10.893172813263648)\n",
      "Rating(user=33933, product=689712960, rating=10.770104080338678)\n",
      "Rating(user=33933, product=330315765, rating=10.635483658855712)\n",
      "Rating(user=33933, product=574551108, rating=10.358272422061965)\n",
      "Rating(user=33933, product=876054807, rating=10.343601234584797)\n",
      "Rating(user=33933, product=60011785, rating=10.25255222747095)\n",
      "Rating(user=33933, product=590451790, rating=10.218367776616816)\n",
      "Rating(user=33933, product=375763376, rating=10.178217281598108)\n",
      "Rating(user=33933, product=312203993, rating=10.142702946583487)\n",
      "\n",
      "///////\n",
      "\n",
      "Top 10 user recommendations for book: 81160\n",
      "Rating(user=190618, product=81160, rating=11.417795665080357)\n",
      "Rating(user=44024, product=81160, rating=11.348464406073976)\n",
      "Rating(user=101888, product=81160, rating=11.082667611331315)\n",
      "Rating(user=127080, product=81160, rating=11.069509777753794)\n",
      "Rating(user=2576, product=81160, rating=11.040970358093748)\n",
      "Rating(user=226038, product=81160, rating=10.993828965246745)\n",
      "Rating(user=204500, product=81160, rating=10.970457184839747)\n",
      "Rating(user=79323, product=81160, rating=10.878700022512367)\n",
      "Rating(user=227251, product=81160, rating=10.817033396981142)\n",
      "Rating(user=149687, product=81160, rating=10.734027279562028)\n",
      "\n",
      "\n"
     ]
    },
    {
     "name": "stderr",
     "output_type": "stream",
     "text": [
      "22/01/16 18:35:30 WARN Executor: Managed memory leak detected; size = 53952762 bytes, task 0.0 in stage 14474.0 (TID 36803)\n",
      "22/01/16 18:35:30 WARN ExecutionMemoryPool: Internal error: release called on 53952762 bytes but task only has 0 bytes of memory from the on-heap execution pool\n"
     ]
    },
    {
     "name": "stdout",
     "output_type": "stream",
     "text": [
      "Cosine Similarity For Top 10:  [(81160, 1.0), (1311, 1.0), (11021, 1.0), (41361, 1.0), (51131, 1.0), (51191, 1.0), (66111, 1.0), (68111, 1.0), (69111, 1.0), (181911, 1.0)]\n",
      "--------------------------\n",
      "[6.713060858174408, 6.02978006327012, 8.109232538607383, 3.1349295671859, 6.328201835928914]\n",
      "--------------------------\n",
      "--------------------------\n",
      "[6.0, 6.0, 6.0, 6.0, 7.0]\n",
      "--------------------------\n"
     ]
    },
    {
     "name": "stderr",
     "output_type": "stream",
     "text": [
      "                                                                                \r"
     ]
    },
    {
     "name": "stdout",
     "output_type": "stream",
     "text": [
      "First 10 Original versus Predicted ratings\n"
     ]
    }
   ],
   "source": [
    "#Append the each model in an array for reach easily\n",
    "modelsArray = []\n",
    "modelsArray.append(modelCreate(model10_10_01,testData,test))\n",
    "modelsArray.append(modelCreate(model10_10_1,testData,test))\n",
    "modelsArray.append(modelCreate(model10_50_01,testData,test))\n",
    "modelsArray.append(modelCreate(model10_50_1,testData,test))\n",
    "modelsArray.append(modelCreate(model10_200_01,testData,test))\n",
    "modelsArray.append(modelCreate(model10_200_1,testData,test))\n",
    "\n",
    "modelsArray.append(modelCreate(model50_10_01,testData,test))\n",
    "modelsArray.append(modelCreate(model50_10_1,testData,test))\n",
    "modelsArray.append(modelCreate(model50_50_01,testData,test))\n",
    "modelsArray.append(modelCreate(model50_50_1,testData,test))\n",
    "modelsArray.append(modelCreate(model50_200_01,testData,test))\n",
    "modelsArray.append(modelCreate(model50_200_1,testData,test))\n",
    "\n",
    "modelsArray.append(modelCreate(model200_10_01,testData,test))\n",
    "modelsArray.append(modelCreate(model200_10_1,testData,test))\n",
    "modelsArray.append(modelCreate(model200_50_01,testData,test))\n",
    "modelsArray.append(modelCreate(model200_50_1,testData,test))\n",
    "modelsArray.append(modelCreate(model200_200_01,testData,test))\n",
    "modelsArray.append(modelCreate(model200_200_1,testData,test))"
   ]
  },
  {
   "cell_type": "code",
   "execution_count": 62,
   "id": "6b7aebbd",
   "metadata": {},
   "outputs": [
    {
     "name": "stdout",
     "output_type": "stream",
     "text": [
      "Mean Squared Error Scores For Each Model:\n",
      "Model 10_10_01 = 53.34119117544696\n",
      "Model 10_10_1 = 18.636155991534356\n",
      "Model 10_50_01 = 22.122748588086736\n",
      "Model 10_50_1 = 11.336808136605864\n",
      "Model 10_200_01 = 14.227357999044946\n",
      "Model 10_200_1 = 10.90573102377254\n",
      "Model 50_10_01 = 36.457727810835074\n",
      "Model 50_10_1 = 16.1902301464026\n",
      "Model 50_50_01 = 17.618660766068086\n",
      "Model 50_50_1 = 10.431964460630414\n",
      "Model 50_200_01 = 12.06616164322049\n",
      "Model 50_200_1 = 10.133502863434764\n",
      "Model 200_10_01 = 32.22401184629114\n",
      "Model 200_10_1 = 14.843206633579006\n",
      "Model 200_50_01 = 16.68182390647972\n",
      "Model 200_50_1 = 10.227754833152614\n",
      "Model 200_200_01 = 11.894178300434724\n",
      "Model 200_200_1 = 9.969889097231045\n"
     ]
    }
   ],
   "source": [
    "print(\"Mean Squared Error Scores For Each Model:\", )\n",
    "c = 0\n",
    "for i in modelsArray:\n",
    "    print(f'Model {arr[c]} = {i[-2]}')\n",
    "    c+=1"
   ]
  },
  {
   "cell_type": "code",
   "execution_count": 43,
   "id": "51e04f42",
   "metadata": {},
   "outputs": [
    {
     "name": "stdout",
     "output_type": "stream",
     "text": [
      "Root Mean Squared Error Scores For Each Model:\n",
      "Model 10_10_01 = 7.303505403259928\n",
      "Model 10_10_1 = 4.316961430396889\n",
      "Model 10_50_01 = 4.703482602081859\n",
      "Model 10_50_1 = 3.3670176917571824\n",
      "Model 10_200_01 = 3.7719170191091087\n",
      "Model 10_200_1 = 3.302382628311344\n",
      "Model 50_10_01 = 6.038023502010826\n",
      "Model 50_10_1 = 4.023708506639442\n",
      "Model 50_50_01 = 4.197458846262592\n",
      "Model 50_50_1 = 3.2298551764174217\n",
      "Model 50_200_01 = 3.4736380990570233\n",
      "Model 50_200_1 = 3.183316331035099\n",
      "Model 200_10_01 = 5.676619755302546\n",
      "Model 200_10_1 = 3.8526882346718643\n",
      "Model 200_50_01 = 4.084338857940135\n",
      "Model 200_50_1 = 3.198086120346451\n",
      "Model 200_200_01 = 3.4487937457080156\n",
      "Model 200_200_1 = 3.1575131190908845\n"
     ]
    }
   ],
   "source": [
    "print(\"Root Mean Squared Error Scores For Each Model:\", )\n",
    "c = 0\n",
    "for i in modelsArray:\n",
    "    print(f'Model {arr[c]} = {i[-1]}')\n",
    "    c+=1"
   ]
  },
  {
   "cell_type": "code",
   "execution_count": 52,
   "id": "d82718e1",
   "metadata": {},
   "outputs": [
    {
     "name": "stdout",
     "output_type": "stream",
     "text": [
      "\tALS Recommend\n"
     ]
    },
    {
     "data": {
      "text/plain": [
       "[('Titan', 9.957538686988931),\n",
       " (\"Ender's Game (Ender Wiggins Saga (Paperback))\", 9.56989341135812),\n",
       " ('Harry Potter and the Goblet of Fire (Book 4)', 9.532632588052405),\n",
       " ('Harry Potter and the Prisoner of Azkaban (Book 3)', 9.424042762758077),\n",
       " ('84 Charing Cross Road', 9.410963004890537),\n",
       " ('Mangrove Squeeze', 9.323091876977323),\n",
       " (\"\\\\Surely You're Joking, Mr. Feynman!\\\\: Adventures of a Curious Character\",\n",
       "  9.290815654546417),\n",
       " ('Harry Potter and the Chamber of Secrets Postcard Book', 9.27820770050233),\n",
       " ('Mostly True: Collected Stories &amp, Drawings', 9.124582233436957),\n",
       " ('Harry Potter and the Chamber of Secrets (Book 2)', 9.112534788801963)]"
      ]
     },
     "execution_count": 52,
     "metadata": {},
     "output_type": "execute_result"
    }
   ],
   "source": [
    "print('\\tALS Recommend')\n",
    "top_k_recs=model200_200_1.recommendProducts(33933,10)\n",
    "sc.parallelize(top_k_recs).map(lambda rating: (Book_ISBN_Name_Map[rating.product], rating.rating)).collect()"
   ]
  },
  {
   "cell_type": "code",
   "execution_count": 61,
   "id": "130f41d4",
   "metadata": {},
   "outputs": [
    {
     "data": {
      "text/plain": [
       "[[array('d', [-0.44286802411079407, -0.1453826129436493, -0.028621941804885864, 0.23203644156455994, 0.33088061213493347, -0.30175772309303284, 0.34413617849349976, -0.36099255084991455, -0.23005031049251556, -0.05567796900868416, 0.01628284528851509, 0.058184657245874405, -0.11436770111322403, -0.2303505390882492, 0.19410020112991333, -0.276155024766922, 0.06782863289117813, 0.23472505807876587, 0.3293216824531555, 0.30318307876586914, 0.5632648468017578, -0.37203049659729004, 0.40835192799568176, -0.19422049820423126, -0.13646374642848969, -0.23730596899986267, -0.07455836981534958, 0.2950551509857178, 0.32353314757347107, 0.2145671397447586, 0.015365011058747768, -0.39119356870651245, -0.26178666949272156, -0.05247459188103676, 0.08507714420557022, -0.08055213838815689, -0.08213689923286438, -0.008671500720083714, 0.4193747043609619, -0.23737987875938416, 0.21729056537151337, -0.1559038609266281, -0.3014715015888214, -0.3433343172073364, 0.02147757075726986, 0.10958599299192429, 0.32664522528648376, 0.1870865821838379, -0.4705924391746521, 0.43591734766960144, -0.3056260347366333, -0.16377736628055573, 0.3872649669647217, 0.03288844972848892, -0.16677749156951904, 0.056784242391586304, -0.029560085386037827, 0.018756581470370293, -0.04873408004641533, 0.1274147629737854, -0.35946235060691833, 0.03912936523556709, -0.1456010639667511, 0.027832407504320145, 0.10608424991369247, 0.1556852161884308, -0.09221723675727844, -0.30008465051651, 0.2622009515762329, -0.17853431403636932, -0.1336943805217743, -0.14281554520130157, -0.2977377772331238, -0.4504942297935486, 0.18521855771541595, -0.002335233148187399, -0.05135674029588699, -0.15296727418899536, -0.1642477810382843, 0.22090989351272583, 0.1323249340057373, -0.04693201929330826, 0.03380744904279709, 0.24473749101161957, -0.03234050050377846, -0.348662793636322, -0.29516366124153137, -0.2723290026187897, 0.0033109658397734165, 0.1597757488489151, -0.10059481859207153, 0.07911070436239243, -0.05914916843175888, 0.1133153960108757, -0.25430870056152344, -0.5417750477790833, -0.19474518299102783, -0.10790064930915833, -0.31249871850013733, -0.017386918887495995, -0.05551839619874954, 0.4200558364391327, -0.028180301189422607, -0.0608641542494297, -0.17776380479335785, 0.15894657373428345, -0.40793347358703613, 0.13412897288799286, 0.29014745354652405, 0.013622588478028774, 0.028736000880599022, -0.2687811851501465, -0.3774203062057495, 0.1754738837480545, 0.04505632817745209, -0.03785513713955879, -0.16843672096729279, 0.2636414170265198, 0.5024178624153137, 0.11742068827152252, 0.010656485334038734, -0.22931142151355743, 0.0977369174361229, 0.03413308411836624, 0.1382020115852356, 0.1640857458114624, 0.2512770891189575, 0.0013789109652861953, -0.004236704669892788, 0.33061009645462036, -0.3303487300872803, 0.0006340761901810765, 0.14923256635665894, 0.0559675395488739, -0.3518722951412201, 0.17545200884342194, -0.4881457984447479, 0.2780769467353821, 0.36486053466796875, -0.03921845927834511, -0.19583266973495483, -0.059967588633298874, -0.25609150528907776, 0.18067018687725067, -0.09391682595014572, -0.006587712559849024, 0.04774849861860275, 0.2754473090171814, -0.15966494381427765, -0.04969986528158188, -0.08872160315513611, 0.036660533398389816, -0.026393268257379532, -0.0986187532544136, -0.18993176519870758, 0.31141555309295654, -0.013432178646326065, -0.18249818682670593, -0.06556566804647446, 0.21933624148368835, -0.12930355966091156, 0.017931047827005386, 0.22545889019966125, -0.06567776948213577, -0.12242571264505386, 0.01806115359067917, 0.14754188060760498, 0.18013565242290497, 0.196090430021286, 0.0697593092918396, 0.5073297023773193, 0.19796204566955566, -0.1529206782579422, -0.12959648668766022, 0.33434444665908813, 0.02179068885743618, -0.23072513937950134, 0.15155689418315887, -0.18740946054458618, 0.027619095519185066, 0.20860643684864044, -0.17796261608600616, 0.23579448461532593, 0.028665997087955475, -0.24408403038978577, 0.22910910844802856, 0.15956924855709076, 0.03830750286579132, -0.23714759945869446, -0.08533329516649246, -0.14223943650722504, 0.38535916805267334, 0.0992889478802681, -0.14776819944381714, -0.17818625271320343, -0.28432294726371765, 0.14899283647537231, 0.08688586950302124, 0.584766149520874, 0.1373230516910553])],\n",
       " [7.473110049216409],\n",
       " [MapPartitionsRDD[29371] at mapPartitions at PythonMLLibAPI.scala:1342],\n",
       " [[Rating(user=33933, product=722321684, rating=11.074227923308996),\n",
       "   Rating(user=33933, product=441007317, rating=10.893172813263648),\n",
       "   Rating(user=33933, product=689712960, rating=10.770104080338678),\n",
       "   Rating(user=33933, product=330315765, rating=10.635483658855712),\n",
       "   Rating(user=33933, product=574551108, rating=10.358272422061965),\n",
       "   Rating(user=33933, product=876054807, rating=10.343601234584797),\n",
       "   Rating(user=33933, product=60011785, rating=10.25255222747095),\n",
       "   Rating(user=33933, product=590451790, rating=10.218367776616816),\n",
       "   Rating(user=33933, product=375763376, rating=10.178217281598108),\n",
       "   Rating(user=33933, product=312203993, rating=10.142702946583487)]],\n",
       " [[Rating(user=190618, product=81160, rating=11.417795665080357),\n",
       "   Rating(user=44024, product=81160, rating=11.348464406073976),\n",
       "   Rating(user=101888, product=81160, rating=11.082667611331315),\n",
       "   Rating(user=127080, product=81160, rating=11.069509777753794),\n",
       "   Rating(user=2576, product=81160, rating=11.040970358093748),\n",
       "   Rating(user=226038, product=81160, rating=10.993828965246745),\n",
       "   Rating(user=204500, product=81160, rating=10.970457184839747),\n",
       "   Rating(user=79323, product=81160, rating=10.878700022512367),\n",
       "   Rating(user=227251, product=81160, rating=10.817033396981142),\n",
       "   Rating(user=149687, product=81160, rating=10.734027279562028)]],\n",
       " [PythonRDD[29435] at RDD at PythonRDD.scala:53],\n",
       " [PythonRDD[29383] at collect at /var/folders/1p/3pn_7tm17znb8qwczn_8d3wh0000gn/T/ipykernel_3595/2806346409.py:41],\n",
       " [PythonRDD[29384] at collect at /var/folders/1p/3pn_7tm17znb8qwczn_8d3wh0000gn/T/ipykernel_3595/2806346409.py:42],\n",
       " [(((8, 575663937), 6.738518992993867, 6.0),\n",
       "   ((9, 452264464), 8.279781107254497, 6.0),\n",
       "   ((10, 477024456), 6.961036079701877, 6.0),\n",
       "   ((17, 891075275), 6.5570703188692985, 6.0),\n",
       "   ((17, 425099148), 6.840135701724799, 7.0),\n",
       "   ((26, 446310786), 7.51397489039212, 10.0),\n",
       "   ((42, 553582747), 4.849301723549374, 7.0),\n",
       "   ((53, 380715899), 7.90878019729719, 9.0),\n",
       "   ((69, 676973655), 1.7517138136330495, 3.0),\n",
       "   ((70, 414035004), 3.448417290279786, 10.0),\n",
       "   ((78, 394895894), 7.795292118757118, 8.0),\n",
       "   ((83, 871133751), 8.778171001821729, 7.0),\n",
       "   ((85, 340767936), 6.380869693442973, 5.0),\n",
       "   ((87, 375509038), 7.600876105805849, 8.0),\n",
       "   ((92, 445071408), 7.29118510342186, 7.0),\n",
       "   ((92, 445071769), 6.011651761578898, 8.0),\n",
       "   ((92, 445071777), 0.3082091786463219, 10.0),\n",
       "   ((97, 671867156), 0.2831179084705921, 7.0),\n",
       "   ((99, 451166892), 6.683847416885941, 3.0),\n",
       "   ((99, 312252617), 8.071690883325994, 8.0),\n",
       "   ((99, 553347594), -0.3921767087109638, 9.0),\n",
       "   ((99, 671621009), 5.29872383875648, 10.0),\n",
       "   ((114, 812575954), 6.343344205455523, 5.0),\n",
       "   ((114, 446608653), 6.489437969579299, 9.0),\n",
       "   ((133, 345372700), 8.368745802140685, 10.0),\n",
       "   ((176, 900850303), 3.2040761251559866, 4.0),\n",
       "   ((183, 19973188), 5.245926501252541, 6.0),\n",
       "   ((183, 23950188), 4.953042901613884, 6.0),\n",
       "   ((183, 728487576), 7.687908614914845, 6.0),\n",
       "   ((183, 13440186), 4.074406250482377, 7.0),\n",
       "   ((183, 16785187), 6.78439456164694, 7.0),\n",
       "   ((183, 440630794), 7.613075538548786, 7.0),\n",
       "   ((183, 728440456), 6.340211340285837, 7.0),\n",
       "   ((183, 729758311), 8.626664369562056, 7.0),\n",
       "   ((183, 203671103), 8.508243741304325, 8.0),\n",
       "   ((183, 71837193), 6.814647640231406, 8.0),\n",
       "   ((183, 476409419), 4.994478073350081, 8.0),\n",
       "   ((183, 721035130), 0.1579701351242715, 8.0),\n",
       "   ((183, 724509524), 5.898131416149259, 8.0),\n",
       "   ((183, 726991366), 6.851913278997252, 8.0),\n",
       "   ((183, 727110541), 7.935649585066173, 8.0),\n",
       "   ((183, 401422825), 7.8580042727206285, 9.0),\n",
       "   ((183, 714511081), 6.876710125526946, 9.0),\n",
       "   ((183, 722113747), 7.983967152118334, 9.0),\n",
       "   ((183, 722330950), 6.620367595845743, 9.0),\n",
       "   ((183, 726081424), 6.329754666151391, 9.0),\n",
       "   ((183, 728440138), 6.723924263555797, 9.0),\n",
       "   ((183, 728440642), 7.498511298851248, 9.0),\n",
       "   ((185, 380778556), 7.200755364938676, 10.0),\n",
       "   ((212, 60801263), 5.044715318512742, 8.0),\n",
       "   ((224, 446527165), 6.89661286401232, 8.0),\n",
       "   ((232, 7123817), 6.382567863778885, 7.0),\n",
       "   ((242, 499172811), 7.188529972428029, 5.0),\n",
       "   ((242, 451040395), 7.816057486499334, 6.0),\n",
       "   ((242, 499110695), 5.08767798151583, 7.0),\n",
       "   ((242, 596292646), 7.465655486640294, 7.0),\n",
       "   ((242, 928812343), 5.250543872543213, 7.0),\n",
       "   ((242, 257208626), 0.7698832723742874, 8.0),\n",
       "   ((242, 257208640), 4.299295167932589, 9.0),\n",
       "   ((243, 803251718), 5.114654742397017, 5.0),\n",
       "   ((243, 558742621), 3.8292177955880335, 5.0),\n",
       "   ((243, 446606383), 7.5382177856884, 6.0),\n",
       "   ((243, 60977493), 3.925120172739094, 7.0),\n",
       "   ((243, 385720106), 2.0545674052370413, 7.0),\n",
       "   ((243, 553580388), 2.2488987418229125, 8.0),\n",
       "   ((243, 60915544), 2.4657797894127897, 10.0),\n",
       "   ((244, 558744150), 1.7399357181939532, 6.0),\n",
       "   ((244, 60977493), 1.7637148671103842, 7.0),\n",
       "   ((244, 375704965), 7.320473663396517, 8.0),\n",
       "   ((254, 66238501), 6.410711894375115, 5.0),\n",
       "   ((254, 373033605), 7.649388281205671, 5.0),\n",
       "   ((254, 373709889), 8.769252594884016, 5.0),\n",
       "   ((254, 373226063), 6.198874846265428, 6.0),\n",
       "   ((254, 373810601), 7.336315986301493, 6.0),\n",
       "   ((254, 373836023), 8.069172724896308, 7.0),\n",
       "   ((254, 451167317), 7.547050650678778, 8.0),\n",
       "   ((254, 553280325), -0.10424735805355342, 8.0),\n",
       "   ((254, 679781587), 8.165805037359874, 8.0),\n",
       "   ((254, 679879242), -0.8114410927767831, 8.0),\n",
       "   ((254, 375756469), 6.611379035488506, 9.0),\n",
       "   ((254, 375823468), 9.074863731771813, 9.0),\n",
       "   ((254, 399146431), 5.117232131121588, 9.0),\n",
       "   ((254, 439136350), 7.0760984166416465, 9.0),\n",
       "   ((254, 451524934), 6.674991314125459, 9.0),\n",
       "   ((254, 931081727), 7.494296162560934, 9.0),\n",
       "   ((254, 380789035), 6.825176243982485, 10.0),\n",
       "   ((256, 440237221), 8.306707513061852, 8.0),\n",
       "   ((272, 60977477), 8.621754972819357, 7.0),\n",
       "   ((272, 670856045), 7.226263119187461, 7.0),\n",
       "   ((273, 671649949), 0.5199805182981099, 6.0),\n",
       "   ((278, 590431110), 4.877452834273997, 6.0),\n",
       "   ((289, 64470113), 5.192699670827471, 7.0),\n",
       "   ((291, 972044205), 5.948949304302239, 9.0),\n",
       "   ((300, 345430476), 5.929685550259967, 5.0),\n",
       "   ((300, 449912302), 7.772987433507625, 9.0),\n",
       "   ((302, 312988699), 6.501687785348109, 4.0),\n",
       "   ((334, 140620321), 6.308040243740713, 7.0),\n",
       "   ((345, 671534841), -0.708364398265625, 6.0),\n",
       "   ((362, 575064706), -0.056741910509087015, 4.0),\n",
       "   ((362, 773756183), 6.093071533266308, 7.0),\n",
       "   ((369, 401025051), 5.45494917536124, 9.0),\n",
       "   ((372, 596214629), -0.22651818306807608, 8.0),\n",
       "   ((376, 62770500), 7.086236412804052, 7.0),\n",
       "   ((382, 667241688), 4.501518168430202, 10.0),\n",
       "   ((383, 743411269), 5.538146896384667, 5.0),\n",
       "   ((387, 812504208), 5.417599779083984, 9.0),\n",
       "   ((388, 60976845), 4.019178120366807, 3.0),\n",
       "   ((388, 60973897), 6.112187435443715, 8.0),\n",
       "   ((388, 802114369), 6.412840468301102, 8.0),\n",
       "   ((392, 432295914), 5.559169900017089, 5.0),\n",
       "   ((392, 486433193), 8.123363525329411, 5.0),\n",
       "   ((392, 486433673), 6.330646383444912, 5.0),\n",
       "   ((392, 476021569), 10.150507133260373, 7.0),\n",
       "   ((392, 478884963), 7.642382362078594, 9.0),\n",
       "   ((408, 312283784), 4.219173874027274, 8.0),\n",
       "   ((413, 553258524), 6.754132794089877, 7.0),\n",
       "   ((424, 671021001), 8.381012567135635, 6.0),\n",
       "   ((424, 805063897), 6.064855579859603, 8.0),\n",
       "   ((440, 786868015), 8.336525887266333, 7.0),\n",
       "   ((440, 393321576), 9.8531983074367, 8.0),\n",
       "   ((444, 440235057), 4.506147351355421, 7.0),\n",
       "   ((444, 618119760), 8.357873906189749, 7.0),\n",
       "   ((444, 871138646), 7.529021940506382, 8.0),\n",
       "   ((446, 877727083), 7.233951604029587, 8.0),\n",
       "   ((446, 451523318), 7.830013058413888, 10.0),\n",
       "   ((472, 312965745), 5.095304569041105, 5.0),\n",
       "   ((472, 345374657), 7.1268273184425945, 9.0),\n",
       "   ((472, 805210611), 6.399718637716963, 9.0),\n",
       "   ((486, 743418190), 5.724830290045002, 7.0),\n",
       "   ((486, 451202341), 0.007522221739763885, 8.0),\n",
       "   ((487, 345441133), -0.9520653361224849, 7.0),\n",
       "   ((487, 486272664), 7.69251302492949, 9.0),\n",
       "   ((494, 451195663), 7.7572906058302085, 5.0),\n",
       "   ((496, 425182878), 7.184884369099629, 8.0),\n",
       "   ((500, 849943711), 5.19661819088905, 8.0),\n",
       "   ((503, 373076746), 7.535485788355216, 7.0),\n",
       "   ((503, 345348656), 4.59711659350204, 8.0),\n",
       "   ((503, 385483724), 7.9634297953098665, 8.0),\n",
       "   ((503, 140179836), 8.388311770045739, 10.0),\n",
       "   ((503, 439099404), 7.143615619157812, 10.0),\n",
       "   ((503, 440241006), 8.451351443641013, 10.0),\n",
       "   ((503, 440508827), 7.283468278117979, 10.0),\n",
       "   ((503, 558743669), 5.158635210130634, 10.0),\n",
       "   ((505, 816152446), 7.482025359096693, 7.0),\n",
       "   ((507, 425168948), 6.81058235192936, 7.0),\n",
       "   ((507, 553564528), 7.567147708507997, 7.0),\n",
       "   ((507, 553575538), 6.092479065474876, 7.0),\n",
       "   ((507, 553576951), 5.503277695377264, 7.0),\n",
       "   ((507, 553583441), 4.013166010199734, 7.0),\n",
       "   ((507, 557733856), 6.181277329272939, 7.0),\n",
       "   ((507, 557734909), 5.234516852202603, 7.0),\n",
       "   ((507, 345369068), 5.495110551176663, 8.0),\n",
       "   ((507, 345460741), 4.991153009735587, 8.0),\n",
       "   ((507, 821772953), 6.575949631702581, 8.0),\n",
       "   ((507, 936034025), 6.5648637285944265, 8.0),\n",
       "   ((507, 312312628), 8.186443794605559, 9.0),\n",
       "   ((507, 679893105), 7.424258346591007, 9.0),\n",
       "   ((507, 689711522), 9.275554711025979, 10.0),\n",
       "   ((507, 743260244), 3.67092869483088, 10.0),\n",
       "   ((507, 812533534), 4.510935969805217, 10.0),\n",
       "   ((508, 385335679), 7.595535600769097, 6.0),\n",
       "   ((538, 821775863), 7.316262304756118, 8.0),\n",
       "   ((546, 845901777), 6.38822444246983, 10.0),\n",
       "   ((566, 618231617), 6.731169247488211, 8.0),\n",
       "   ((595, 576737357), 6.330040747718074, 7.0),\n",
       "   ((595, 140293248), 6.941003888313491, 9.0),\n",
       "   ((596, 743213831), 8.820582590571734, 8.0),\n",
       "   ((596, 345305477), 8.593708256417788, 10.0),\n",
       "   ((620, 449245691), 6.579758075711209, 7.0),\n",
       "   ((625, 877060527), 6.365460138589908, 6.0),\n",
       "   ((625, 253004022), 7.167216957174096, 9.0),\n",
       "   ((625, 70384349), 4.209660169069276, 10.0),\n",
       "   ((625, 253007102), 7.236778927612792, 10.0),\n",
       "   ((626, 423202033), 6.63464269695134, 7.0),\n",
       "   ((626, 466110564), 6.951200668541088, 9.0),\n",
       "   ((628, 442724686), 7.253637598081928, 5.0),\n",
       "   ((638, 670892963), 4.432415862425129, 7.0),\n",
       "   ((638, 345428900), 4.30923321345795, 8.0),\n",
       "   ((638, 380978539), 7.06044593405713, 8.0),\n",
       "   ((638, 385470819), 3.2146227014222415, 9.0),\n",
       "   ((638, 399148582), 4.724416893246391, 9.0),\n",
       "   ((638, 425184129), 5.107674350883963, 9.0),\n",
       "   ((638, 671042556), 6.232671990687938, 9.0),\n",
       "   ((638, 679732241), 7.2873719827006465, 9.0),\n",
       "   ((638, 743230051), 5.744830256796223, 9.0),\n",
       "   ((638, 60164662), 5.00510380523991, 10.0),\n",
       "   ((638, 151001006), 5.826231999004731, 10.0),\n",
       "   ((638, 316693006), 6.219650434500468, 10.0),\n",
       "   ((638, 316789089), 6.776079522823959, 10.0),\n",
       "   ((638, 375400699), 5.343625847897871, 10.0),\n",
       "   ((638, 385500769), 3.8887656709425533, 10.0),\n",
       "   ((638, 679419624), 7.003824780450434, 10.0),\n",
       "   ((643, 753507579), 7.9692432496770165, 5.0),\n",
       "   ((643, 405401184), 7.7020135200127635, 5.0),\n",
       "   ((643, 70375617), 7.710050088812081, 6.0),\n",
       "   ((643, 857043821), 8.017798145656958, 6.0),\n",
       "   ((643, 198604025), 7.600640564930655, 7.0),\n",
       "   ((643, 571209521), 7.370850171067421, 7.0),\n",
       "   ((643, 947782230), 6.066545215906227, 7.0),\n",
       "   ((643, 842040405), 6.874647493540627, 7.0),\n",
       "   ((643, 253051381), 8.49608643749717, 7.0),\n",
       "   ((643, 61092606), 8.379106934000054, 8.0),\n",
       "   ((643, 140292918), 6.799918921924391, 8.0),\n",
       "   ((643, 140482202), 6.751101272295836, 8.0),\n",
       "   ((643, 552137030), 7.706793241725411, 8.0),\n",
       "   ((643, 749391308), 7.036156740702069, 8.0),\n",
       "   ((643, 749396067), 3.882266610738475, 8.0),\n",
       "   ((643, 854795491), 3.699661487085318, 8.0),\n",
       "   ((643, 70393577), 7.682740943878166, 8.0),\n",
       "   ((643, 253000868), 7.930630636545453, 8.0),\n",
       "   ((643, 253140872), 7.293473273286663, 8.0),\n",
       "   ((643, 253170569), 0.7702944219669459, 8.0),\n",
       "   ((643, 140366660), 6.1050649925174305, 9.0),\n",
       "   ((643, 349102155), 7.354227659111718, 9.0),\n",
       "   ((643, 841950521), 6.8007246144242615, 9.0),\n",
       "   ((643, 868696945), 7.0286059281554465, 9.0),\n",
       "   ((643, 253063339), 7.949483029268659, 10.0),\n",
       "   ((649, 375501347), 9.97352727779307, 7.0),\n",
       "   ((651, 679801146), 6.609874985773309, 4.0),\n",
       "   ((651, 962893862), 6.559206718761996, 4.0),\n",
       "   ((651, 60006048), 6.034172641615583, 5.0),\n",
       "   ((651, 307215342), 3.458772691747499, 6.0),\n",
       "   ((651, 553574175), 3.634678308208752, 6.0),\n",
       "   ((651, 563411148), 4.71163040789849, 6.0),\n",
       "   ((651, 451456548), 6.468448068635846, 7.0),\n",
       "   ((651, 553579673), 6.938753415800552, 7.0),\n",
       "   ((651, 786886463), 4.554183882606743, 7.0),\n",
       "   ((651, 60934719), 4.6686675356353105, 8.0),\n",
       "   ((651, 312287240), 6.765102161543481, 8.0),\n",
       "   ((651, 440226694), 6.435597909231781, 8.0),\n",
       "   ((651, 446300101), 5.38420840052373, 8.0),\n",
       "   ((651, 425049981), 5.068202676729975, 10.0),\n",
       "   ((657, 767903285), 6.554306303442435, 5.0),\n",
       "   ((660, 573229571), 8.087585048901113, 8.0),\n",
       "   ((685, 399143701), 4.738150148858135, 7.0),\n",
       "   ((695, 812521331), 4.450569949557995, 7.0),\n",
       "   ((707, 394575131), 7.5235767245909795, 5.0),\n",
       "   ((709, 439221706), 5.657471911091941, 4.0),\n",
       "   ((709, 60535032), 6.345966261483634, 5.0),\n",
       "   ((709, 439042917), 8.218460489726487, 9.0),\n",
       "   ((709, 439221651), 4.543383106534069, 9.0),\n",
       "   ((709, 152162577), 6.832463542044859, 10.0),\n",
       "   ((709, 689832877), 6.046466367182461, 10.0),\n",
       "   ((712, 257201761), 6.577718694172729, 6.0),\n",
       "   ((712, 784419445), 6.341914299776553, 8.0),\n",
       "   ((713, 753804700), 4.632678493713077, 10.0),\n",
       "   ((735, 440222818), 6.5303702734876925, 7.0),\n",
       "   ((735, 446611621), 7.48170793753732, 9.0),\n",
       "   ((741, 130139165), 5.8347898967682665, 8.0),\n",
       "   ((741, 381999866), 5.316550980186128, 8.0),\n",
       "   ((741, 140065172), 6.898672242939162, 10.0),\n",
       "   ((741, 450029956), 4.136499694174752, 10.0),\n",
       "   ((741, 451524489), 6.349578713597383, 10.0),\n",
       "   ((753, 741405784), 2.5095400341124843, 8.0),\n",
       "   ((753, 679420118), -0.12368343235125678, 10.0),\n",
       "   ((753, 741403056), 5.500800796172424, 10.0),\n",
       "   ((753, 741411271), 6.986776931106595, 10.0),\n",
       "   ((753, 741412740), 6.560487924380194, 10.0),\n",
       "   ((758, 140620109), 8.082617237068552, 9.0),\n",
       "   ((763, 553211412), 7.270929445964023, 8.0),\n",
       "   ((769, 60914653), 7.035319800565666, 10.0),\n",
       "   ((771, 345347536), 5.21778285072687, 10.0),\n",
       "   ((776, 375704027), 7.136024334396218, 8.0),\n",
       "   ((776, 876850867), 7.039163305848278, 8.0),\n",
       "   ((776, 473540420), 8.732092136093668, 9.0),\n",
       "   ((777, 590484753), 5.778017274621458, 9.0),\n",
       "   ((778, 399147391), 7.7684693802837845, 10.0),\n",
       "   ((785, 743237188), 7.905995977508529, 5.0),\n",
       "   ((786, 553586122), 5.999367346855401, 3.0),\n",
       "   ((786, 553584510), 8.617814597611439, 6.0),\n",
       "   ((805, 60928336), 8.178460797152562, 7.0),\n",
       "   ((805, 810935627), 8.093043813427201, 7.0),\n",
       "   ((805, 375705228), 3.7250892912025053, 8.0),\n",
       "   ((805, 440215625), 7.319286782740799, 8.0),\n",
       "   ((805, 156027321), 7.608075773846243, 9.0),\n",
       "   ((805, 60256672), 6.324480653573536, 10.0),\n",
       "   ((805, 380015031), 8.629023632089055, 10.0),\n",
       "   ((805, 679732764), 7.355525808015197, 10.0),\n",
       "   ((819, 345384466), 1.7542922153674074, 5.0),\n",
       "   ((819, 446364193), 5.148821017166908, 7.0),\n",
       "   ((824, 679734775), 7.432367426697914, 5.0),\n",
       "   ((827, 152013369), 6.174602381990054, 7.0),\n",
       "   ((827, 425124819), 6.84398587256462, 10.0),\n",
       "   ((827, 440414717), 6.7805901419698555, 10.0),\n",
       "   ((834, 965975401), 6.625801645140255, 5.0),\n",
       "   ((843, 684819066), 6.030406895292376, 8.0),\n",
       "   ((843, 786927089), 6.285255129817736, 8.0),\n",
       "   ((850, 423009152), 7.272734474298582, 3.0),\n",
       "   ((850, 893852921), 5.119908067414912, 3.0),\n",
       "   ((850, 671578103), 7.138152354650642, 6.0),\n",
       "   ((850, 596505356), 7.2449311282336275, 8.0),\n",
       "   ((850, 596142229), 6.129513262907216, 10.0),\n",
       "   ((853, 345358791), 7.395420628333106, 5.0),\n",
       "   ((853, 446677574), 7.836748765784764, 8.0),\n",
       "   ((878, 553574833), 6.3209416309332, 9.0),\n",
       "   ((882, 671014201), 6.6485901363763045, 4.0),\n",
       "   ((882, 440215978), 6.251849623035788, 5.0),\n",
       "   ((882, 140440399), 6.672551963651238, 9.0),\n",
       "   ((882, 449230279), 7.439932240847216, 9.0),\n",
       "   ((882, 20418809), 5.187952645713553, 10.0),\n",
       "   ((882, 394557433), 7.111886634449908, 10.0),\n",
       "   ((882, 452265347), 6.808262827774838, 10.0),\n",
       "   ((882, 553250426), 7.491556490786138, 10.0),\n",
       "   ((882, 553572997), 6.204409597844954, 10.0),\n",
       "   ((886, 679723420), 5.222657793957914, 7.0),\n",
       "   ((895, 671500546), 6.339986785255179, 7.0),\n",
       "   ((896, 140620338), 4.500716453392229, 8.0),\n",
       "   ((899, 746670144), 5.063403470407625, 7.0),\n",
       "   ((900, 373057296), 5.503606731940652, 5.0),\n",
       "   ((900, 373092237), -0.3324853967583722, 5.0),\n",
       "   ((900, 425137015), 5.85514749367202, 6.0),\n",
       "   ((900, 553572490), 5.692713774537809, 6.0),\n",
       "   ((901, 91880963), 6.096951757808013, 8.0),\n",
       "   ((901, 140431268), 5.719411521495998, 8.0),\n",
       "   ((901, 551030682), 5.1777488303608195, 8.0),\n",
       "   ((901, 99771519), 5.135657233369849, 9.0),\n",
       "   ((901, 551032510), 8.76340445720236, 9.0),\n",
       "   ((901, 851707777), 6.627980759148597, 9.0),\n",
       "   ((901, 785268480), 6.8607056500481285, 10.0),\n",
       "   ((913, 140272658), 7.295535520120832, 8.0),\n",
       "   ((914, 257250053), 6.781751562566389, 10.0),\n",
       "   ((914, 407805731), 6.970444281242928, 10.0),\n",
       "   ((914, 407805853), 6.565355610846589, 10.0),\n",
       "   ((929, 679741011), 7.448893381874392, 5.0),\n",
       "   ((929, 226726770), 7.268074260289602, 7.0),\n",
       "   ((929, 29087104), 7.644449053800347, 8.0),\n",
       "   ((929, 30615321), 4.44759358648811, 8.0),\n",
       "   ((929, 439404371), 4.235589985563654, 8.0),\n",
       "   ((929, 671461494), 6.05739876566251, 8.0),\n",
       "   ((929, 766607119), 6.438872672122711, 8.0),\n",
       "   ((929, 553801031), 7.4467040315516195, 9.0),\n",
       "   ((929, 553296981), 6.2190377976545985, 10.0),\n",
       "   ((951, 375704043), 6.028306473515876, 8.0),\n",
       "   ((974, 662257283), 5.399857736076382, 10.0),\n",
       "   ((984, 373084520), 7.16805030099773, 7.0),\n",
       "   ((998, 266026658), 6.185577758414805, 8.0),\n",
       "   ((999, 441003257), 4.316987460897609, 7.0),\n",
       "   ((1003, 451202503), 5.256954124831225, 5.0),\n",
       "   ((1009, 451181468), 4.428249538707548, 9.0),\n",
       "   ((1016, 399146008), 6.3252242069523685, 7.0),\n",
       "   ((1019, 902879023), 6.474362179878272, 6.0),\n",
       "   ((1019, 515132632), 5.486282554394859, 8.0),\n",
       "   ((1022, 449909281), 5.39351700107341, 8.0),\n",
       "   ((1022, 375702709), -0.7790007165765032, 10.0),\n",
       "   ((1025, 60928336), 6.983327296710739, 5.0),\n",
       "   ((1025, 146003241), 7.544652030229821, 7.0),\n",
       "   ((1025, 552999512), 4.345954669620998, 7.0),\n",
       "   ((1025, 582420921), 7.09573773312129, 7.0),\n",
       "   ((1025, 749720182), 10.109981698657075, 7.0),\n",
       "   ((1025, 575073314), 6.126685410278324, 8.0),\n",
       "   ((1025, 6369881), 7.649770356054271, 9.0),\n",
       "   ((1025, 99755114), 7.254977506556748, 9.0),\n",
       "   ((1025, 552106615), 8.171162108251107, 9.0),\n",
       "   ((1025, 552108812), 6.3884307305576815, 9.0),\n",
       "   ((1025, 552996009), 6.830105975123036, 9.0),\n",
       "   ((1025, 552998001), 6.493422321623249, 9.0),\n",
       "   ((1025, 586210687), 6.014709662554409, 9.0),\n",
       "   ((1025, 684842671), 8.463662980878937, 9.0),\n",
       "   ((1025, 142000663), 8.620208965511127, 10.0),\n",
       "   ((1025, 330258648), 8.011835253056269, 10.0),\n",
       "   ((1025, 552107735), 6.512310588596697, 10.0),\n",
       "   ((1031, 671027360), 4.21300978714246, 7.0),\n",
       "   ((1040, 743225406), 3.3191097365013995, 5.0),\n",
       "   ((1054, 400034779), 5.946968829963279, 8.0),\n",
       "   ((1054, 375413081), 7.912985174121881, 9.0),\n",
       "   ((1057, 385333031), 7.9091005147000075, 6.0),\n",
       "   ((1063, 802069347), 7.8255519071628035, 7.0),\n",
       "   ((1063, 895773538), 0.26756842751111354, 9.0),\n",
       "   ((1075, 472113658), 8.062710509782969, 5.0),\n",
       "   ((1075, 400034779), 7.823864556697348, 5.0),\n",
       "   ((1075, 385504209), 6.15773353526612, 7.0),\n",
       "   ((1075, 142001740), 3.513156060642336, 10.0),\n",
       "   ((1083, 141310881), 7.719464002247611, 10.0),\n",
       "   ((1083, 440237671), 8.732169891324052, 10.0),\n",
       "   ((1095, 865532168), 7.535795026637162, 10.0),\n",
       "   ((1098, 312279991), 7.5012583620055935, 7.0),\n",
       "   ((1106, 404150406), 3.8248690748066543, 5.0),\n",
       "   ((1111, 385510438), 5.4764338721702766, 8.0),\n",
       "   ((1116, 425095584), 4.607321177757624, 2.0),\n",
       "   ((1116, 425185710), 6.972324702412909, 6.0),\n",
       "   ((1116, 61030651), 4.8323626757994, 8.0),\n",
       "   ((1118, 671527215), 6.213156162272102, 9.0),\n",
       "   ((1123, 486203077), 6.418155221581857, 8.0),\n",
       "   ((1129, 151010102), 6.369355493804214, 7.0),\n",
       "   ((1129, 671318314), 5.523339114896293, 7.0),\n",
       "   ((1131, 446673544), 8.823096587626845, 5.0),\n",
       "   ((1131, 446605891), 6.838397011205953, 6.0),\n",
       "   ((1131, 671004565), 7.056871865429056, 6.0),\n",
       "   ((1131, 60976845), 8.220474424679967, 7.0),\n",
       "   ((1131, 60934417), 7.53228219584779, 8.0),\n",
       "   ((1131, 61093092), 5.6024097734902725, 8.0),\n",
       "   ((1131, 312243022), 8.59109214924911, 8.0),\n",
       "   ((1133, 446611239), 8.047224478389202, 8.0),\n",
       "   ((1155, 671701053), 8.82921947098649, 5.0),\n",
       "   ((1155, 380814021), 8.22905781740934, 6.0),\n",
       "   ((1155, 451402103), 8.117800481364926, 8.0),\n",
       "   ((1155, 743405978), 6.761510462833116, 8.0),\n",
       "   ((1155, 451409256), 5.69644482035194, 9.0),\n",
       "   ((1155, 671032658), 0.43256968916224686, 9.0),\n",
       "   ((1155, 380817683), 6.6709822038075295, 10.0),\n",
       "   ((1161, 373226519), 6.679835225720221, 6.0),\n",
       "   ((1161, 465016146), 7.4717149989546865, 10.0),\n",
       "   ((1161, 791423549), 8.600006083504013, 10.0),\n",
       "   ((1164, 380012774), 8.083605179763776, 10.0),\n",
       "   ((1167, 440217520), 8.743506539968568, 5.0),\n",
       "   ((1167, 679450548), 5.81320493084914, 7.0),\n",
       "   ((1167, 440224675), -0.07016794677530605, 8.0),\n",
       "   ((1167, 802135196), -0.13372783449206088, 9.0),\n",
       "   ((1178, 440940001), 7.307690671654421, 2.0),\n",
       "   ((1178, 440203155), 7.78044248421416, 10.0),\n",
       "   ((1180, 812565959), 8.645425320720438, 10.0),\n",
       "   ((1184, 345366281), 6.719313342875397, 7.0),\n",
       "   ((1192, 451404033), 5.656060836648214, 7.0),\n",
       "   ((1193, 807840227), 6.606095019957418, 7.0),\n",
       "   ((1211, 253152064), 4.650021455932687, 5.0),\n",
       "   ((1211, 70375161), 6.968845325746593, 7.0),\n",
       "   ((1211, 786889373), 4.854732365758132, 8.0),\n",
       "   ((1211, 70360024), 6.247507696070718, 8.0),\n",
       "   ((1211, 253005274), 6.269870627844197, 8.0),\n",
       "   ((1211, 253009164), 4.6768022019479805, 8.0),\n",
       "   ((1211, 266000489), 4.0341573548530265, 8.0),\n",
       "   ((1211, 290331406), 8.053663087930056, 8.0),\n",
       "   ((1211, 20291541), 8.47112225719334, 9.0),\n",
       "   ((1211, 70513726), 7.983904095873344, 9.0),\n",
       "   ((1211, 207250474), 7.143047222462132, 9.0),\n",
       "   ((1211, 290307831), 8.448083555405137, 9.0),\n",
       "   ((1211, 723407381), 6.5115285346746195, 9.0),\n",
       "   ((1211, 723407403), 7.424136603078414, 9.0),\n",
       "   ((1211, 723407411), 7.026142688476614, 9.0),\n",
       "   ((1211, 871294781), 8.701639051197176, 9.0),\n",
       "   ((1214, 451522389), 8.072118604124254, 8.0),\n",
       "   ((1219, 821768281), 7.585608831514399, 6.0),\n",
       "   ((1219, 425169324), 7.978623815784001, 7.0),\n",
       "   ((1234, 420725927), 8.10550733020261, 9.0),\n",
       "   ((1235, 345378490), 4.23550822291635, 9.0),\n",
       "   ((1237, 813013290), 7.73897484461365, 8.0),\n",
       "   ((1242, 559277785), 6.46484850734716, 7.0),\n",
       "   ((1248, 385425686), 0.8618584501669044, 6.0),\n",
       "   ((1248, 679452281), 6.691411886062725, 9.0),\n",
       "   ((1248, 811807150), 6.25064269894421, 9.0),\n",
       "   ((1248, 553580272), -0.24413143323210618, 10.0),\n",
       "   ((1248, 803281730), 7.557259149646187, 10.0),\n",
       "   ((1248, 558534245), 8.228436605925788, 10.0),\n",
       "   ((1249, 671004565), 8.843042852977868, 8.0),\n",
       "   ((1254, 971453217), 6.347952731551665, 7.0),\n",
       "   ((1260, 511046019), 6.119802915788654, 9.0),\n",
       "   ((1261, 345401123), 7.580838030013824, 7.0),\n",
       "   ((1262, 593160151), 8.16093304985865, 10.0),\n",
       "   ((1266, 618126988), -0.5710332352174802, 10.0),\n",
       "   ((1294, 373482851), 6.932710026451675, 8.0),\n",
       "   ((1330, 518368540), 5.924706648941634, 10.0),\n",
       "   ((1343, 552996009), 5.174153812651363, 9.0),\n",
       "   ((1343, 753506262), 8.08759805028315, 10.0),\n",
       "   ((1348, 61008028), 7.360483655925295, 7.0),\n",
       "   ((1368, 375411992), 6.985497912795541, 5.0),\n",
       "   ((1368, 425188361), 8.971023359253351, 7.0),\n",
       "   ((1369, 60287802), 0.1381985398891256, 7.0),\n",
       "   ((1372, 423620196), 3.7752237562593733, 10.0),\n",
       "   ((1376, 425172554), 3.8113660196360852, 7.0),\n",
       "   ((1376, 425177173), 6.835823242433585, 9.0),\n",
       "   ((1378, 817210412), 7.709315568899674, 8.0),\n",
       "   ((1395, 930722291), 6.892963055131507, 10.0),\n",
       "   ((1403, 345440773), 7.125035616046532, 8.0),\n",
       "   ((1409, 515120006), 0.7262633737019067, 6.0),\n",
       "   ((1409, 440208912), 7.421557796775737, 8.0),\n",
       "   ((1409, 425177361), 7.693056981135759, 9.0),\n",
       "   ((1412, 345433084), 5.755141133373469, 6.0),\n",
       "   ((1412, 895871981), 7.290852513879641, 7.0),\n",
       "   ((1412, 156027321), 6.8469202937424924, 9.0),\n",
       "   ((1412, 385486804), 6.870420018345214, 9.0),\n",
       "   ((1412, 385512104), 7.009392327525594, 9.0),\n",
       "   ((1417, 525237704), 6.15662864263439, 7.0),\n",
       "   ((1421, 466305361), -0.20723193811808255, 5.0),\n",
       "   ((1421, 489669597), 5.93420236558012, 5.0),\n",
       "   ((1421, 422668947), -0.3867170713454081, 7.0),\n",
       "   ((1421, 432040592), 0.26737685857167676, 8.0),\n",
       "   ((1424, 61097314), 6.609261307331298, 5.0),\n",
       "   ((1424, 585672939), 5.209320893569268, 5.0),\n",
       "   ((1424, 61056871), 5.719972654545646, 6.0),\n",
       "   ((1424, 151002290), 6.331179657698689, 6.0),\n",
       "   ((1424, 330483013), 6.2936004423277065, 6.0),\n",
       "   ((1424, 606011773), 7.351580705877476, 6.0),\n",
       "   ((1424, 60000805), 3.1068707628922496, 7.0),\n",
       "   ((1424, 60512822), 7.016426873119459, 7.0),\n",
       "   ((1424, 60930535), 7.902196146349629, 7.0),\n",
       "   ((1424, 156006332), 8.216553870017785, 7.0),\n",
       "   ((1424, 345439481), 8.31110059388682, 7.0),\n",
       "   ((1424, 385720106), 8.12013467059889, 7.0),\n",
       "   ((1424, 743431014), 4.496981060188231, 7.0),\n",
       "   ((1424, 881104086), 7.811381555000922, 7.0),\n",
       "   ((1424, 876825251), 6.073805167302041, 7.0),\n",
       "   ((1424, 671646575), 5.56204339275802, 8.0),\n",
       "   ((1424, 743234413), 7.97348648361755, 8.0),\n",
       "   ((1424, 767902521), 5.817472708607573, 8.0),\n",
       "   ((1424, 592247865), 6.180347266007168, 8.0),\n",
       "   ((1424, 140185844), 3.5881171673999415, 9.0),\n",
       "   ((1435, 451208765), 5.5106083507941275, 4.0),\n",
       "   ((1435, 671024248), 5.441355217489354, 4.0),\n",
       "   ((1435, 399133143), 7.603726005594387, 5.0),\n",
       "   ((1435, 875964125), 7.588673080557529, 5.0),\n",
       "   ((1435, 558007725), 8.070260342647735, 6.0),\n",
       "   ((1435, 375505547), 8.716552811976074, 7.0),\n",
       "   ((1435, 374517886), 7.671589415843064, 8.0),\n",
       "   ((1435, 446672211), -0.5288907027361465, 8.0),\n",
       "   ((1435, 684855631), 7.795453175723336, 9.0),\n",
       "   ((1435, 446611239), 6.458570239238113, 10.0),\n",
       "   ((1435, 517149257), 7.00525605592034, 10.0),\n",
       "   ((1435, 913367176), 8.128428647675118, 10.0),\n",
       "   ((1436, 440221651), 7.213258105820282, 6.0),\n",
       "   ((1467, 553583085), 5.723267262685811, 7.0),\n",
       "   ((1467, 671001701), 6.610460792120146, 7.0),\n",
       "   ((1467, 555217532), 3.6349638524370596, 7.0),\n",
       "   ((1485, 140004424), 8.01516458471366, 9.0),\n",
       "   ((1499, 465090974), 0.7615009384863791, 5.0),\n",
       "   ((1500, 670848549), 7.468007402381405, 7.0),\n",
       "   ((1548, 60394447), 5.609036498467564, 1.0),\n",
       "   ((1548, 345434692), 4.286464551521417, 7.0),\n",
       "   ((1548, 553258540), 6.705074863342244, 9.0),\n",
       "   ((1550, 802713661), 4.341940571109808, 9.0),\n",
       "   ((1556, 566091446), 4.103344651284884, 5.0),\n",
       "   ((1558, 61056601), 5.1280193588020495, 10.0),\n",
       "   ((1558, 671698419), -0.9938881539440483, 10.0),\n",
       "   ((1570, 156787334), 7.56493251448779, 10.0),\n",
       "   ((1578, 330258648), 6.872999545447848, 10.0),\n",
       "   ((1585, 451147375), 4.059264075936007, 5.0),\n",
       "   ((1585, 881845906), 7.677504068662872, 5.0),\n",
       "   ((1585, 553282476), 6.770223013432381, 7.0),\n",
       "   ((1589, 61031569), 4.570234953105165, 5.0),\n",
       "   ((1591, 257228007), -0.1720507694542211, 10.0),\n",
       "   ((1597, 679732241), 4.118798020602347, 4.0),\n",
       "   ((1597, 671020315), 4.1476889920641415, 5.0),\n",
       "   ((1597, 671690711), 7.2685821990895185, 7.0),\n",
       "   ((1599, 860469450), 6.468033189379376, 7.0),\n",
       "   ((1639, 689825234), 8.306516786288775, 9.0),\n",
       "   ((1641, 553375407), -0.15851380588757008, 7.0),\n",
       "   ((1660, 553582747), 6.994935777257627, 5.0),\n",
       "   ((1660, 312983654), 8.406115939534587, 6.0),\n",
       "   ((1660, 553561618), 7.626643288881938, 6.0),\n",
       "   ((1660, 789414708), 3.290468309187733, 6.0),\n",
       "   ((1660, 894808291), 7.438807907232937, 7.0),\n",
       "   ((1667, 804398124), 6.495592752929271, 8.0),\n",
       "   ((1674, 312868308), 6.27261030846965, 5.0),\n",
       "   ((1674, 679725164), 7.394590075613847, 6.0),\n",
       "   ((1674, 131554255), 7.312023740633043, 7.0),\n",
       "   ((1674, 345416880), 6.7064308652275395, 7.0),\n",
       "   ((1674, 345382544), 0.7647110038095417, 9.0),\n",
       "   ((1674, 590486101), 8.43717199456287, 10.0),\n",
       "   ((1684, 385254520), 6.749707866697152, 8.0),\n",
       "   ((1688, 515129021), 7.342598957036429, 5.0),\n",
       "   ((1688, 515131091), 4.234636474882871, 6.0),\n",
       "   ((1688, 552138223), 6.773775102950864, 9.0),\n",
       "   ((1696, 484502112), -0.44559149603011555, 8.0),\n",
       "   ((1721, 449225151), 5.881166152716096, 9.0),\n",
       "   ((1725, 466307982), 6.61221668991463, 7.0),\n",
       "   ((1725, 765342405), 4.03410964381975, 9.0),\n",
       "   ((1725, 440627191), 0.3312699236199437, 10.0),\n",
       "   ((1725, 445071191), 9.010245933611852, 10.0),\n",
       "   ((1733, 373079621), 8.483064917047031, 3.0),\n",
       "   ((1733, 373196636), 7.494748351321329, 4.0),\n",
       "   ((1733, 312983824), 6.161385624791728, 5.0),\n",
       "   ((1733, 446364762), 4.62680363425142, 5.0),\n",
       "   ((1733, 505522969), 5.305147648899171, 5.0),\n",
       "   ((1733, 373301529), 6.324342212785667, 6.0),\n",
       "   ((1733, 551669404), 3.951087111293275, 6.0),\n",
       "   ((1733, 373271867), 8.09459215426789, 7.0),\n",
       "   ((1733, 373708221), 8.704190657798698, 7.0),\n",
       "   ((1733, 380767351), -0.06947229598615134, 7.0),\n",
       "   ((1733, 373121601), 5.3776458261421665, 8.0),\n",
       "   ((1733, 373121857), 7.500666923294789, 8.0),\n",
       "   ((1733, 373226934), 6.279696258028505, 8.0),\n",
       "   ((1733, 380777304), 7.217226046581719, 8.0),\n",
       "   ((1733, 515130419), 5.791028875864223, 8.0),\n",
       "   ((1733, 61042005), 7.066512233534711, 9.0),\n",
       "   ((1733, 373832321), 5.146861548457235, 9.0),\n",
       "   ((1733, 451205189), 8.902294573454613, 9.0),\n",
       "   ((1733, 515132871), 8.858962631929826, 9.0),\n",
       "   ((1733, 671007696), 6.9329670396276954, 9.0),\n",
       "   ((1733, 821768107), 4.815367609015794, 9.0),\n",
       "   ((1733, 345447840), 6.502341068540682, 10.0),\n",
       "   ((1733, 743431367), 5.070687595544496, 10.0),\n",
       "   ((1761, 440900581), 7.0589921382156735, 10.0),\n",
       "   ((1785, 253032832), 6.8270718376355966, 7.0),\n",
       "   ((1791, 812504364), 6.1320441437063025, 7.0),\n",
       "   ((1791, 380000830), 6.644440989066545, 8.0),\n",
       "   ((1797, 280150131), 5.658741908649182, 5.0),\n",
       "   ((1797, 253143790), 4.963910346669856, 9.0),\n",
       "   ((1799, 879833103), 6.214995382464102, 5.0),\n",
       "   ((1805, 312281250), 7.775047771048021, 7.0),\n",
       "   ((1805, 312195516), 0.8399606526806276, 9.0),\n",
       "   ((1807, 426861550), 7.1046112172832645, 6.0),\n",
       "   ((1827, 727470051), 3.913091476398161, 7.0),\n",
       "   ((1830, 553377884), 7.309774460581127, 6.0),\n",
       "   ((1838, 609605623), 6.15768830131855, 8.0),\n",
       "   ((1848, 451169530), 0.15654707020815245, 5.0),\n",
       "   ((1848, 525463313), 6.38258838626452, 6.0),\n",
       "   ((1848, 871401185), 5.97374131294963, 7.0),\n",
       "   ((1848, 345378482), 6.273471697430555, 8.0),\n",
       "   ((1848, 345417623), 5.702888630985373, 8.0),\n",
       "   ((1848, 812550706), 5.137287499513885, 8.0),\n",
       "   ((1848, 717802418), 4.455877589724033, 10.0),\n",
       "   ((1848, 765348446), 6.277653215964641, 10.0),\n",
       "   ((1848, 786868716), 4.742360752611064, 10.0),\n",
       "   ((1848, 804832463), 0.5017256195891173, 10.0),\n",
       "   ((1848, 812511816), 5.3534641857081215, 10.0),\n",
       "   ((1850, 869430727), 5.868514509592691, 6.0),\n",
       "   ((1859, 812515609), 5.82294277118121, 8.0),\n",
       "   ((1863, 502517959), 7.096421359466653, 7.0),\n",
       "   ((1869, 812530489), 5.248844527458494, 10.0),\n",
       "   ((1881, 804108821), 4.616507871384389, 4.0),\n",
       "   ((1898, 60922532), -0.43480743489406826, 8.0),\n",
       "   ((1903, 684866005), 5.605767047677367, 1.0),\n",
       "   ((1903, 879804211), -0.4804560324366463, 1.0),\n",
       "   ((1903, 440223301), 5.090142134464064, 6.0),\n",
       "   ((1903, 786863511), 5.196994776432898, 6.0),\n",
       "   ((1903, 130891347), 6.172688696823757, 8.0),\n",
       "   ((1903, 517084732), 6.152510024470569, 8.0),\n",
       "   ((1903, 435240609), 3.817239449889838, 9.0),\n",
       "   ((1903, 857882921), 4.127616495270034, 9.0),\n",
       "   ((1903, 130289221), 7.47649222532575, 10.0),\n",
       "   ((1903, 316441791), 7.372196807851291, 10.0),\n",
       "   ((1903, 316777730), 6.992347552948902, 10.0),\n",
       "   ((1903, 340697687), 7.695372288334626, 10.0),\n",
       "   ((1903, 446391581), 7.660977250580837, 10.0),\n",
       "   ((1903, 465021433), 7.665122620154006, 10.0),\n",
       "   ((1903, 670031518), 7.248182735188065, 10.0),\n",
       "   ((1903, 968246907), 7.774973774656484, 10.0),\n",
       "   ((1903, 565115228), 7.984624430621098, 10.0),\n",
       "   ((1915, 440224659), 8.471006625398502, 7.0),\n",
       "   ((1923, 330357190), 7.854589663084431, 8.0),\n",
       "   ((1923, 413588106), 4.856187734644383, 8.0),\n",
       "   ((1923, 671757059), 8.12141004033189, 8.0),\n",
       "   ((1928, 871971951), 8.549607776552673, 7.0),\n",
       "   ((1947, 679748083), 7.122294956502173, 9.0),\n",
       "   ((1973, 804360331), 8.450993520127325, 7.0),\n",
       "   ((1973, 912667827), 8.17165561387003, 7.0),\n",
       "   ((1984, 888972922), 5.878392456461612, 7.0),\n",
       "   ((1990, 585622032), 7.9086104556884305, 7.0),\n",
       "   ((1990, 586488046), 8.950162427363745, 7.0),\n",
       "   ((1990, 522405697), 9.305733875576287, 8.0),\n",
       "   ((1996, 552998338), 8.762932495378625, 7.0),\n",
       "   ((1996, 140272658), 6.657636468797898, 8.0),\n",
       "   ((2009, 714113931), 8.886616550854281, 9.0),\n",
       "   ((2010, 671614460), 7.191917137215506, 4.0),\n",
       "   ((2010, 684859262), 8.150101127989437, 8.0),\n",
       "   ((2010, 688156126), 7.260669451390065, 9.0),\n",
       "   ((2012, 670892963), 5.531151149047517, 2.0),\n",
       "   ((2012, 752841890), 8.904197004738853, 8.0),\n",
       "   ((2019, 440214041), 8.130415053900565, 5.0),\n",
       "   ((2024, 525480374), 5.688973169683907, 5.0),\n",
       "   ((2024, 415907411), 8.901879662547453, 8.0),\n",
       "   ((2024, 802116825), 6.327049627365779, 8.0),\n",
       "   ((2024, 896082172), 8.415662233267543, 8.0),\n",
       "   ((2024, 393011224), 7.651266505183086, 9.0),\n",
       "   ((2030, 882591275), 6.798952004721326, 5.0),\n",
       "   ((2030, 60191988), 7.136324016218719, 10.0),\n",
       "   ((2030, 62500287), 6.002704367063488, 10.0),\n",
       "   ((2030, 62507567), 8.558492686012151, 10.0),\n",
       "   ((2030, 62509594), 7.831877370555735, 10.0),\n",
       "   ((2030, 140298479), 6.833263746878192, 10.0),\n",
       "   ((2030, 140422226), 7.589748591220302, 10.0),\n",
       "   ((2030, 345453557), 6.886914626304091, 10.0),\n",
       "   ((2030, 385484100), 8.62861476746146, 10.0),\n",
       "   ((2030, 553255959), 7.202640108722916, 10.0),\n",
       "   ((2030, 694524638), 7.879020248737914, 10.0),\n",
       "   ((2030, 743400720), 8.903386807812605, 10.0),\n",
       "   ((2030, 786860642), 8.366051898762349, 10.0),\n",
       "   ((2030, 821211226), 7.368376675277975, 10.0),\n",
       "   ((2030, 561706213), 9.127810976949194, 10.0),\n",
       "   ((2030, 577310454), 7.261312436212678, 10.0),\n",
       "   ((2033, 345337662), 7.1302888739693255, 5.0),\n",
       "   ((2033, 886775043), 8.52368901512518, 5.0),\n",
       "   ((2033, 192800493), 9.346702015266624, 6.0),\n",
       "   ((2033, 399523308), 7.397092883706471, 6.0),\n",
       "   ((2033, 895779129), 6.81125433421542, 6.0),\n",
       "   ((2033, 812535219), 8.507019947489667, 7.0),\n",
       "   ((2033, 559274581), 8.07946604523126, 7.0),\n",
       "   ((2033, 563057001), 5.778450036907094, 7.0),\n",
       "   ((2033, 7166311), 7.322254447788232, 8.0),\n",
       "   ((2033, 61056286), 5.307046496753683, 8.0),\n",
       "   ((2033, 312921098), 6.43506606815107, 8.0),\n",
       "   ((2033, 812532635), 8.825455897762302, 8.0),\n",
       "   ((2033, 812532961), 8.13988133206726, 8.0),\n",
       "   ((2033, 886775167), 8.707734317995715, 8.0),\n",
       "   ((2033, 886775639), 7.432999052559704, 8.0),\n",
       "   ((2033, 61056294), 7.686438253513202, 9.0),\n",
       "   ((2033, 316542377), 6.856499464603398, 9.0),\n",
       "   ((2033, 439358061), 6.79610724336181, 9.0),\n",
       "   ((2033, 812090381), 8.026257244767107, 9.0),\n",
       "   ((2033, 874936225), 6.231550993861285, 9.0),\n",
       "   ((2033, 886776589), 0.0854235237599232, 9.0),\n",
       "   ((2033, 558506438), 8.233550387632091, 9.0),\n",
       "   ((2033, 60248025), 7.758823920751365, 10.0),\n",
       "   ((2033, 60256737), 6.461465757805313, 10.0),\n",
       "   ((2033, 61056278), 7.1309881483203625, 10.0),\n",
       "   ((2033, 201632721), 8.015728214205293, 10.0),\n",
       "   ((2033, 451458508), 8.076981873759433, 10.0),\n",
       "   ((2033, 451458990), 8.446735996317509, 10.0),\n",
       "   ((2033, 471485527), 7.595639625503192, 10.0),\n",
       "   ((2033, 671676253), 9.063283238698148, 10.0),\n",
       "   ((2033, 765345048), 7.776474746078495, 10.0),\n",
       "   ((2033, 812516850), 9.042570383378706, 10.0),\n",
       "   ((2033, 812520157), 6.876805813306726, 10.0),\n",
       "   ((2033, 812533658), 7.629842260104418, 10.0),\n",
       "   ((2033, 812575717), 6.34964960788547, 10.0),\n",
       "   ((2033, 875962432), 7.898246289508853, 10.0),\n",
       "   ((2033, 886777208), 8.559702197796017, 10.0),\n",
       "   ((2033, 965921506), 7.948985323439374, 10.0),\n",
       "   ((2033, 556432151), 6.3428668326558055, 10.0),\n",
       "   ((2033, 891400495), 6.706327159038227, 10.0),\n",
       "   ((2035, 140376410), 5.8737310536417935, 8.0),\n",
       "   ((2036, 573229326), 8.497988315288236, 9.0),\n",
       "   ((2041, 385416342), 5.041986678239072, 7.0),\n",
       "   ((2041, 345406036), 8.251375296511036, 8.0),\n",
       "   ((2043, 345421825), 7.298502982277248, 10.0),\n",
       "   ((2060, 380896931), 7.64861694902885, 9.0),\n",
       "   ((2063, 971942315), 7.418036248999136, 8.0),\n",
       "   ((2074, 441408981), 6.544333135681266, 8.0),\n",
       "   ((2084, 434845091), 7.569281486917186, 6.0),\n",
       "   ((2084, 484509125), 7.242010719014794, 6.0),\n",
       "   ((2084, 420465321), 7.231062773513143, 7.0),\n",
       "   ((2084, 420483885), 6.958891166746416, 7.0),\n",
       "   ((2084, 474448174), -0.20986738093638876, 7.0),\n",
       "   ((2084, 477021473), 0.3245844965395209, 8.0),\n",
       "   ((2084, 440616368), 5.839315306236315, 9.0),\n",
       "   ((2090, 671646575), 6.561150492552588, 5.0),\n",
       "   ((2090, 440162041), 6.613788240438451, 10.0),\n",
       "   ((2099, 440224764), -0.27412786697399094, 8.0),\n",
       "   ((2103, 679723374), 6.769424348104208, 6.0),\n",
       "   ((2103, 679745963), 7.000450983247168, 7.0),\n",
       "   ((2103, 716744481), 7.589064345620658, 7.0),\n",
       "   ((2103, 385472951), 8.511492511072117, 9.0),\n",
       "   ((2103, 140296451), 6.581984315098117, 10.0),\n",
       "   ((2103, 671577727), 7.853841702700267, 10.0),\n",
       "   ((2103, 671875965), 6.476685593220587, 10.0),\n",
       "   ((2103, 966543610), 6.785847915886428, 10.0),\n",
       "   ((2106, 375509283), 0.22475343504551804, 6.0),\n",
       "   ((2109, 553561601), 2.188267308121487, 4.0),\n",
       "   ((2110, 151008116), 7.335215088082373, 5.0),\n",
       "   ((2110, 806512318), 7.292256099160136, 6.0),\n",
       "   ((2110, 572970944), 5.341823669827445, 6.0),\n",
       "   ((2110, 373619499), 4.151688592384713, 7.0),\n",
       "   ((2110, 373619502), 5.569774877433528, 7.0),\n",
       "   ((2110, 373642911), 5.668052308095203, 7.0),\n",
       "   ((2110, 373642921), 8.110755320778562, 7.0),\n",
       "   ((2110, 394563131), 6.385203641481104, 7.0),\n",
       "   ((2110, 786807555), 7.191565814998447, 7.0),\n",
       "   ((2110, 933174901), 6.577898185108661, 7.0),\n",
       "   ((2110, 561008931), 5.905831485000405, 7.0),\n",
       "   ((2110, 152162501), 8.820265590458053, 8.0),\n",
       "   ((2110, 394707745), 5.951108601535191, 8.0),\n",
       "   ((2110, 425165401), 5.963241215994213, 8.0),\n",
       "   ((2110, 439176824), 6.64608263099624, 8.0),\n",
       "   ((2110, 590448315), 5.293666650509444, 8.0),\n",
       "   ((2110, 590448323), 0.32297610780709196, 8.0),\n",
       "   ((2110, 590453671), 7.898877545967748, 8.0),\n",
       "   ((2110, 590956159), 4.950294106633033, 8.0),\n",
       "   ((2110, 671802283), 4.3582160861088575, 8.0),\n",
       "   ((2110, 898863538), 4.055769662257582, 8.0),\n",
       "   ((2110, 441000762), 5.19830596350763, 9.0),\n",
       "   ((2110, 590879979), 6.7945670780610925, 9.0),\n",
       "   ((2110, 671527215), 6.79520119382758, 9.0),\n",
       "   ((2110, 345287101), 7.354565176300101, 10.0),\n",
       "   ((2110, 345307674), 7.8988632194431165, 10.0),\n",
       "   ((2110, 345362276), 7.694744777141121, 10.0),\n",
       "   ((2110, 380570009), -0.26189387034457035, 10.0),\n",
       "   ((2110, 439240700), 5.1832049172670205, 10.0),\n",
       "   ((2110, 590213040), 0.35136759883029844, 10.0),\n",
       "   ((2110, 590629794), 7.264822024659603, 10.0),\n",
       "   ((2110, 671695304), 0.3197204909920114, 10.0),\n",
       "   ((2110, 743486625), 7.372363437624445, 10.0),\n",
       "   ((2110, 970897261), 3.7053093590169563, 10.0),\n",
       "   ((2110, 565111575), 8.107077011821136, 10.0),\n",
       "   ((2115, 515120618), 5.85790221734408, 7.0),\n",
       "   ((2116, 671004573), 2.5888856417580173, 7.0),\n",
       "   ((2119, 971766711), 5.8870606425042045, 5.0),\n",
       "   ((2132, 551666766), 8.068270689107788, 8.0),\n",
       "   ((2134, 385483813), 7.41009665849816, 7.0),\n",
       "   ((2134, 399517405), 7.632698503185874, 9.0),\n",
       "   ((2134, 671743228), 7.374861959715764, 10.0),\n",
       "   ((2135, 804110867), 8.102949956042204, 8.0),\n",
       "   ((2136, 441001866), 3.1666190602717204, 8.0),\n",
       "   ((2138, 671743562), 8.185083479703271, 8.0),\n",
       "   ((2139, 385335830), 2.7853985721809127, 7.0),\n",
       "   ((2148, 316182540), 6.708781474387219, 8.0),\n",
       "   ((2170, 752848755), 8.377343356295828, 8.0),\n",
       "   ((2172, 864388772), 4.211808015971848, 10.0),\n",
       "   ((2178, 452269571), 8.443494831868206, 5.0),\n",
       "   ((2179, 312263120), -0.4587670564071165, 8.0),\n",
       "   ((2179, 451524934), 7.84279013846362, 8.0),\n",
       "   ((2179, 60392452), 8.56049462076689, 9.0),\n",
       "   ((2179, 931836876), 1.0730107240637685, 9.0),\n",
       "   ((2179, 385504209), 7.37601125750691, 10.0),\n",
       "   ((2179, 671721046), 7.640038699310943, 10.0),\n",
       "   ((2190, 812579569), 6.217268293159642, 7.0),\n",
       "   ((2197, 375727434), 0.2440691348353529, 7.0),\n",
       "   ((2197, 590477323), -0.37216630978369025, 7.0),\n",
       "   ((2197, 449701875), 0.5270736737804281, 8.0),\n",
       "   ((2197, 449702545), -0.6063342467611055, 8.0),\n",
       "   ((2197, 312291639), -0.8424094226109682, 9.0),\n",
       "   ((2198, 451524934), 0.6547626283666783, 10.0),\n",
       "   ((2199, 99771519), 3.04184292067961, 9.0),\n",
       "   ((2203, 552138916), 6.343497840959969, 6.0),\n",
       "   ((2204, 440211727), 4.360696626858182, 9.0),\n",
       "   ((2209, 817151157), 8.7138693451517, 8.0),\n",
       "   ((2223, 401068049), 6.493460345479596, 5.0),\n",
       "   ((2226, 890377741), 6.260496324979699, 9.0),\n",
       "   ((2238, 345366621), 5.312667750587197, 10.0),\n",
       "   ((2250, 684874350), 2.792620598305839, 8.0),\n",
       "   ((2255, 425175405), 5.291710796564124, 7.0),\n",
       "   ((2255, 452264790), 2.430578599146648, 8.0),\n",
       "   ((2266, 301664611), 0.15609842661783613, 8.0),\n",
       "   ((2271, 684874350), 0.2395328452043581, 10.0),\n",
       "   ((2276, 559702125), 6.674421068194632, 4.0),\n",
       "   ((2276, 446521612), 8.722292649281423, 5.0),\n",
       "   ((2276, 451401905), 7.305808631014111, 5.0),\n",
       "   ((2276, 671428306), 5.7158748729604145, 5.0),\n",
       "   ((2276, 812585151), 3.127268231345544, 5.0),\n",
       "   ((2276, 743424387), 7.811055347710555, 6.0),\n",
       "   ((2276, 556111401), 7.353594131578482, 6.0),\n",
       "   ((2276, 71407944), 8.468518258293832, 7.0),\n",
       "   ((2276, 345361407), 3.313630159006439, 7.0),\n",
       "   ((2276, 345382447), 6.27863097465291, 7.0),\n",
       "   ((2276, 425033260), 6.4641819126671045, 7.0),\n",
       "   ((2276, 451115589), 8.253779394937004, 7.0),\n",
       "   ((2276, 460016989), 5.48045553334219, 7.0),\n",
       "   ((2276, 515135747), 5.9400268824760225, 7.0),\n",
       "   ((2276, 553235771), 6.757071742343159, 7.0),\n",
       "   ((2276, 671833367), 7.804809300560773, 7.0),\n",
       "   ((2276, 61098353), 5.7998383725453095, 8.0),\n",
       "   ((2276, 345286431), 8.651799507566336, 8.0),\n",
       "   ((2276, 345357620), 3.7611421116813557, 8.0),\n",
       "   ((2276, 345397371), 4.306323346749481, 8.0),\n",
       "   ((2276, 380770210), 5.026617773510711, 8.0),\n",
       "   ((2276, 425058190), 3.427496704771726, 8.0),\n",
       "   ((2276, 441736841), 5.56382050863854, 8.0),\n",
       "   ((2276, 534129064), 8.629848879057942, 8.0),\n",
       "   ((2276, 553290797), 7.209784218257879, 8.0),\n",
       "   ((2276, 553576801), 7.861903618900211, 8.0),\n",
       "   ((2276, 671016768), 7.821677688976797, 8.0),\n",
       "   ((2276, 886779200), -0.14687788785203504, 8.0),\n",
       "   ((2276, 931580366), 6.737725158269626, 8.0),\n",
       "   ((2276, 30632366), 8.457072506880195, 9.0),\n",
       "   ((2276, 133143023), 8.082311378563531, 9.0),\n",
       "   ((2276, 312191952), 7.540930644819347, 9.0),\n",
       "   ((2276, 340055383), 6.402336121694242, 9.0),\n",
       "   ((2276, 345460693), 7.700206038290029, 9.0),\n",
       "   ((2276, 425039048), 7.713433204110466, 9.0),\n",
       "   ((2276, 425172546), 3.4585065968422324, 9.0),\n",
       "   ((2276, 446327085), 4.266672614247777, 9.0),\n",
       "   ((2276, 451204891), 6.979609617632239, 9.0),\n",
       "   ((2276, 671635743), 6.212685466059897, 9.0),\n",
       "   ((2276, 671721542), 7.142354374966526, 9.0),\n",
       "   ((2276, 671836927), 6.531076563617592, 9.0),\n",
       "   ((2276, 345275497), 7.142324632852088, 10.0),\n",
       "   ((2276, 399146725), 6.661166792382187, 10.0),\n",
       "   ((2276, 425170470), 8.545578148922626, 10.0),\n",
       "   ((2276, 446518220), 0.5592909194016473, 10.0),\n",
       "   ((2276, 446936383), 3.8549699028085316, 10.0),\n",
       "   ((2276, 449237842), 5.898910760408551, 10.0),\n",
       "   ((2276, 451452941), 3.770724318665917, 10.0),\n",
       "   ((2276, 671442686), 0.06655368047764594, 10.0),\n",
       "   ((2276, 805063897), 0.686765813438958, 10.0),\n",
       "   ((2276, 878331824), 4.557919473961555, 10.0),\n",
       "   ((2276, 886771897), 3.8474322236575302, 10.0),\n",
       "   ((2276, 886772222), 2.2606534191560113, 10.0),\n",
       "   ((2276, 886772559), 6.354239449989418, 10.0),\n",
       "   ((2276, 886773199), 5.531000924881733, 10.0),\n",
       "   ((2276, 886775167), 0.5497194971872347, 10.0),\n",
       "   ((2276, 897890272), 5.843812950809586, 10.0),\n",
       "   ((2281, 61008427), 7.1708209687579, 3.0),\n",
       "   ((2287, 61051098), 5.549623696968819, 6.0),\n",
       "   ((2287, 446360856), 6.052840749647895, 6.0),\n",
       "   ((2287, 425147622), 7.834362446684512, 7.0),\n",
       "   ((2288, 425144429), 6.290323872406228, 5.0),\n",
       "   ((2288, 440206707), 5.760194614210854, 7.0),\n",
       "   ((2288, 70212570), 7.00359816428504, 8.0),\n",
       "   ((2288, 553582763), 2.865967846867597, 9.0),\n",
       "   ((2288, 425188809), 6.212067966464247, 10.0),\n",
       "   ((2292, 451204948), 8.455664147239304, 8.0),\n",
       "   ((2296, 399144137), 2.681293780222302, 8.0),\n",
       "   ((2311, 786404019), 7.453537471250611, 10.0),\n",
       "   ((2313, 399141146), 7.539411132441069, 3.0),\n",
       "   ((2313, 385482388), 7.796799018628672, 5.0),\n",
       "   ((2313, 679733760), 6.676835441248611, 7.0),\n",
       "   ((2313, 385470142), 7.984418811491929, 9.0),\n",
       "   ((2313, 812533550), 6.917740005171662, 9.0),\n",
       "   ((2313, 394756827), 6.877981521489529, 10.0),\n",
       "   ((2326, 807281956), 8.089479382589996, 9.0),\n",
       "   ((2333, 30437717), 7.018843579450483, 7.0),\n",
       "   ((2333, 399138749), 7.690460662046771, 7.0),\n",
       "   ((2333, 571069134), 5.675489884198283, 7.0),\n",
       "   ((2335, 588512681), -0.48187713737273763, 7.0),\n",
       "   ((2337, 385505833), 7.160885691001919, 7.0),\n",
       "   ((2337, 142001740), 3.8466726698377327, 8.0),\n",
       "   ((2337, 671510126), 7.015411863184534, 8.0),\n",
       "   ((2337, 803722907), 6.818406150576701, 9.0),\n",
       "   ((2337, 136714897), 6.929414975087435, 10.0),\n",
       "   ((2337, 875093663), 7.243473999970313, 10.0),\n",
       "   ((2339, 553284241), 7.604061443039303, 6.0),\n",
       "   ((2350, 525945172), 9.651093020243817, 8.0),\n",
       "   ((2354, 380814021), 3.0175001373668815, 7.0),\n",
       "   ((2354, 141310881), 6.830040238278954, 8.0),\n",
       "   ((2358, 590335601), 7.973037136619391, 6.0),\n",
       "   ((2358, 425171973), 8.329744076024975, 7.0),\n",
       "   ((2358, 553272004), 7.417678543543854, 7.0),\n",
       "   ((2358, 345348176), 7.703146321799731, 8.0),\n",
       "   ((2358, 440208823), 8.197059500932957, 8.0),\n",
       "   ((2358, 440400759), 8.069666302042618, 8.0),\n",
       "   ((2358, 446603783), 5.920193578056436, 8.0),\n",
       "   ((2358, 449212599), 8.567826897459046, 8.0),\n",
       "   ((2358, 671034251), -0.6382008705989072, 8.0),\n",
       "   ((2363, 440234948), 5.696284184728271, 6.0),\n",
       "   ((2363, 451450787), 2.4036204342310183, 9.0),\n",
       "   ((2363, 451452380), 5.362555536430408, 9.0),\n",
       "   ((2363, 451452542), 4.3246246185283885, 9.0),\n",
       "   ((2363, 451453697), 6.205988541777028, 9.0),\n",
       "   ((2363, 451453727), 4.899995526249552, 9.0),\n",
       "   ((2363, 451457374), 5.049891482644707, 9.0),\n",
       "   ((2363, 451457471), 7.8971260193064605, 9.0),\n",
       "   ((2369, 676973604), 8.19300904307144, 8.0),\n",
       "   ((2385, 440216745), 7.263439282258838, 7.0),\n",
       "   ((2389, 426021293), 9.23865440715002, 5.0),\n",
       "   ((2398, 804473606), 8.35363353064647, 7.0),\n",
       "   ((2399, 812533666), 8.350027587958625, 4.0),\n",
       "   ((2399, 345317580), 7.929427163345522, 7.0),\n",
       "   ((2399, 345334310), 7.548241661723045, 8.0),\n",
       "   ((2399, 345337662), 3.4944364938746, 9.0),\n",
       "   ((2404, 967224918), 2.275079862123913, 7.0),\n",
       "   ((2406, 897053020), 6.678753891869423, 1.0),\n",
       "   ((2406, 442440246), 6.348519545143427, 3.0),\n",
       "   ((2406, 257228449), 8.074288217769464, 4.0),\n",
       "   ((2406, 596131545), 8.086368548803026, 4.0),\n",
       "   ((2411, 971880107), 6.119477793177666, 3.0),\n",
       "   ((2411, 671522728), 9.119613931322556, 5.0),\n",
       "   ((2411, 717287998), 6.647474004264489, 5.0),\n",
       "   ((2414, 451176723), 8.390377847202647, 5.0),\n",
       "   ((2414, 62502182), 6.664630220187413, 7.0),\n",
       "   ((2416, 477204055), 6.409711437233394, 7.0),\n",
       "   ((2439, 425174468), 6.463564952067194, 7.0),\n",
       "   ((2442, 804334878), 8.326253741691362, 5.0),\n",
       "   ((2442, 845217256), 7.106867910639842, 5.0),\n",
       "   ((2442, 878182397), 6.737108930769752, 5.0),\n",
       "   ((2442, 879830678), 6.047794936588723, 5.0),\n",
       "   ((2442, 879835068), 6.098866330238783, 5.0),\n",
       "   ((2442, 879835424), -0.39942234114955616, 5.0),\n",
       "   ((2442, 804360976), 7.562459528451478, 6.0),\n",
       "   ((2442, 804520620), 4.807387010870713, 6.0),\n",
       "   ((2442, 879837321), 5.335060556164995, 6.0),\n",
       "   ((2442, 807814234), 5.957776234285063, 7.0),\n",
       "   ((2442, 879831208), 5.720957929370395, 7.0),\n",
       "   ((2442, 879839225), 6.977521089114522, 7.0),\n",
       "   ((2442, 881111136), 6.907252679578141, 7.0),\n",
       "   ((2442, 881111527), 7.971345754333566, 7.0),\n",
       "   ((2442, 888155031), 5.210406932469457, 7.0),\n",
       "   ((2442, 878191388), 8.131967655307092, 8.0),\n",
       "   ((2442, 879834223), 7.046036900931804, 8.0),\n",
       "   ((2442, 806147439), 5.923160126859293, 10.0),\n",
       "   ((2442, 807810778), 7.021980474224765, 10.0),\n",
       "   ((2442, 807816016), 6.528178360692726, 10.0),\n",
       "   ((2462, 449244970), 6.419832924642444, 8.0),\n",
       "   ((2462, 804117934), 6.970132947160218, 9.0),\n",
       "   ((2470, 553378260), 6.924264140655494, 5.0),\n",
       "   ((2473, 556614438), 6.247373665941029, 10.0),\n",
       "   ((2480, 32165389), 8.3310124274844, 5.0),\n",
       "   ((2481, 140280553), 7.28260561974522, 8.0),\n",
       "   ((2488, 574024864), 6.960037223001635, 2.0),\n",
       "   ((2488, 574024856), 7.989018078553195, 8.0),\n",
       "   ((2503, 400034779), 8.369879379905942, 7.0),\n",
       "   ((2508, 349109931), 7.353124172000569, 9.0),\n",
       "   ((2549, 6551092), 7.697593921526156, 10.0),\n",
       "   ((2550, 525945271), 5.861091353804476, 10.0),\n",
       "   ((2552, 404141970), 7.202013868996792, 7.0),\n",
       "   ((2552, 596156963), 7.567188898717972, 7.0),\n",
       "   ((2559, 60928336), 7.489625369903096, 7.0),\n",
       "   ((2583, 694013226), 6.026341408382681, 9.0),\n",
       "   ((2584, 441005764), 5.9092216799489155, 10.0),\n",
       "   ((2589, 671034065), 3.8877736938997254, 4.0),\n",
       "   ((2589, 671024051), 6.462202266838349, 7.0),\n",
       "   ((2589, 439101336), 7.828996552056168, 8.0),\n",
       "   ((2589, 440237416), 6.98961176839539, 8.0),\n",
       "   ((2596, 612276581), 7.371030823358186, 5.0),\n",
       "   ((2597, 684836483), 7.24441041979846, 7.0),\n",
       "   ((2597, 60187001), 7.639909873476224, 8.0),\n",
       "   ((2615, 140258418), 7.1947151335923305, 7.0),\n",
       "   ((2622, 566194016), 4.231653969608024, 3.0),\n",
       "   ((2622, 743204158), 6.397906382843647, 7.0),\n",
       "   ((2622, 880642191), 3.9605644250805234, 8.0),\n",
       "   ((2630, 394541545), 6.626838789705122, 8.0),\n",
       "   ((2633, 440235758), 3.5913894035738085, 3.0),\n",
       "   ((2643, 886773784), 6.243929164967932, 9.0),\n",
       "   ((2644, 883657635), 6.289349714788168, 8.0),\n",
       "   ((2651, 425180964), 6.467536929184667, 8.0),\n",
       "   ((2653, 399148019), 7.720095318128602, 9.0),\n",
       "   ((2655, 804508183), 6.892331988227302, 6.0),\n",
       "   ((2655, 807014467), 6.699738374628534, 8.0),\n",
       "   ((2665, 140620338), 6.941224352495727, 5.0),\n",
       "   ((2670, 743411250), 9.864692741308506, 7.0),\n",
       "   ((2679, 140016821), 7.1728912603105215, 7.0),\n",
       "   ((2685, 366020444), 7.7940428436440135, 7.0),\n",
       "   ((2685, 879830643), 4.503450507069861, 7.0),\n",
       "   ...)],\n",
       " 9.969889097231045,\n",
       " 3.1575131190908845]"
      ]
     },
     "execution_count": 61,
     "metadata": {},
     "output_type": "execute_result"
    }
   ],
   "source": [
    "modelsArray[-1]"
   ]
  }
 ],
 "metadata": {
  "kernelspec": {
   "display_name": "Python 3 (ipykernel)",
   "language": "python",
   "name": "python3"
  },
  "language_info": {
   "codemirror_mode": {
    "name": "ipython",
    "version": 3
   },
   "file_extension": ".py",
   "mimetype": "text/x-python",
   "name": "python",
   "nbconvert_exporter": "python",
   "pygments_lexer": "ipython3",
   "version": "3.9.7"
  }
 },
 "nbformat": 4,
 "nbformat_minor": 5
}
