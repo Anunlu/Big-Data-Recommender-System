{
 "cells": [
  {
   "cell_type": "markdown",
   "id": "3ee9aa22",
   "metadata": {},
   "source": [
    "# Term Project\n",
    "\n",
    "<h3>Ahmet Nasuhcan ÜNLÜ 171805062 <br>\n",
    "Ozan İrfan BAYAR 171805041<br>\n",
    "İlker MAVİLİ 181805084</h3>\n"
   ]
  },
  {
   "cell_type": "code",
   "execution_count": 13,
   "id": "10eead15",
   "metadata": {},
   "outputs": [],
   "source": [
    "from pyspark import SparkConf\n",
    "from pyspark import SparkContext\n",
    "import findspark\n",
    "findspark.init()"
   ]
  },
  {
   "cell_type": "code",
   "execution_count": 14,
   "id": "f74a19a5",
   "metadata": {},
   "outputs": [],
   "source": [
    "conf = SparkConf().setMaster(\"local[*]\").setAppName(\"BXProject\")\n",
    "sc = SparkContext.getOrCreate(conf=conf) \n"
   ]
  },
  {
   "cell_type": "code",
   "execution_count": 15,
   "id": "91e2c5dc",
   "metadata": {},
   "outputs": [
    {
     "name": "stdout",
     "output_type": "stream",
     "text": [
      "======================================== System Information ========================================\n",
      "Hostname: DESKTOP-7I1UDRO\n",
      "Ip address: 192.168.1.4\n",
      "System: Windows\n",
      "Release: 10\n",
      "Version: 10.0.19041\n",
      "Machine: AMD64\n",
      "Processor: Intel64 Family 6 Model 58 Stepping 9, GenuineIntel\n"
     ]
    }
   ],
   "source": [
    "import socket\n",
    "import platform\n",
    "hostname = socket.gethostname()\n",
    "ip = socket.gethostbyname(hostname)\n",
    "uname = platform.uname()\n",
    "print(\"=\"*40, \"System Information\", \"=\"*40)\n",
    "print(f\"Hostname: {hostname}\")\n",
    "print(f\"Ip address: {ip}\")\n",
    "print(f\"System: {uname.system}\")\n",
    "print(f\"Release: {uname.release}\")\n",
    "print(f\"Version: {uname.version}\")\n",
    "print(f\"Machine: {uname.machine}\")\n",
    "print(f\"Processor: {uname.processor}\")"
   ]
  },
  {
   "cell_type": "code",
   "execution_count": 22,
   "id": "34ec3095",
   "metadata": {},
   "outputs": [],
   "source": [
    "from pyspark.sql import SQLContext\n",
    "import pandas as pd\n",
    "\n",
    "sql_sc = SQLContext(sc)\n",
    "pandas_df = pd.read_csv(\"C:/spark/BigDataProject/BX/BX-Users.csv\", encoding='cp1252')\n",
    "s_df = sql_sc.createDataFrame(pandas_df)\n",
    "\n",
    "\n"
   ]
  },
  {
   "cell_type": "code",
   "execution_count": 17,
   "id": "e09f73d6",
   "metadata": {},
   "outputs": [
    {
     "name": "stdout",
     "output_type": "stream",
     "text": [
      "^C\n"
     ]
    },
    {
     "name": "stderr",
     "output_type": "stream",
     "text": [
      "ERROR: Could not install packages due to an OSError: [Errno 2] No such file or directory: 'c:\\\\users\\\\nasuh\\\\appdata\\\\local\\\\programs\\\\python\\\\python37\\\\Lib\\\\site-packages\\\\pandas-1.3.5.dist-info\\\\INSTALLERpqyo_6i6.tmp'\n",
      "\n"
     ]
    },
    {
     "name": "stdout",
     "output_type": "stream",
     "text": [
      "Collecting pandas\n",
      "  Downloading pandas-1.3.5-cp37-cp37m-win_amd64.whl (10.0 MB)\n",
      "Requirement already satisfied: python-dateutil>=2.7.3 in c:\\users\\nasuh\\appdata\\local\\programs\\python\\python37\\lib\\site-packages (from pandas) (2.8.2)\n",
      "Collecting pytz>=2017.3\n",
      "  Downloading pytz-2021.3-py2.py3-none-any.whl (503 kB)\n",
      "Collecting numpy>=1.17.3\n",
      "  Downloading numpy-1.21.5-cp37-cp37m-win_amd64.whl (14.0 MB)\n",
      "Requirement already satisfied: six>=1.5 in c:\\users\\nasuh\\appdata\\local\\programs\\python\\python37\\lib\\site-packages (from python-dateutil>=2.7.3->pandas) (1.16.0)\n",
      "Installing collected packages: pytz, numpy, pandas\n"
     ]
    }
   ],
   "source": []
  }
 ],
 "metadata": {
  "kernelspec": {
   "display_name": "Python 3 (ipykernel)",
   "language": "python",
   "name": "python3"
  },
  "language_info": {
   "codemirror_mode": {
    "name": "ipython",
    "version": 3
   },
   "file_extension": ".py",
   "mimetype": "text/x-python",
   "name": "python",
   "nbconvert_exporter": "python",
   "pygments_lexer": "ipython3",
   "version": "3.7.4"
  }
 },
 "nbformat": 4,
 "nbformat_minor": 5
}
